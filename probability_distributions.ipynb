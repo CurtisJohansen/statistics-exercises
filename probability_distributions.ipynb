{
 "cells": [
  {
   "cell_type": "code",
   "execution_count": 78,
   "id": "5a490e5e",
   "metadata": {},
   "outputs": [],
   "source": [
    "import matplotlib.pyplot as plt\n",
    "import numpy as np\n",
    "from scipy import stats\n",
    "import pandas as pd\n",
    "#import viz # curriculum viz example code\n",
    "\n",
    "np.random.seed(123)"
   ]
  },
  {
   "cell_type": "code",
   "execution_count": null,
   "id": "7fcca67a",
   "metadata": {},
   "outputs": [],
   "source": [
    "# 1. A bank found that the average number of cars waiting during the noon hour at a drive-up window follows a \n",
    "#    Poisson distribution with a mean of 2 cars. Make a chart of this distribution and answer these \n",
    "#    questions concerning the probability of cars waiting at the drive-up window.\n",
    "\n",
    "# What is the probability that no cars drive up in the noon hour?\n",
    "# What is the probability that 3 or more cars come through the drive through?\n",
    "# How likely is it that the drive through gets at least 1 car?\n"
   ]
  },
  {
   "cell_type": "code",
   "execution_count": 97,
   "id": "ef9456a7",
   "metadata": {},
   "outputs": [
    {
     "data": {
      "text/plain": [
       "Text(0, 0.5, 'Probabiliy seeing x Cars')"
      ]
     },
     "execution_count": 97,
     "metadata": {},
     "output_type": "execute_result"
    },
    {
     "data": {
      "image/png": "[encoded data removed]",
      "text/plain": [
       "<Figure size 432x288 with 1 Axes>"
      ]
     },
     "metadata": {
      "needs_background": "light"
     },
     "output_type": "display_data"
    }
   ],
   "source": [
    "cars = 2       # mean\n",
    "x = range(0,10)\n",
    "y = stats.poisson(cars).pmf(x)\n",
    "\n",
    "plt.bar(x,y)\n",
    "plt.title('Cars waiting during the noon hour')\n",
    "plt.xlabel('Number of Cars')\n",
    "plt.ylabel('Probabiliy seeing x Cars')\n"
   ]
  },
  {
   "cell_type": "code",
   "execution_count": 93,
   "id": "638cdd9f",
   "metadata": {},
   "outputs": [
    {
     "data": {
      "text/plain": [
       "0.1353"
      ]
     },
     "execution_count": 93,
     "metadata": {},
     "output_type": "execute_result"
    }
   ],
   "source": [
    "# What is the probability that no cars drive up in the noon hour?\n",
    "\n",
    "stats.poisson(cars).pmf(0).round(4)"
   ]
  },
  {
   "cell_type": "code",
   "execution_count": 94,
   "id": "6178c070",
   "metadata": {},
   "outputs": [
    {
     "data": {
      "text/plain": [
       "0.3233"
      ]
     },
     "execution_count": 94,
     "metadata": {},
     "output_type": "execute_result"
    }
   ],
   "source": [
    "# What is the probability that 3 or more cars come through the drive through?\n",
    "\n",
    "stats.poisson(cars).sf(2).round(4)"
   ]
  },
  {
   "cell_type": "code",
   "execution_count": 95,
   "id": "372e92c1",
   "metadata": {},
   "outputs": [
    {
     "data": {
      "text/plain": [
       "0.8647"
      ]
     },
     "execution_count": 95,
     "metadata": {},
     "output_type": "execute_result"
    }
   ],
   "source": [
    "# How likely is it that the drive through gets at least 1 car?\n",
    "\n",
    "stats.poisson(cars).sf(0).round(4)"
   ]
  },
  {
   "cell_type": "code",
   "execution_count": null,
   "id": "53101689",
   "metadata": {},
   "outputs": [],
   "source": []
  },
  {
   "cell_type": "code",
   "execution_count": 189,
   "id": "c77786be",
   "metadata": {},
   "outputs": [],
   "source": [
    "# 2. Grades of State University graduates are normally distributed with a mean of 3.0  \n",
    "#    and a standard deviation of .3. Calculate the following:\n",
    "\n",
    "# What grade point average is required to be in the top 5% of the graduating class?\n",
    "\n",
    "# What GPA constitutes the bottom 15% of the class?\n",
    "\n",
    "# An eccentric alumnus left scholarship money for students in the third decile from the bottom of their class. \n",
    "# Determine the range of the third decile. Would a student with a 2.8 grade point average qualify for this scholarship?\n",
    "\n",
    "# If I have a GPA of 3.5, what percentile am I in?"
   ]
  },
  {
   "cell_type": "code",
   "execution_count": 196,
   "id": "f614afd9",
   "metadata": {},
   "outputs": [],
   "source": [
    "mean = 3.0\n",
    "\n",
    "std_dev = .3\n",
    "\n",
    "grades = stats.norm(mean, std_dev)"
   ]
  },
  {
   "cell_type": "code",
   "execution_count": 197,
   "id": "baf1e4e5",
   "metadata": {},
   "outputs": [
    {
     "data": {
      "text/plain": [
       "3.4934560880854417"
      ]
     },
     "execution_count": 197,
     "metadata": {},
     "output_type": "execute_result"
    }
   ],
   "source": [
    "# What grade point average is required to be in the top 5% of the graduating class?\n",
    "\n",
    "grades.isf(.05)"
   ]
  },
  {
   "cell_type": "code",
   "execution_count": 192,
   "id": "3588eedb",
   "metadata": {},
   "outputs": [
    {
     "data": {
      "text/plain": [
       "0.05037"
      ]
     },
     "execution_count": 192,
     "metadata": {},
     "output_type": "execute_result"
    }
   ],
   "source": [
    "# check with simulation\n",
    "\n",
    "(np.random.normal(3, 0.3, 100_000) > 3.4934560880854417).mean()"
   ]
  },
  {
   "cell_type": "code",
   "execution_count": 193,
   "id": "5d5fa118",
   "metadata": {},
   "outputs": [
    {
     "data": {
      "text/plain": [
       "2.689069983151863"
      ]
     },
     "execution_count": 193,
     "metadata": {},
     "output_type": "execute_result"
    }
   ],
   "source": [
    "# What GPA constitutes the bottom 15% of the class?\n",
    "\n",
    "grades.ppf(.15)"
   ]
  },
  {
   "cell_type": "code",
   "execution_count": 194,
   "id": "a4b720ed",
   "metadata": {},
   "outputs": [
    {
     "data": {
      "text/plain": [
       "0.14982"
      ]
     },
     "execution_count": 194,
     "metadata": {},
     "output_type": "execute_result"
    }
   ],
   "source": [
    "# check with simulation\n",
    "\n",
    "(np.random.normal(3, 0.3, 100_000) < 2.689069983151863).mean()"
   ]
  },
  {
   "cell_type": "code",
   "execution_count": 195,
   "id": "95843e9d",
   "metadata": {},
   "outputs": [
    {
     "data": {
      "text/plain": [
       "2.690438862869358"
      ]
     },
     "execution_count": 195,
     "metadata": {},
     "output_type": "execute_result"
    }
   ],
   "source": [
    "# simulation\n",
    "# the value at q = 0.15 will be the gpa\n",
    "\n",
    "np.quantile(np.random.normal(3, .3, 100_000), .15)"
   ]
  },
  {
   "cell_type": "code",
   "execution_count": 182,
   "id": "5ecbc1dc",
   "metadata": {},
   "outputs": [],
   "source": [
    "# An eccentric alumnus left scholarship money for students in the third decile from the bottom of their class. \n",
    "# Determine the range of the third decile. \n",
    "# Would a student with a 2.8 grade point average qualify for this scholarship? --> YES\n",
    "\n",
    "# third decile range is between 20% and 30% = 0.2 to 0.3"
   ]
  },
  {
   "cell_type": "code",
   "execution_count": 183,
   "id": "f504590a",
   "metadata": {},
   "outputs": [
    {
     "data": {
      "text/plain": [
       "2.842679846187588"
      ]
     },
     "execution_count": 183,
     "metadata": {},
     "output_type": "execute_result"
    }
   ],
   "source": [
    "# upper range\n",
    "\n",
    "grades.ppf(.3)"
   ]
  },
  {
   "cell_type": "code",
   "execution_count": 184,
   "id": "6219000f",
   "metadata": {},
   "outputs": [
    {
     "data": {
      "text/plain": [
       "2.8432710213105605"
      ]
     },
     "execution_count": 184,
     "metadata": {},
     "output_type": "execute_result"
    }
   ],
   "source": [
    "# upper range using simulation\n",
    "\n",
    "np.quantile(np.random.normal(3, .3, 100_000), .3)"
   ]
  },
  {
   "cell_type": "code",
   "execution_count": 185,
   "id": "b07650cc",
   "metadata": {},
   "outputs": [
    {
     "data": {
      "text/plain": [
       "2.7475136299281258"
      ]
     },
     "execution_count": 185,
     "metadata": {},
     "output_type": "execute_result"
    }
   ],
   "source": [
    "# lower range\n",
    "\n",
    "grades.ppf(.2)"
   ]
  },
  {
   "cell_type": "code",
   "execution_count": 186,
   "id": "9d7f99a7",
   "metadata": {},
   "outputs": [
    {
     "data": {
      "text/plain": [
       "2.7485981916806246"
      ]
     },
     "execution_count": 186,
     "metadata": {},
     "output_type": "execute_result"
    }
   ],
   "source": [
    "# lower range using simulation\n",
    "\n",
    "np.quantile(np.random.normal(3, .3, 100_000), .2)"
   ]
  },
  {
   "cell_type": "code",
   "execution_count": 187,
   "id": "9aa9c73c",
   "metadata": {},
   "outputs": [
    {
     "data": {
      "text/plain": [
       "0.9522"
      ]
     },
     "execution_count": 187,
     "metadata": {},
     "output_type": "execute_result"
    }
   ],
   "source": [
    "# If I have a GPA of 3.5, what percentile am I in?\n",
    "\n",
    "grades.cdf(3.5).round(4)"
   ]
  },
  {
   "cell_type": "code",
   "execution_count": 188,
   "id": "7d61c92d",
   "metadata": {},
   "outputs": [
    {
     "data": {
      "text/plain": [
       "0.95209"
      ]
     },
     "execution_count": 188,
     "metadata": {},
     "output_type": "execute_result"
    }
   ],
   "source": [
    "# check with simulation\n",
    "\n",
    "(np.random.normal(3, .3, 100_000) < 3.5).mean()"
   ]
  },
  {
   "cell_type": "code",
   "execution_count": null,
   "id": "e225347a",
   "metadata": {},
   "outputs": [],
   "source": []
  },
  {
   "cell_type": "code",
   "execution_count": null,
   "id": "b8993c85",
   "metadata": {},
   "outputs": [],
   "source": [
    "# 3. A marketing website has an average click-through rate of 2%. One day they observe 4326 visitors \n",
    "#    and 97 click-throughs. How likely is it that this many people or more click through?\n"
   ]
  },
  {
   "cell_type": "code",
   "execution_count": 199,
   "id": "a280e279",
   "metadata": {},
   "outputs": [],
   "source": [
    "n_trials = 4326\n",
    "\n",
    "p = .02\n",
    "\n",
    "click = stats.binom(n_trials, p)"
   ]
  },
  {
   "cell_type": "code",
   "execution_count": 200,
   "id": "03408cd9",
   "metadata": {},
   "outputs": [
    {
     "data": {
      "text/plain": [
       "0.13976"
      ]
     },
     "execution_count": 200,
     "metadata": {},
     "output_type": "execute_result"
    }
   ],
   "source": [
    "# How likely is it that this many people or more click through?\n",
    "\n",
    "click.sf(96).round(5)"
   ]
  },
  {
   "cell_type": "code",
   "execution_count": 61,
   "id": "ac07d999",
   "metadata": {},
   "outputs": [
    {
     "data": {
      "text/plain": [
       "0.1397582363130086"
      ]
     },
     "execution_count": 61,
     "metadata": {},
     "output_type": "execute_result"
    }
   ],
   "source": [
    "stats.binom(4326, .02).sf(96)"
   ]
  },
  {
   "cell_type": "code",
   "execution_count": 150,
   "id": "942d73fe",
   "metadata": {},
   "outputs": [
    {
     "data": {
      "text/plain": [
       "0.14141"
      ]
     },
     "execution_count": 150,
     "metadata": {},
     "output_type": "execute_result"
    }
   ],
   "source": [
    "# check with simulation\n",
    "\n",
    "n_rows = 100_000\n",
    "n_cols = 4326\n",
    "outcomes = [0,1]\n",
    "p_s = .02       # success\n",
    "p_f = .98       # fail\n",
    "data = np.random.choice(outcomes, (n_rows * n_cols),p = [p_f,p_s]).reshape(n_rows, n_cols)\n",
    "(data.sum(axis = 1) > 96).mean()"
   ]
  },
  {
   "cell_type": "code",
   "execution_count": null,
   "id": "29c90d6d",
   "metadata": {},
   "outputs": [],
   "source": []
  },
  {
   "cell_type": "code",
   "execution_count": null,
   "id": "b4fce0a3",
   "metadata": {},
   "outputs": [],
   "source": [
    "# 4. You are working on some statistics homework consisting of 100 questions where all of the answers are a \n",
    "#    probability rounded to the hundreths place. Looking to save time, you put down random probabilities as \n",
    "#    the answer to each question.\n",
    "\n",
    "# What is the probability that at least one of your first 60 answers is correct?\n"
   ]
  },
  {
   "cell_type": "code",
   "execution_count": 104,
   "id": "2b3f5aed",
   "metadata": {},
   "outputs": [],
   "source": [
    "n_trials = 60    # probability of getting one out of 60 right\n",
    "p = .01\n",
    "\n",
    "answers_correct = stats.binom(n_trials,p)"
   ]
  },
  {
   "cell_type": "code",
   "execution_count": 148,
   "id": "e96fa181",
   "metadata": {},
   "outputs": [
    {
     "data": {
      "text/plain": [
       "0.45284"
      ]
     },
     "execution_count": 148,
     "metadata": {},
     "output_type": "execute_result"
    }
   ],
   "source": [
    "answers_correct.sf(0).round(5)"
   ]
  },
  {
   "cell_type": "code",
   "execution_count": 151,
   "id": "6e9410bc",
   "metadata": {},
   "outputs": [
    {
     "data": {
      "text/plain": [
       "0.45038"
      ]
     },
     "execution_count": 151,
     "metadata": {},
     "output_type": "execute_result"
    }
   ],
   "source": [
    "# check with simulation\n",
    "\n",
    "n_rows = 100_000\n",
    "n_cols = 60\n",
    "outcomes = [0,1]\n",
    "p_s = .01       # success\n",
    "p_f = .99       # fail\n",
    "data = np.random.choice(outcomes, (n_rows * n_cols),p = [p_f,p_s]).reshape(n_rows, n_cols)\n",
    "(data.sum(axis = 1) > 0).mean()"
   ]
  },
  {
   "cell_type": "code",
   "execution_count": null,
   "id": "e55fa0b6",
   "metadata": {},
   "outputs": [],
   "source": []
  },
  {
   "cell_type": "code",
   "execution_count": 155,
   "id": "30696a6f",
   "metadata": {},
   "outputs": [],
   "source": [
    "# 5. The codeup staff tends to get upset when the student break area is not cleaned up. \n",
    "#    Suppose that there's a 3% chance that any one student cleans the break area when they visit it, \n",
    "#    and, on any given day, about 90% of the 3 active cohorts of 22 students visit the break area. \n",
    "\n",
    "# How likely is it that the break area gets cleaned up each day? \n",
    "\n",
    "# How likely is it that it goes two days without getting cleaned up? \n",
    "\n",
    "# All week?"
   ]
  },
  {
   "cell_type": "code",
   "execution_count": 156,
   "id": "a792b5cb",
   "metadata": {},
   "outputs": [],
   "source": [
    "n_trials = round(.9 * 3 * 22)\n",
    "p = .03"
   ]
  },
  {
   "cell_type": "code",
   "execution_count": 157,
   "id": "c7bee49b",
   "metadata": {},
   "outputs": [
    {
     "data": {
      "text/plain": [
       "0.8342199288437355"
      ]
     },
     "execution_count": 157,
     "metadata": {},
     "output_type": "execute_result"
    }
   ],
   "source": [
    "# How likely is it that the break area gets cleaned each day?\n",
    "\n",
    "stats.binom(n_trials, p).sf(0)"
   ]
  },
  {
   "cell_type": "code",
   "execution_count": 158,
   "id": "6589d8b1",
   "metadata": {},
   "outputs": [
    {
     "data": {
      "text/plain": [
       "0.83578"
      ]
     },
     "execution_count": 158,
     "metadata": {},
     "output_type": "execute_result"
    }
   ],
   "source": [
    "# using simulation\n",
    "\n",
    "n_rows = 100_000\n",
    "n_cols = round(.9 * 3 * 22)\n",
    "outcomes = [0,1]\n",
    "p_f = .97      \n",
    "p_s = .03      \n",
    "data = np.random.choice(outcomes, (n_rows * n_cols),p = [p_f,p_s]).reshape(n_rows, n_cols)\n",
    "(data.sum(axis = 1) > 0).mean()"
   ]
  },
  {
   "cell_type": "code",
   "execution_count": 164,
   "id": "e0ad4a5b",
   "metadata": {},
   "outputs": [
    {
     "data": {
      "text/plain": [
       "0.02748"
      ]
     },
     "execution_count": 164,
     "metadata": {},
     "output_type": "execute_result"
    }
   ],
   "source": [
    "# How likely is it that it goes two days without getting cleaned up? \n",
    "\n",
    "stats.binom(n_trials * 2, p).pmf(0).round(5)"
   ]
  },
  {
   "cell_type": "code",
   "execution_count": 165,
   "id": "a1e9b00a",
   "metadata": {},
   "outputs": [
    {
     "data": {
      "text/plain": [
       "0.02672"
      ]
     },
     "execution_count": 165,
     "metadata": {},
     "output_type": "execute_result"
    }
   ],
   "source": [
    "# using simulation\n",
    "\n",
    "n_rows = 100_000\n",
    "n_cols = round(2*(.9 * 3 * 22))\n",
    "outcomes = [0,1]\n",
    "p_f = .97\n",
    "p_s = .03 \n",
    "data = np.random.choice(outcomes, (n_rows * n_cols),p = [p_f,p_s]).reshape(n_rows, n_cols)\n",
    "(data.sum(axis = 1) == 0).mean()"
   ]
  },
  {
   "cell_type": "code",
   "execution_count": 166,
   "id": "fbd2a62b",
   "metadata": {},
   "outputs": [
    {
     "data": {
      "text/plain": [
       "0.00012521651388091353"
      ]
     },
     "execution_count": 166,
     "metadata": {},
     "output_type": "execute_result"
    }
   ],
   "source": [
    "# All week?\n",
    "\n",
    "stats.binom(n_trials * 5, p).pmf(0)"
   ]
  },
  {
   "cell_type": "code",
   "execution_count": 168,
   "id": "38378201",
   "metadata": {},
   "outputs": [
    {
     "data": {
      "text/plain": [
       "0.00012"
      ]
     },
     "execution_count": 168,
     "metadata": {},
     "output_type": "execute_result"
    }
   ],
   "source": [
    "# using simulation\n",
    "\n",
    "n_rows = 100_000\n",
    "n_cols = round(5*(.9 * 3 * 22))\n",
    "outcomes = [0,1]\n",
    "p_f = .97\n",
    "p_s = .03 \n",
    "data = np.random.choice(outcomes, (n_rows * n_cols),p = [p_f,p_s]).reshape(n_rows, n_cols)\n",
    "(data.sum(axis = 1) == 0).mean()"
   ]
  },
  {
   "cell_type": "code",
   "execution_count": null,
   "id": "2b76457f",
   "metadata": {},
   "outputs": [],
   "source": []
  },
  {
   "cell_type": "code",
   "execution_count": null,
   "id": "5726513a",
   "metadata": {},
   "outputs": [],
   "source": [
    "# 6. You want to get lunch at La Panaderia, but notice that the line is usually very long at lunchtime. \n",
    "#    After several weeks of careful observation, you notice that the average number of people in line when \n",
    "#    your lunch break starts is normally distributed with a mean of 15 and standard deviation of 3. \n",
    "#    If it takes 2 minutes for each person to order, and 10 minutes from ordering to getting your food, \n",
    "#    what is the likelihood that you have at least 15 minutes left to eat your food before you have to go back \n",
    "#    to class? Assume you have one hour for lunch, and ignore travel time to and from La Panaderia."
   ]
  },
  {
   "cell_type": "code",
   "execution_count": 68,
   "id": "e89e79fb",
   "metadata": {},
   "outputs": [
    {
     "data": {
      "text/plain": [
       "0.6914624612740131"
      ]
     },
     "execution_count": 68,
     "metadata": {},
     "output_type": "execute_result"
    }
   ],
   "source": [
    "# 2 minutes for each person to order\n",
    "# 10 minutes from ordering to get food\n",
    "# 15 minutes left to eat\n",
    "# 60 minutes for lunch\n",
    "# Max time without being late to class = 60 - 15 - 10 - 2 = 33 mins\n",
    "\n",
    "mean = 15 * 2   # convert from person to minutes\n",
    "std_dev = 3 * 2  # convert from person to minutess\n",
    "\n",
    "stats.norm(mean, std_dev).cdf(33)"
   ]
  },
  {
   "cell_type": "code",
   "execution_count": 121,
   "id": "35c2ea6d",
   "metadata": {},
   "outputs": [
    {
     "data": {
      "text/plain": [
       "0.69303"
      ]
     },
     "execution_count": 121,
     "metadata": {},
     "output_type": "execute_result"
    }
   ],
   "source": [
    "# check with simulation\n",
    "\n",
    "(np.random.normal(30,6,100_000) < 33).mean()"
   ]
  },
  {
   "cell_type": "code",
   "execution_count": 124,
   "id": "899f1ffb",
   "metadata": {},
   "outputs": [
    {
     "data": {
      "text/plain": [
       "0.6914624612740131"
      ]
     },
     "execution_count": 124,
     "metadata": {},
     "output_type": "execute_result"
    }
   ],
   "source": [
    "# not converting person to minutes\n",
    "# Max time without being late to class = 60 - 15 - 10 - 2 = 33 mins\n",
    "# 33 mins / 2 mins per person = 16.5\n",
    "\n",
    "mean = 15\n",
    "std_dev = 3\n",
    "stats.norm(mean, std_dev).cdf(16.5)"
   ]
  },
  {
   "cell_type": "code",
   "execution_count": null,
   "id": "755986d4",
   "metadata": {},
   "outputs": [],
   "source": []
  },
  {
   "cell_type": "code",
   "execution_count": null,
   "id": "d10c9a54",
   "metadata": {},
   "outputs": [],
   "source": [
    "# 7. Connect to the employees database and find the average salary of current employees, along with the \n",
    "#    standard deviation. For the following questions, calculate the answer based on modeling the employees \n",
    "#    salaries with a normal distribution defined by the calculated mean and standard deviation then compare \n",
    "#    this answer to the actual values present in the salaries dataset.\n",
    "\n",
    "# a. What percent of employees earn less than 60,000?\n",
    "# b. What percent of employees earn more than 95,000?\n",
    "# c. What percent of employees earn between 65,000 and 80,000?\n",
    "# d. What do the top 5% of employees make?"
   ]
  },
  {
   "cell_type": "code",
   "execution_count": 76,
   "id": "7f8c1659",
   "metadata": {},
   "outputs": [],
   "source": [
    "from env import host, user, password\n",
    "\n",
    "def get_db_url(database):\n",
    "    url = f'mysql+pymysql://{user}:{password}@{host}/{database}'\n",
    "    return url\n",
    "\n",
    "url = f'mysql+pymysql://{user}:{password}@{host}/employees'"
   ]
  },
  {
   "cell_type": "code",
   "execution_count": 79,
   "id": "bdc86d44",
   "metadata": {},
   "outputs": [
    {
     "data": {
      "text/html": [
       "<div>\n",
       "<style scoped>\n",
       "    .dataframe tbody tr th:only-of-type {\n",
       "        vertical-align: middle;\n",
       "    }\n",
       "\n",
       "    .dataframe tbody tr th {\n",
       "        vertical-align: top;\n",
       "    }\n",
       "\n",
       "    .dataframe thead th {\n",
       "        text-align: right;\n",
       "    }\n",
       "</style>\n",
       "<table border=\"1\" class=\"dataframe\">\n",
       "  <thead>\n",
       "    <tr style=\"text-align: right;\">\n",
       "      <th></th>\n",
       "      <th>emp_no</th>\n",
       "      <th>birth_date</th>\n",
       "      <th>first_name</th>\n",
       "      <th>last_name</th>\n",
       "      <th>gender</th>\n",
       "      <th>hire_date</th>\n",
       "    </tr>\n",
       "  </thead>\n",
       "  <tbody>\n",
       "    <tr>\n",
       "      <th>0</th>\n",
       "      <td>10051</td>\n",
       "      <td>1953-07-28</td>\n",
       "      <td>Hidefumi</td>\n",
       "      <td>Caine</td>\n",
       "      <td>M</td>\n",
       "      <td>1992-10-15</td>\n",
       "    </tr>\n",
       "    <tr>\n",
       "      <th>1</th>\n",
       "      <td>10052</td>\n",
       "      <td>1961-02-26</td>\n",
       "      <td>Heping</td>\n",
       "      <td>Nitsch</td>\n",
       "      <td>M</td>\n",
       "      <td>1988-05-21</td>\n",
       "    </tr>\n",
       "    <tr>\n",
       "      <th>2</th>\n",
       "      <td>10053</td>\n",
       "      <td>1954-09-13</td>\n",
       "      <td>Sanjiv</td>\n",
       "      <td>Zschoche</td>\n",
       "      <td>F</td>\n",
       "      <td>1986-02-04</td>\n",
       "    </tr>\n",
       "    <tr>\n",
       "      <th>3</th>\n",
       "      <td>10054</td>\n",
       "      <td>1957-04-04</td>\n",
       "      <td>Mayumi</td>\n",
       "      <td>Schueller</td>\n",
       "      <td>M</td>\n",
       "      <td>1995-03-13</td>\n",
       "    </tr>\n",
       "    <tr>\n",
       "      <th>4</th>\n",
       "      <td>10055</td>\n",
       "      <td>1956-06-06</td>\n",
       "      <td>Georgy</td>\n",
       "      <td>Dredge</td>\n",
       "      <td>M</td>\n",
       "      <td>1992-04-27</td>\n",
       "    </tr>\n",
       "  </tbody>\n",
       "</table>\n",
       "</div>"
      ],
      "text/plain": [
       "   emp_no  birth_date first_name  last_name gender   hire_date\n",
       "0   10051  1953-07-28   Hidefumi      Caine      M  1992-10-15\n",
       "1   10052  1961-02-26     Heping     Nitsch      M  1988-05-21\n",
       "2   10053  1954-09-13     Sanjiv   Zschoche      F  1986-02-04\n",
       "3   10054  1957-04-04     Mayumi  Schueller      M  1995-03-13\n",
       "4   10055  1956-06-06     Georgy     Dredge      M  1992-04-27"
      ]
     },
     "execution_count": 79,
     "metadata": {},
     "output_type": "execute_result"
    }
   ],
   "source": [
    "pd.read_sql('SELECT * FROM employees LIMIT 5 OFFSET 50', get_db_url('employees'))"
   ]
  },
  {
   "cell_type": "code",
   "execution_count": 80,
   "id": "f4c59d03",
   "metadata": {},
   "outputs": [
    {
     "data": {
      "text/html": [
       "<div>\n",
       "<style scoped>\n",
       "    .dataframe tbody tr th:only-of-type {\n",
       "        vertical-align: middle;\n",
       "    }\n",
       "\n",
       "    .dataframe tbody tr th {\n",
       "        vertical-align: top;\n",
       "    }\n",
       "\n",
       "    .dataframe thead th {\n",
       "        text-align: right;\n",
       "    }\n",
       "</style>\n",
       "<table border=\"1\" class=\"dataframe\">\n",
       "  <thead>\n",
       "    <tr style=\"text-align: right;\">\n",
       "      <th></th>\n",
       "      <th>emp_no</th>\n",
       "      <th>salary</th>\n",
       "      <th>from_date</th>\n",
       "      <th>to_date</th>\n",
       "    </tr>\n",
       "  </thead>\n",
       "  <tbody>\n",
       "    <tr>\n",
       "      <th>26434</th>\n",
       "      <td>42921</td>\n",
       "      <td>61135</td>\n",
       "      <td>2001-09-26</td>\n",
       "      <td>9999-01-01</td>\n",
       "    </tr>\n",
       "    <tr>\n",
       "      <th>127724</th>\n",
       "      <td>259386</td>\n",
       "      <td>75066</td>\n",
       "      <td>2001-08-28</td>\n",
       "      <td>9999-01-01</td>\n",
       "    </tr>\n",
       "    <tr>\n",
       "      <th>205019</th>\n",
       "      <td>456037</td>\n",
       "      <td>81316</td>\n",
       "      <td>2001-12-23</td>\n",
       "      <td>9999-01-01</td>\n",
       "    </tr>\n",
       "    <tr>\n",
       "      <th>47870</th>\n",
       "      <td>69666</td>\n",
       "      <td>101550</td>\n",
       "      <td>2001-09-19</td>\n",
       "      <td>9999-01-01</td>\n",
       "    </tr>\n",
       "    <tr>\n",
       "      <th>33232</th>\n",
       "      <td>51390</td>\n",
       "      <td>56041</td>\n",
       "      <td>2001-08-22</td>\n",
       "      <td>9999-01-01</td>\n",
       "    </tr>\n",
       "  </tbody>\n",
       "</table>\n",
       "</div>"
      ],
      "text/plain": [
       "        emp_no  salary   from_date     to_date\n",
       "26434    42921   61135  2001-09-26  9999-01-01\n",
       "127724  259386   75066  2001-08-28  9999-01-01\n",
       "205019  456037   81316  2001-12-23  9999-01-01\n",
       "47870    69666  101550  2001-09-19  9999-01-01\n",
       "33232    51390   56041  2001-08-22  9999-01-01"
      ]
     },
     "execution_count": 80,
     "metadata": {},
     "output_type": "execute_result"
    }
   ],
   "source": [
    "curr_emp_df = pd.read_sql('SELECT * FROM salaries WHERE to_date > now()', url)\n",
    "curr_emp_df.sample(5)"
   ]
  },
  {
   "cell_type": "code",
   "execution_count": 83,
   "id": "5ab00932",
   "metadata": {},
   "outputs": [
    {
     "data": {
      "text/plain": [
       "(240124, 4)"
      ]
     },
     "execution_count": 83,
     "metadata": {},
     "output_type": "execute_result"
    }
   ],
   "source": [
    "curr_emp_df.shape"
   ]
  },
  {
   "cell_type": "code",
   "execution_count": 81,
   "id": "f0860d41",
   "metadata": {
    "scrolled": true
   },
   "outputs": [
    {
     "data": {
      "text/html": [
       "<div>\n",
       "<style scoped>\n",
       "    .dataframe tbody tr th:only-of-type {\n",
       "        vertical-align: middle;\n",
       "    }\n",
       "\n",
       "    .dataframe tbody tr th {\n",
       "        vertical-align: top;\n",
       "    }\n",
       "\n",
       "    .dataframe thead th {\n",
       "        text-align: right;\n",
       "    }\n",
       "</style>\n",
       "<table border=\"1\" class=\"dataframe\">\n",
       "  <thead>\n",
       "    <tr style=\"text-align: right;\">\n",
       "      <th></th>\n",
       "      <th>emp_no</th>\n",
       "      <th>salary</th>\n",
       "    </tr>\n",
       "  </thead>\n",
       "  <tbody>\n",
       "    <tr>\n",
       "      <th>count</th>\n",
       "      <td>240124.000000</td>\n",
       "      <td>240124.000000</td>\n",
       "    </tr>\n",
       "    <tr>\n",
       "      <th>mean</th>\n",
       "      <td>253080.615365</td>\n",
       "      <td>72012.235857</td>\n",
       "    </tr>\n",
       "    <tr>\n",
       "      <th>std</th>\n",
       "      <td>161853.087323</td>\n",
       "      <td>17309.995380</td>\n",
       "    </tr>\n",
       "    <tr>\n",
       "      <th>min</th>\n",
       "      <td>10001.000000</td>\n",
       "      <td>38623.000000</td>\n",
       "    </tr>\n",
       "    <tr>\n",
       "      <th>25%</th>\n",
       "      <td>84878.750000</td>\n",
       "      <td>59048.750000</td>\n",
       "    </tr>\n",
       "    <tr>\n",
       "      <th>50%</th>\n",
       "      <td>249792.500000</td>\n",
       "      <td>69805.000000</td>\n",
       "    </tr>\n",
       "    <tr>\n",
       "      <th>75%</th>\n",
       "      <td>424895.250000</td>\n",
       "      <td>82546.000000</td>\n",
       "    </tr>\n",
       "    <tr>\n",
       "      <th>max</th>\n",
       "      <td>499999.000000</td>\n",
       "      <td>158220.000000</td>\n",
       "    </tr>\n",
       "  </tbody>\n",
       "</table>\n",
       "</div>"
      ],
      "text/plain": [
       "              emp_no         salary\n",
       "count  240124.000000  240124.000000\n",
       "mean   253080.615365   72012.235857\n",
       "std    161853.087323   17309.995380\n",
       "min     10001.000000   38623.000000\n",
       "25%     84878.750000   59048.750000\n",
       "50%    249792.500000   69805.000000\n",
       "75%    424895.250000   82546.000000\n",
       "max    499999.000000  158220.000000"
      ]
     },
     "execution_count": 81,
     "metadata": {},
     "output_type": "execute_result"
    }
   ],
   "source": [
    "curr_emp_df.describe()"
   ]
  },
  {
   "cell_type": "code",
   "execution_count": 84,
   "id": "bd062054",
   "metadata": {},
   "outputs": [],
   "source": [
    "mean = curr_emp_df.salary.mean()\n",
    "std_dev = curr_emp_df.salary.std()"
   ]
  },
  {
   "cell_type": "code",
   "execution_count": 85,
   "id": "bb804e9a",
   "metadata": {},
   "outputs": [
    {
     "data": {
      "text/plain": [
       "0.24385742480214423"
      ]
     },
     "execution_count": 85,
     "metadata": {},
     "output_type": "execute_result"
    }
   ],
   "source": [
    "# a. What percent of employees earn less than 60,000?\n",
    "\n",
    "stats.norm(mean, std_dev).cdf(60000)"
   ]
  },
  {
   "cell_type": "code",
   "execution_count": 86,
   "id": "10858563",
   "metadata": {},
   "outputs": [
    {
     "data": {
      "text/plain": [
       "0.09208819199804053"
      ]
     },
     "execution_count": 86,
     "metadata": {},
     "output_type": "execute_result"
    }
   ],
   "source": [
    "# b. What percent of employees earn more than 95,000?\n",
    "\n",
    "stats.norm(mean, std_dev).sf(95000)"
   ]
  },
  {
   "cell_type": "code",
   "execution_count": 91,
   "id": "bbbd608e",
   "metadata": {},
   "outputs": [
    {
     "data": {
      "text/plain": [
       "array([0.33506057])"
      ]
     },
     "execution_count": 91,
     "metadata": {},
     "output_type": "execute_result"
    }
   ],
   "source": [
    "# c. What percent of employees earn between 65,000 and 80,000?\n",
    "\n",
    "np.diff(stats.norm(mean, std_dev).cdf([65000, 80000]))"
   ]
  },
  {
   "cell_type": "code",
   "execution_count": 88,
   "id": "55a51a6a",
   "metadata": {},
   "outputs": [
    {
     "data": {
      "text/plain": [
       "100484.64454102777"
      ]
     },
     "execution_count": 88,
     "metadata": {},
     "output_type": "execute_result"
    }
   ],
   "source": [
    "# d. What do the top 5% of employees make?\n",
    "\n",
    "stats.norm(mean, std_dev).isf(.05)"
   ]
  },
  {
   "cell_type": "code",
   "execution_count": null,
   "id": "90441440",
   "metadata": {},
   "outputs": [],
   "source": []
  }
 ],
 "metadata": {
  "kernelspec": {
   "display_name": "Python 3",
   "language": "python",
   "name": "python3"
  },
  "language_info": {
   "codemirror_mode": {
    "name": "ipython",
    "version": 3
   },
   "file_extension": ".py",
   "mimetype": "text/x-python",
   "name": "python",
   "nbconvert_exporter": "python",
   "pygments_lexer": "ipython3",
   "version": "3.8.8"
  }
 },
 "nbformat": 4,
 "nbformat_minor": 5
}
