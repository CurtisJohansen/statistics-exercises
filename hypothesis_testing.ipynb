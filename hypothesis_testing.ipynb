{
 "cells": [
  {
   "cell_type": "code",
   "execution_count": 26,
   "id": "e0c4f13d",
   "metadata": {},
   "outputs": [],
   "source": [
    "from math import sqrt\n",
    "from scipy import stats\n",
    "from pydataset import data\n",
    "%matplotlib inline\n",
    "import matplotlib.pyplot as plt\n",
    "import numpy as np\n",
    "import pandas as pd\n",
    "#import viz # curriculum visualization examples\n",
    "import seaborn as sns"
   ]
  },
  {
   "cell_type": "code",
   "execution_count": null,
   "id": "d49a51fd",
   "metadata": {},
   "outputs": [],
   "source": []
  },
  {
   "cell_type": "markdown",
   "id": "36143200",
   "metadata": {},
   "source": [
    " For each of the following questions, formulate a null and alternative hypothesis (be as specific as you can be), \n",
    " then give an example of what a true positive, true negative, type I and type II errors would look like. \n",
    " Note that some of the questions are intentionally phrased in a vague way. \n",
    " It is your job to reword these as more precise questions that could be tested.\n",
    "\n",
    " 1. Has the network latency gone up since we switched internet service providers?\n",
    " 2. Is the website redesign any good?\n",
    " 3. Is our television ad driving more sales?\n",
    "\n",
    " Null hypothesis = $H_{0}$\n",
    "\n",
    " Alternative hypothesis = $H_{a}$"
   ]
  },
  {
   "cell_type": "code",
   "execution_count": null,
   "id": "7635c310",
   "metadata": {},
   "outputs": [],
   "source": [
    "# 1. Has the network latency gone up since we switched internet service providers?\n",
    "\n",
    "# Reworded: Is the network latancy higher with the new internet service provider?\n",
    "\n",
    "\n",
    "# Null hypothesis: Network latency has not changed since switching service providers\n",
    "    \n",
    "# Alternative hypothesis: Network latency has increased since switching service providers\n",
    "    \n",
    "# True Positive: Reject the null hypothesis, and the network latency has chanced since switching providers\n",
    "    \n",
    "# True Negative: Fail to reject the the null hypothesis, and the network latency has not chanced since switching providers\n",
    "    \n",
    "# Type I error (False Positive): Reject the null hypothesis, but switching provides does not change network latency\n",
    "    \n",
    "# Type II error (False Negative): Fail to reject the null hypothesis, but switching provides does change network latency\n",
    "    \n",
    "# Internet Service Provider (discrete)\n",
    "# Internet network latency (continuous)\n"
   ]
  },
  {
   "cell_type": "code",
   "execution_count": null,
   "id": "a6273961",
   "metadata": {},
   "outputs": [],
   "source": []
  },
  {
   "cell_type": "code",
   "execution_count": null,
   "id": "942aff3c",
   "metadata": {},
   "outputs": [],
   "source": [
    "# 2. Is the website redesign any good?\n",
    "\n",
    "# Reworded: Has the click though rate improved since the website redesign?\n",
    "\n",
    "\n",
    "# Null hypothesis: the click though rate has not changed since the website redesign\n",
    "    \n",
    "# Alternative hypothesis: the click though ratet has increased since the website redesign\n",
    "    \n",
    "# True Positive: Reject the null hypothesis, data shows there is a difference in the click though rate since the website redesign \n",
    "    \n",
    "# True Negative: Fail to reject the the null hypothesis,data shows there is not a difference in the click though rate since the website redesign\n",
    "    \n",
    "# Type I error (False Positive): Reject the null hypothesis, data shows there is a difference in the click though rate since the website redesign \n",
    "    \n",
    "# Type II error (False Negative): Fail to reject the null hypothesis, data shows there is not a difference in the click though rate since the website redesign\n",
    "\n",
    "# Click though rate (continuous/numeric)\n",
    "# Website old vs. new (discrete)"
   ]
  },
  {
   "cell_type": "code",
   "execution_count": null,
   "id": "66605458",
   "metadata": {},
   "outputs": [],
   "source": []
  },
  {
   "cell_type": "code",
   "execution_count": null,
   "id": "9e0d8eb8",
   "metadata": {},
   "outputs": [],
   "source": [
    "# 3. Is our television ad driving more sales?\n",
    "\n",
    "# Reworded: Has sales revenue increased with the television ad campaign?\n",
    "\n",
    "\n",
    "# Null hypothesis: the television ad is not increasing sales\n",
    "\n",
    "# Alternative hypothesis: the television ad is increasing sales\n",
    "\n",
    "# True Positive: Reject the null hypothesis, data suggests that the ad campaign has increased sales \n",
    "\n",
    "# True Negative: Fail to reject the the null hypothesis, data suggests that the ad campaign has not increased sales\n",
    "\n",
    "# Type I error (False Positive): Reject the null hypothesis, data suggests that the ad campaign has increased sales\n",
    "\n",
    "# Type II error (False Negative): Fail to reject the null hypothesis, data suggests that the ad campaign has not increased sales\n",
    "    \n",
    "    \n",
    "# ad campaign \"time\" (continuous)\n",
    "# sales numbers (continous)   "
   ]
  },
  {
   "cell_type": "code",
   "execution_count": null,
   "id": "459a61f8",
   "metadata": {},
   "outputs": [],
   "source": []
  },
  {
   "cell_type": "code",
   "execution_count": null,
   "id": "94a135c3",
   "metadata": {},
   "outputs": [],
   "source": [
    "# T-Testing Exercises"
   ]
  },
  {
   "cell_type": "code",
   "execution_count": null,
   "id": "088e9343",
   "metadata": {},
   "outputs": [],
   "source": []
  },
  {
   "cell_type": "code",
   "execution_count": null,
   "id": "b7156aa6",
   "metadata": {},
   "outputs": [],
   "source": [
    "# Ace Realty wants to determine whether the average time it takes to sell homes is different for its two offices. \n",
    "\n",
    "# A sample of 40 sales from office #1 revealed a mean of 90 days and a standard deviation of 15 days. \n",
    "\n",
    "# A sample of 50 sales from office #2 revealed a mean of 100 days and a standard deviation of 20 days. \n",
    "\n",
    "# Use a .05 level of significance.\n",
    "\n",
    "# t is the t-score\n",
    "# p value is the probability"
   ]
  },
  {
   "cell_type": "code",
   "execution_count": null,
   "id": "05148b6c",
   "metadata": {},
   "outputs": [],
   "source": [
    "# Ho: There is no difference in time for home sales between office 1 and office 2\n",
    "\n",
    "# Ha: There is a difference in time for home sales between office 1 and office 2"
   ]
  },
  {
   "cell_type": "code",
   "execution_count": 2,
   "id": "6f0b2e98",
   "metadata": {},
   "outputs": [],
   "source": [
    "# Two sample, two tail test\n",
    "\n",
    "alpha = 0.05"
   ]
  },
  {
   "cell_type": "code",
   "execution_count": 3,
   "id": "a4bcd0fe",
   "metadata": {},
   "outputs": [],
   "source": [
    "# Office 1\n",
    "\n",
    "mean_1 = 90\n",
    "std_dev_1 = 15\n",
    "sample_1 = 40\n",
    "\n",
    "# Office 2\n",
    "\n",
    "mean_2 = 100\n",
    "std_dev_2 = 20\n",
    "sample_2 = 50\n"
   ]
  },
  {
   "cell_type": "code",
   "execution_count": 4,
   "id": "607d2979",
   "metadata": {},
   "outputs": [
    {
     "data": {
      "text/plain": [
       "(-2.7091418459143854, 0.00811206270346016)"
      ]
     },
     "execution_count": 4,
     "metadata": {},
     "output_type": "execute_result"
    }
   ],
   "source": [
    "t, p = stats.ttest_ind_from_stats(mean_1, std_dev_1, sample_1, mean_2, std_dev_2, sample_2, equal_var = False)\n",
    "t, p"
   ]
  },
  {
   "cell_type": "code",
   "execution_count": 5,
   "id": "f128e1e8",
   "metadata": {},
   "outputs": [
    {
     "data": {
      "text/plain": [
       "True"
      ]
     },
     "execution_count": 5,
     "metadata": {},
     "output_type": "execute_result"
    }
   ],
   "source": [
    "p < alpha"
   ]
  },
  {
   "cell_type": "code",
   "execution_count": 6,
   "id": "9ff92981",
   "metadata": {},
   "outputs": [
    {
     "name": "stdout",
     "output_type": "stream",
     "text": [
      "We reject the null hypothesis.\n"
     ]
    }
   ],
   "source": [
    "if p < alpha :\n",
    "     print(\"We reject the null hypothesis.\")\n",
    "else:\n",
    "    print(\"We fail to reject the null hypothesis\")"
   ]
  },
  {
   "cell_type": "code",
   "execution_count": null,
   "id": "496c99a0",
   "metadata": {},
   "outputs": [],
   "source": []
  },
  {
   "cell_type": "code",
   "execution_count": null,
   "id": "7024968a",
   "metadata": {},
   "outputs": [],
   "source": [
    "# Load the mpg dataset and use it to answer the following questions:\n",
    "\n",
    "# Is there a difference in fuel-efficiency in cars from 2008 vs 1999?\n",
    "\n",
    "# Are compact cars more fuel-efficient than the average car?\n",
    "\n",
    "# Do manual cars get better gas mileage than automatic cars?"
   ]
  },
  {
   "cell_type": "code",
   "execution_count": 9,
   "id": "d9995ca4",
   "metadata": {},
   "outputs": [
    {
     "data": {
      "text/html": [
       "<div>\n",
       "<style scoped>\n",
       "    .dataframe tbody tr th:only-of-type {\n",
       "        vertical-align: middle;\n",
       "    }\n",
       "\n",
       "    .dataframe tbody tr th {\n",
       "        vertical-align: top;\n",
       "    }\n",
       "\n",
       "    .dataframe thead th {\n",
       "        text-align: right;\n",
       "    }\n",
       "</style>\n",
       "<table border=\"1\" class=\"dataframe\">\n",
       "  <thead>\n",
       "    <tr style=\"text-align: right;\">\n",
       "      <th></th>\n",
       "      <th>manufacturer</th>\n",
       "      <th>model</th>\n",
       "      <th>displ</th>\n",
       "      <th>year</th>\n",
       "      <th>cyl</th>\n",
       "      <th>trans</th>\n",
       "      <th>drv</th>\n",
       "      <th>cty</th>\n",
       "      <th>hwy</th>\n",
       "      <th>fl</th>\n",
       "      <th>class</th>\n",
       "    </tr>\n",
       "  </thead>\n",
       "  <tbody>\n",
       "    <tr>\n",
       "      <th>1</th>\n",
       "      <td>audi</td>\n",
       "      <td>a4</td>\n",
       "      <td>1.8</td>\n",
       "      <td>1999</td>\n",
       "      <td>4</td>\n",
       "      <td>auto(l5)</td>\n",
       "      <td>f</td>\n",
       "      <td>18</td>\n",
       "      <td>29</td>\n",
       "      <td>p</td>\n",
       "      <td>compact</td>\n",
       "    </tr>\n",
       "    <tr>\n",
       "      <th>2</th>\n",
       "      <td>audi</td>\n",
       "      <td>a4</td>\n",
       "      <td>1.8</td>\n",
       "      <td>1999</td>\n",
       "      <td>4</td>\n",
       "      <td>manual(m5)</td>\n",
       "      <td>f</td>\n",
       "      <td>21</td>\n",
       "      <td>29</td>\n",
       "      <td>p</td>\n",
       "      <td>compact</td>\n",
       "    </tr>\n",
       "    <tr>\n",
       "      <th>3</th>\n",
       "      <td>audi</td>\n",
       "      <td>a4</td>\n",
       "      <td>2.0</td>\n",
       "      <td>2008</td>\n",
       "      <td>4</td>\n",
       "      <td>manual(m6)</td>\n",
       "      <td>f</td>\n",
       "      <td>20</td>\n",
       "      <td>31</td>\n",
       "      <td>p</td>\n",
       "      <td>compact</td>\n",
       "    </tr>\n",
       "    <tr>\n",
       "      <th>4</th>\n",
       "      <td>audi</td>\n",
       "      <td>a4</td>\n",
       "      <td>2.0</td>\n",
       "      <td>2008</td>\n",
       "      <td>4</td>\n",
       "      <td>auto(av)</td>\n",
       "      <td>f</td>\n",
       "      <td>21</td>\n",
       "      <td>30</td>\n",
       "      <td>p</td>\n",
       "      <td>compact</td>\n",
       "    </tr>\n",
       "    <tr>\n",
       "      <th>5</th>\n",
       "      <td>audi</td>\n",
       "      <td>a4</td>\n",
       "      <td>2.8</td>\n",
       "      <td>1999</td>\n",
       "      <td>6</td>\n",
       "      <td>auto(l5)</td>\n",
       "      <td>f</td>\n",
       "      <td>16</td>\n",
       "      <td>26</td>\n",
       "      <td>p</td>\n",
       "      <td>compact</td>\n",
       "    </tr>\n",
       "  </tbody>\n",
       "</table>\n",
       "</div>"
      ],
      "text/plain": [
       "  manufacturer model  displ  year  cyl       trans drv  cty  hwy fl    class\n",
       "1         audi    a4    1.8  1999    4    auto(l5)   f   18   29  p  compact\n",
       "2         audi    a4    1.8  1999    4  manual(m5)   f   21   29  p  compact\n",
       "3         audi    a4    2.0  2008    4  manual(m6)   f   20   31  p  compact\n",
       "4         audi    a4    2.0  2008    4    auto(av)   f   21   30  p  compact\n",
       "5         audi    a4    2.8  1999    6    auto(l5)   f   16   26  p  compact"
      ]
     },
     "execution_count": 9,
     "metadata": {},
     "output_type": "execute_result"
    }
   ],
   "source": [
    "df = data('mpg')\n",
    "df.head()"
   ]
  },
  {
   "cell_type": "code",
   "execution_count": null,
   "id": "aa6668d8",
   "metadata": {},
   "outputs": [],
   "source": [
    "# Is there a difference in fuel-efficiency in cars from 2008 vs 1999?\n",
    "\n",
    "# Ho: There is not a difference in fuel-efficiency in cars from 2008 and 1999\n",
    "\n",
    "# Ha: There is a difference in fuel-efficiency in cars from 2008 and 1999\n"
   ]
  },
  {
   "cell_type": "code",
   "execution_count": 29,
   "id": "5b928279",
   "metadata": {},
   "outputs": [
    {
     "data": {
      "text/html": [
       "<div>\n",
       "<style scoped>\n",
       "    .dataframe tbody tr th:only-of-type {\n",
       "        vertical-align: middle;\n",
       "    }\n",
       "\n",
       "    .dataframe tbody tr th {\n",
       "        vertical-align: top;\n",
       "    }\n",
       "\n",
       "    .dataframe thead th {\n",
       "        text-align: right;\n",
       "    }\n",
       "</style>\n",
       "<table border=\"1\" class=\"dataframe\">\n",
       "  <thead>\n",
       "    <tr style=\"text-align: right;\">\n",
       "      <th></th>\n",
       "      <th>manufacturer</th>\n",
       "      <th>model</th>\n",
       "      <th>displ</th>\n",
       "      <th>year</th>\n",
       "      <th>cyl</th>\n",
       "      <th>trans</th>\n",
       "      <th>drv</th>\n",
       "      <th>cty</th>\n",
       "      <th>hwy</th>\n",
       "      <th>fl</th>\n",
       "      <th>class</th>\n",
       "      <th>average_mileage</th>\n",
       "    </tr>\n",
       "  </thead>\n",
       "  <tbody>\n",
       "    <tr>\n",
       "      <th>112</th>\n",
       "      <td>hyundai</td>\n",
       "      <td>sonata</td>\n",
       "      <td>2.4</td>\n",
       "      <td>2008</td>\n",
       "      <td>4</td>\n",
       "      <td>manual(m5)</td>\n",
       "      <td>f</td>\n",
       "      <td>21</td>\n",
       "      <td>31</td>\n",
       "      <td>r</td>\n",
       "      <td>midsize</td>\n",
       "      <td>26.0</td>\n",
       "    </tr>\n",
       "    <tr>\n",
       "      <th>55</th>\n",
       "      <td>dodge</td>\n",
       "      <td>dakota pickup 4wd</td>\n",
       "      <td>4.7</td>\n",
       "      <td>2008</td>\n",
       "      <td>8</td>\n",
       "      <td>auto(l5)</td>\n",
       "      <td>4</td>\n",
       "      <td>9</td>\n",
       "      <td>12</td>\n",
       "      <td>e</td>\n",
       "      <td>pickup</td>\n",
       "      <td>10.5</td>\n",
       "    </tr>\n",
       "    <tr>\n",
       "      <th>206</th>\n",
       "      <td>toyota</td>\n",
       "      <td>toyota tacoma 4wd</td>\n",
       "      <td>4.0</td>\n",
       "      <td>2008</td>\n",
       "      <td>6</td>\n",
       "      <td>manual(m6)</td>\n",
       "      <td>4</td>\n",
       "      <td>15</td>\n",
       "      <td>18</td>\n",
       "      <td>r</td>\n",
       "      <td>pickup</td>\n",
       "      <td>16.5</td>\n",
       "    </tr>\n",
       "    <tr>\n",
       "      <th>99</th>\n",
       "      <td>ford</td>\n",
       "      <td>mustang</td>\n",
       "      <td>5.4</td>\n",
       "      <td>2008</td>\n",
       "      <td>8</td>\n",
       "      <td>manual(m6)</td>\n",
       "      <td>r</td>\n",
       "      <td>14</td>\n",
       "      <td>20</td>\n",
       "      <td>p</td>\n",
       "      <td>subcompact</td>\n",
       "      <td>17.0</td>\n",
       "    </tr>\n",
       "    <tr>\n",
       "      <th>230</th>\n",
       "      <td>volkswagen</td>\n",
       "      <td>passat</td>\n",
       "      <td>2.0</td>\n",
       "      <td>2008</td>\n",
       "      <td>4</td>\n",
       "      <td>auto(s6)</td>\n",
       "      <td>f</td>\n",
       "      <td>19</td>\n",
       "      <td>28</td>\n",
       "      <td>p</td>\n",
       "      <td>midsize</td>\n",
       "      <td>23.5</td>\n",
       "    </tr>\n",
       "    <tr>\n",
       "      <th>33</th>\n",
       "      <td>chevrolet</td>\n",
       "      <td>malibu</td>\n",
       "      <td>2.4</td>\n",
       "      <td>1999</td>\n",
       "      <td>4</td>\n",
       "      <td>auto(l4)</td>\n",
       "      <td>f</td>\n",
       "      <td>19</td>\n",
       "      <td>27</td>\n",
       "      <td>r</td>\n",
       "      <td>midsize</td>\n",
       "      <td>23.0</td>\n",
       "    </tr>\n",
       "    <tr>\n",
       "      <th>114</th>\n",
       "      <td>hyundai</td>\n",
       "      <td>sonata</td>\n",
       "      <td>2.5</td>\n",
       "      <td>1999</td>\n",
       "      <td>6</td>\n",
       "      <td>manual(m5)</td>\n",
       "      <td>f</td>\n",
       "      <td>18</td>\n",
       "      <td>26</td>\n",
       "      <td>r</td>\n",
       "      <td>midsize</td>\n",
       "      <td>22.0</td>\n",
       "    </tr>\n",
       "    <tr>\n",
       "      <th>133</th>\n",
       "      <td>land rover</td>\n",
       "      <td>range rover</td>\n",
       "      <td>4.4</td>\n",
       "      <td>2008</td>\n",
       "      <td>8</td>\n",
       "      <td>auto(s6)</td>\n",
       "      <td>4</td>\n",
       "      <td>12</td>\n",
       "      <td>18</td>\n",
       "      <td>r</td>\n",
       "      <td>suv</td>\n",
       "      <td>15.0</td>\n",
       "    </tr>\n",
       "    <tr>\n",
       "      <th>111</th>\n",
       "      <td>hyundai</td>\n",
       "      <td>sonata</td>\n",
       "      <td>2.4</td>\n",
       "      <td>2008</td>\n",
       "      <td>4</td>\n",
       "      <td>auto(l4)</td>\n",
       "      <td>f</td>\n",
       "      <td>21</td>\n",
       "      <td>30</td>\n",
       "      <td>r</td>\n",
       "      <td>midsize</td>\n",
       "      <td>25.5</td>\n",
       "    </tr>\n",
       "    <tr>\n",
       "      <th>167</th>\n",
       "      <td>subaru</td>\n",
       "      <td>impreza awd</td>\n",
       "      <td>2.2</td>\n",
       "      <td>1999</td>\n",
       "      <td>4</td>\n",
       "      <td>manual(m5)</td>\n",
       "      <td>4</td>\n",
       "      <td>19</td>\n",
       "      <td>26</td>\n",
       "      <td>r</td>\n",
       "      <td>subcompact</td>\n",
       "      <td>22.5</td>\n",
       "    </tr>\n",
       "  </tbody>\n",
       "</table>\n",
       "</div>"
      ],
      "text/plain": [
       "    manufacturer              model  displ  year  cyl       trans drv  cty  \\\n",
       "112      hyundai             sonata    2.4  2008    4  manual(m5)   f   21   \n",
       "55         dodge  dakota pickup 4wd    4.7  2008    8    auto(l5)   4    9   \n",
       "206       toyota  toyota tacoma 4wd    4.0  2008    6  manual(m6)   4   15   \n",
       "99          ford            mustang    5.4  2008    8  manual(m6)   r   14   \n",
       "230   volkswagen             passat    2.0  2008    4    auto(s6)   f   19   \n",
       "33     chevrolet             malibu    2.4  1999    4    auto(l4)   f   19   \n",
       "114      hyundai             sonata    2.5  1999    6  manual(m5)   f   18   \n",
       "133   land rover        range rover    4.4  2008    8    auto(s6)   4   12   \n",
       "111      hyundai             sonata    2.4  2008    4    auto(l4)   f   21   \n",
       "167       subaru        impreza awd    2.2  1999    4  manual(m5)   4   19   \n",
       "\n",
       "     hwy fl       class  average_mileage  \n",
       "112   31  r     midsize             26.0  \n",
       "55    12  e      pickup             10.5  \n",
       "206   18  r      pickup             16.5  \n",
       "99    20  p  subcompact             17.0  \n",
       "230   28  p     midsize             23.5  \n",
       "33    27  r     midsize             23.0  \n",
       "114   26  r     midsize             22.0  \n",
       "133   18  r         suv             15.0  \n",
       "111   30  r     midsize             25.5  \n",
       "167   26  r  subcompact             22.5  "
      ]
     },
     "execution_count": 29,
     "metadata": {},
     "output_type": "execute_result"
    }
   ],
   "source": [
    "# making new column for average mileage \n",
    "\n",
    "df['average_mileage'] = (df.hwy + df.cty) / 2\n",
    "df.sample(10)"
   ]
  },
  {
   "cell_type": "code",
   "execution_count": 13,
   "id": "4865ed7e",
   "metadata": {},
   "outputs": [
    {
     "data": {
      "text/plain": [
       "3     25.5\n",
       "4     25.5\n",
       "7     22.5\n",
       "10    24.0\n",
       "11    23.0\n",
       "Name: average_mileage, dtype: float64"
      ]
     },
     "execution_count": 13,
     "metadata": {},
     "output_type": "execute_result"
    }
   ],
   "source": [
    "# Making new variables\n",
    "\n",
    "cars_08 = df.average_mileage[df.year == 2008]\n",
    "cars_08.head()"
   ]
  },
  {
   "cell_type": "code",
   "execution_count": 15,
   "id": "fea9cfa0",
   "metadata": {},
   "outputs": [
    {
     "data": {
      "text/plain": [
       "1    23.5\n",
       "2    25.0\n",
       "5    21.0\n",
       "6    22.0\n",
       "8    22.0\n",
       "Name: average_mileage, dtype: float64"
      ]
     },
     "execution_count": 15,
     "metadata": {},
     "output_type": "execute_result"
    }
   ],
   "source": [
    "# Making new variables\n",
    "\n",
    "cars_99 = df.average_mileage[df.year == 1999]\n",
    "cars_99.head()"
   ]
  },
  {
   "cell_type": "code",
   "execution_count": 16,
   "id": "82928cfb",
   "metadata": {},
   "outputs": [
    {
     "data": {
      "text/plain": [
       "(24.097480106100797, 27.122605363984682)"
      ]
     },
     "execution_count": 16,
     "metadata": {},
     "output_type": "execute_result"
    }
   ],
   "source": [
    "cars_08.var(), cars_99.var()"
   ]
  },
  {
   "cell_type": "code",
   "execution_count": 70,
   "id": "280bc31d",
   "metadata": {},
   "outputs": [
    {
     "data": {
      "text/plain": [
       "(-0.21960177245940962, 0.8263750772060638, 0.05)"
      ]
     },
     "execution_count": 70,
     "metadata": {},
     "output_type": "execute_result"
    }
   ],
   "source": [
    "t, p = stats.ttest_ind(cars_08, cars_99, equal_var = False)\n",
    "\n",
    "t, p, alpha"
   ]
  },
  {
   "cell_type": "code",
   "execution_count": 71,
   "id": "26a7a48e",
   "metadata": {},
   "outputs": [
    {
     "name": "stdout",
     "output_type": "stream",
     "text": [
      "We fail to reject the null hypothesis\n"
     ]
    }
   ],
   "source": [
    "if p < alpha:\n",
    "        print(\"We reject the null hypothesis.\")\n",
    "else:\n",
    "    print(\"We fail to reject the null hypothesis\")"
   ]
  },
  {
   "cell_type": "code",
   "execution_count": null,
   "id": "bff06155",
   "metadata": {},
   "outputs": [],
   "source": []
  },
  {
   "cell_type": "code",
   "execution_count": null,
   "id": "56928e42",
   "metadata": {},
   "outputs": [],
   "source": [
    "# Are compact cars more fuel-efficient than the average car?\n",
    "\n",
    "# Ho: There is not a difference in fuel-efficiency between compact cars and avgerage cars\n",
    "\n",
    "# Ha: Compact cars are more fuel-efficiency than avgerage cars"
   ]
  },
  {
   "cell_type": "code",
   "execution_count": 35,
   "id": "e5676385",
   "metadata": {},
   "outputs": [
    {
     "data": {
      "text/plain": [
       "['compact', 'midsize', 'suv', '2seater', 'minivan', 'pickup', 'subcompact']"
      ]
     },
     "execution_count": 35,
     "metadata": {},
     "output_type": "execute_result"
    }
   ],
   "source": [
    "list(df['class'].unique())"
   ]
  },
  {
   "cell_type": "code",
   "execution_count": 37,
   "id": "6920e882",
   "metadata": {},
   "outputs": [
    {
     "data": {
      "text/plain": [
       "suv           62\n",
       "compact       47\n",
       "midsize       41\n",
       "subcompact    35\n",
       "pickup        33\n",
       "minivan       11\n",
       "2seater        5\n",
       "Name: class, dtype: int64"
      ]
     },
     "execution_count": 37,
     "metadata": {},
     "output_type": "execute_result"
    }
   ],
   "source": [
    "# Check sample size\n",
    "\n",
    "df['class'].value_counts()"
   ]
  },
  {
   "cell_type": "code",
   "execution_count": 66,
   "id": "b77ce06a",
   "metadata": {},
   "outputs": [
    {
     "data": {
      "text/plain": [
       "24.21276595744681"
      ]
     },
     "execution_count": 66,
     "metadata": {},
     "output_type": "execute_result"
    }
   ],
   "source": [
    "# Making new variables\n",
    "\n",
    "compact = df.average_mileage[df[\"class\"] == \"compact\"]\n",
    "compact.mean()"
   ]
  },
  {
   "cell_type": "code",
   "execution_count": 67,
   "id": "ad148fab",
   "metadata": {},
   "outputs": [
    {
     "data": {
      "text/plain": [
       "20.14957264957265"
      ]
     },
     "execution_count": 67,
     "metadata": {},
     "output_type": "execute_result"
    }
   ],
   "source": [
    "# Making new variables\n",
    "\n",
    "average_car = df[\"average_mileage\"].mean()\n",
    "average_car"
   ]
  },
  {
   "cell_type": "code",
   "execution_count": 68,
   "id": "3504d400",
   "metadata": {},
   "outputs": [
    {
     "data": {
      "text/plain": [
       "(7.896888573132535, 2.0992818971585668e-10, 0.05)"
      ]
     },
     "execution_count": 68,
     "metadata": {},
     "output_type": "execute_result"
    }
   ],
   "source": [
    "t,p = stats.ttest_1samp(compact, average_car)\n",
    "t, p/2 , alpha"
   ]
  },
  {
   "cell_type": "code",
   "execution_count": 69,
   "id": "a25e253c",
   "metadata": {},
   "outputs": [
    {
     "name": "stdout",
     "output_type": "stream",
     "text": [
      "We reject the null hypothesis.\n"
     ]
    }
   ],
   "source": [
    "if (p/2 < alpha) & (t > 0):\n",
    "    print(\"We reject the null hypothesis.\")\n",
    "else:\n",
    "    print(\"We fail to reject the null hypothesis\")"
   ]
  },
  {
   "cell_type": "code",
   "execution_count": null,
   "id": "0af662b5",
   "metadata": {},
   "outputs": [],
   "source": []
  },
  {
   "cell_type": "code",
   "execution_count": null,
   "id": "307956b5",
   "metadata": {},
   "outputs": [],
   "source": [
    "# Do manual cars get better gas mileage than automatic cars?\n",
    "\n",
    "# Ho: There is not a difference in the average gas mileage between manual and automatic cars\n",
    "\n",
    "# Ha: Manual cars have better average gas mileage than automatic cars\n",
    "\n",
    "# 2 sample, independent test, one tail"
   ]
  },
  {
   "cell_type": "code",
   "execution_count": 46,
   "id": "ae4a63ff",
   "metadata": {},
   "outputs": [
    {
     "data": {
      "text/plain": [
       "2     25.0\n",
       "3     25.5\n",
       "6     22.0\n",
       "8     22.0\n",
       "10    24.0\n",
       "Name: average_mileage, dtype: float64"
      ]
     },
     "execution_count": 46,
     "metadata": {},
     "output_type": "execute_result"
    }
   ],
   "source": [
    "# Making new variables\n",
    "\n",
    "manual_car = df['average_mileage'][df.trans.str.contains('manual')]\n",
    "manual_car.head()"
   ]
  },
  {
   "cell_type": "code",
   "execution_count": 47,
   "id": "aea8cf6e",
   "metadata": {},
   "outputs": [
    {
     "data": {
      "text/plain": [
       "1    23.5\n",
       "4    25.5\n",
       "5    21.0\n",
       "7    22.5\n",
       "9    20.5\n",
       "Name: average_mileage, dtype: float64"
      ]
     },
     "execution_count": 47,
     "metadata": {},
     "output_type": "execute_result"
    }
   ],
   "source": [
    "# Making new variables\n",
    "\n",
    "automatic_car = df['average_mileage'][df.trans.str.contains('auto')]\n",
    "automatic_car.head()"
   ]
  },
  {
   "cell_type": "code",
   "execution_count": 48,
   "id": "6a4e3041",
   "metadata": {},
   "outputs": [
    {
     "data": {
      "text/plain": [
       "(77, 157)"
      ]
     },
     "execution_count": 48,
     "metadata": {},
     "output_type": "execute_result"
    }
   ],
   "source": [
    "# Counting amount in each variables\n",
    "\n",
    "manual_car.count(), automatic_car.count()"
   ]
  },
  {
   "cell_type": "code",
   "execution_count": 49,
   "id": "a2f35d4b",
   "metadata": {},
   "outputs": [
    {
     "data": {
      "text/plain": [
       "(26.635167464114826, 21.942777233382337)"
      ]
     },
     "execution_count": 49,
     "metadata": {},
     "output_type": "execute_result"
    }
   ],
   "source": [
    "# Looking at the variance \n",
    "\n",
    "manual_car.var(), automatic_car.var()"
   ]
  },
  {
   "cell_type": "code",
   "execution_count": 74,
   "id": "22ec74bb",
   "metadata": {},
   "outputs": [
    {
     "data": {
      "text/plain": [
       "(4.593437735750014, 7.154374401145683e-06, 0.05)"
      ]
     },
     "execution_count": 74,
     "metadata": {},
     "output_type": "execute_result"
    }
   ],
   "source": [
    "t, p = stats.ttest_ind(manual_car, automatic_car)\n",
    "\n",
    "t, p, alpha"
   ]
  },
  {
   "cell_type": "code",
   "execution_count": 75,
   "id": "10252c47",
   "metadata": {},
   "outputs": [
    {
     "name": "stdout",
     "output_type": "stream",
     "text": [
      "We reject the null hypothesis\n"
     ]
    }
   ],
   "source": [
    "if (p/2 < alpha) & (t > 0):\n",
    "    print(\"We reject the null hypothesis\")\n",
    "else:\n",
    "    print(\"We fail to reject the null hypothesis\")"
   ]
  },
  {
   "cell_type": "code",
   "execution_count": null,
   "id": "e73527ba",
   "metadata": {},
   "outputs": [],
   "source": []
  },
  {
   "cell_type": "code",
   "execution_count": null,
   "id": "346c614d",
   "metadata": {},
   "outputs": [],
   "source": [
    "# Correlation Exercises"
   ]
  },
  {
   "cell_type": "code",
   "execution_count": null,
   "id": "85ed00d7",
   "metadata": {},
   "outputs": [],
   "source": []
  },
  {
   "cell_type": "code",
   "execution_count": null,
   "id": "ccee40c3",
   "metadata": {},
   "outputs": [],
   "source": [
    "# 1. Use the telco_churn data.\n",
    "\n",
    "# Does tenure correlate with monthly charges? \n",
    "# Total charges? \n",
    "# What happens if you control for phone and internet service?\n"
   ]
  },
  {
   "cell_type": "code",
   "execution_count": 76,
   "id": "ca2fc1ee",
   "metadata": {},
   "outputs": [],
   "source": [
    "telco_df = pd.read_csv('Cust_Churn_Telco.csv')"
   ]
  },
  {
   "cell_type": "code",
   "execution_count": 101,
   "id": "b95aa806",
   "metadata": {},
   "outputs": [],
   "source": [
    "# clean data of null values\n",
    "\n",
    "telco_df = telco_df.dropna()"
   ]
  },
  {
   "cell_type": "code",
   "execution_count": 102,
   "id": "16e0bbf8",
   "metadata": {},
   "outputs": [
    {
     "name": "stdout",
     "output_type": "stream",
     "text": [
      "<class 'pandas.core.frame.DataFrame'>\n",
      "Int64Index: 7032 entries, 0 to 7042\n",
      "Data columns (total 21 columns):\n",
      " #   Column            Non-Null Count  Dtype  \n",
      "---  ------            --------------  -----  \n",
      " 0   customerID        7032 non-null   object \n",
      " 1   gender            7032 non-null   object \n",
      " 2   SeniorCitizen     7032 non-null   int64  \n",
      " 3   Partner           7032 non-null   object \n",
      " 4   Dependents        7032 non-null   object \n",
      " 5   tenure            7032 non-null   int64  \n",
      " 6   PhoneService      7032 non-null   object \n",
      " 7   MultipleLines     7032 non-null   object \n",
      " 8   InternetService   7032 non-null   object \n",
      " 9   OnlineSecurity    7032 non-null   object \n",
      " 10  OnlineBackup      7032 non-null   object \n",
      " 11  DeviceProtection  7032 non-null   object \n",
      " 12  TechSupport       7032 non-null   object \n",
      " 13  StreamingTV       7032 non-null   object \n",
      " 14  StreamingMovies   7032 non-null   object \n",
      " 15  Contract          7032 non-null   object \n",
      " 16  PaperlessBilling  7032 non-null   object \n",
      " 17  PaymentMethod     7032 non-null   object \n",
      " 18  MonthlyCharges    7032 non-null   float64\n",
      " 19  TotalCharges      7032 non-null   float64\n",
      " 20  Churn             7032 non-null   object \n",
      "dtypes: float64(2), int64(2), object(17)\n",
      "memory usage: 1.2+ MB\n"
     ]
    }
   ],
   "source": [
    "telco_df.info()"
   ]
  },
  {
   "cell_type": "code",
   "execution_count": 103,
   "id": "71fea7b4",
   "metadata": {},
   "outputs": [
    {
     "data": {
      "text/plain": [
       "(7032, 21)"
      ]
     },
     "execution_count": 103,
     "metadata": {},
     "output_type": "execute_result"
    }
   ],
   "source": [
    "telco_df.shape"
   ]
  },
  {
   "cell_type": "code",
   "execution_count": 104,
   "id": "057feb01",
   "metadata": {
    "scrolled": true
   },
   "outputs": [
    {
     "data": {
      "text/html": [
       "<div>\n",
       "<style scoped>\n",
       "    .dataframe tbody tr th:only-of-type {\n",
       "        vertical-align: middle;\n",
       "    }\n",
       "\n",
       "    .dataframe tbody tr th {\n",
       "        vertical-align: top;\n",
       "    }\n",
       "\n",
       "    .dataframe thead th {\n",
       "        text-align: right;\n",
       "    }\n",
       "</style>\n",
       "<table border=\"1\" class=\"dataframe\">\n",
       "  <thead>\n",
       "    <tr style=\"text-align: right;\">\n",
       "      <th></th>\n",
       "      <th>customerID</th>\n",
       "      <th>gender</th>\n",
       "      <th>SeniorCitizen</th>\n",
       "      <th>Partner</th>\n",
       "      <th>Dependents</th>\n",
       "      <th>tenure</th>\n",
       "      <th>PhoneService</th>\n",
       "      <th>MultipleLines</th>\n",
       "      <th>InternetService</th>\n",
       "      <th>OnlineSecurity</th>\n",
       "      <th>...</th>\n",
       "      <th>DeviceProtection</th>\n",
       "      <th>TechSupport</th>\n",
       "      <th>StreamingTV</th>\n",
       "      <th>StreamingMovies</th>\n",
       "      <th>Contract</th>\n",
       "      <th>PaperlessBilling</th>\n",
       "      <th>PaymentMethod</th>\n",
       "      <th>MonthlyCharges</th>\n",
       "      <th>TotalCharges</th>\n",
       "      <th>Churn</th>\n",
       "    </tr>\n",
       "  </thead>\n",
       "  <tbody>\n",
       "    <tr>\n",
       "      <th>0</th>\n",
       "      <td>7590-VHVEG</td>\n",
       "      <td>Female</td>\n",
       "      <td>0</td>\n",
       "      <td>Yes</td>\n",
       "      <td>No</td>\n",
       "      <td>1</td>\n",
       "      <td>No</td>\n",
       "      <td>No phone service</td>\n",
       "      <td>DSL</td>\n",
       "      <td>No</td>\n",
       "      <td>...</td>\n",
       "      <td>No</td>\n",
       "      <td>No</td>\n",
       "      <td>No</td>\n",
       "      <td>No</td>\n",
       "      <td>Month-to-month</td>\n",
       "      <td>Yes</td>\n",
       "      <td>Electronic check</td>\n",
       "      <td>29.85</td>\n",
       "      <td>29.85</td>\n",
       "      <td>No</td>\n",
       "    </tr>\n",
       "    <tr>\n",
       "      <th>1</th>\n",
       "      <td>5575-GNVDE</td>\n",
       "      <td>Male</td>\n",
       "      <td>0</td>\n",
       "      <td>No</td>\n",
       "      <td>No</td>\n",
       "      <td>34</td>\n",
       "      <td>Yes</td>\n",
       "      <td>No</td>\n",
       "      <td>DSL</td>\n",
       "      <td>Yes</td>\n",
       "      <td>...</td>\n",
       "      <td>Yes</td>\n",
       "      <td>No</td>\n",
       "      <td>No</td>\n",
       "      <td>No</td>\n",
       "      <td>One year</td>\n",
       "      <td>No</td>\n",
       "      <td>Mailed check</td>\n",
       "      <td>56.95</td>\n",
       "      <td>1889.50</td>\n",
       "      <td>No</td>\n",
       "    </tr>\n",
       "    <tr>\n",
       "      <th>2</th>\n",
       "      <td>3668-QPYBK</td>\n",
       "      <td>Male</td>\n",
       "      <td>0</td>\n",
       "      <td>No</td>\n",
       "      <td>No</td>\n",
       "      <td>2</td>\n",
       "      <td>Yes</td>\n",
       "      <td>No</td>\n",
       "      <td>DSL</td>\n",
       "      <td>Yes</td>\n",
       "      <td>...</td>\n",
       "      <td>No</td>\n",
       "      <td>No</td>\n",
       "      <td>No</td>\n",
       "      <td>No</td>\n",
       "      <td>Month-to-month</td>\n",
       "      <td>Yes</td>\n",
       "      <td>Mailed check</td>\n",
       "      <td>53.85</td>\n",
       "      <td>108.15</td>\n",
       "      <td>Yes</td>\n",
       "    </tr>\n",
       "    <tr>\n",
       "      <th>3</th>\n",
       "      <td>7795-CFOCW</td>\n",
       "      <td>Male</td>\n",
       "      <td>0</td>\n",
       "      <td>No</td>\n",
       "      <td>No</td>\n",
       "      <td>45</td>\n",
       "      <td>No</td>\n",
       "      <td>No phone service</td>\n",
       "      <td>DSL</td>\n",
       "      <td>Yes</td>\n",
       "      <td>...</td>\n",
       "      <td>Yes</td>\n",
       "      <td>Yes</td>\n",
       "      <td>No</td>\n",
       "      <td>No</td>\n",
       "      <td>One year</td>\n",
       "      <td>No</td>\n",
       "      <td>Bank transfer (automatic)</td>\n",
       "      <td>42.30</td>\n",
       "      <td>1840.75</td>\n",
       "      <td>No</td>\n",
       "    </tr>\n",
       "    <tr>\n",
       "      <th>4</th>\n",
       "      <td>9237-HQITU</td>\n",
       "      <td>Female</td>\n",
       "      <td>0</td>\n",
       "      <td>No</td>\n",
       "      <td>No</td>\n",
       "      <td>2</td>\n",
       "      <td>Yes</td>\n",
       "      <td>No</td>\n",
       "      <td>Fiber optic</td>\n",
       "      <td>No</td>\n",
       "      <td>...</td>\n",
       "      <td>No</td>\n",
       "      <td>No</td>\n",
       "      <td>No</td>\n",
       "      <td>No</td>\n",
       "      <td>Month-to-month</td>\n",
       "      <td>Yes</td>\n",
       "      <td>Electronic check</td>\n",
       "      <td>70.70</td>\n",
       "      <td>151.65</td>\n",
       "      <td>Yes</td>\n",
       "    </tr>\n",
       "  </tbody>\n",
       "</table>\n",
       "<p>5 rows × 21 columns</p>\n",
       "</div>"
      ],
      "text/plain": [
       "   customerID  gender  SeniorCitizen Partner Dependents  tenure PhoneService  \\\n",
       "0  7590-VHVEG  Female              0     Yes         No       1           No   \n",
       "1  5575-GNVDE    Male              0      No         No      34          Yes   \n",
       "2  3668-QPYBK    Male              0      No         No       2          Yes   \n",
       "3  7795-CFOCW    Male              0      No         No      45           No   \n",
       "4  9237-HQITU  Female              0      No         No       2          Yes   \n",
       "\n",
       "      MultipleLines InternetService OnlineSecurity  ... DeviceProtection  \\\n",
       "0  No phone service             DSL             No  ...               No   \n",
       "1                No             DSL            Yes  ...              Yes   \n",
       "2                No             DSL            Yes  ...               No   \n",
       "3  No phone service             DSL            Yes  ...              Yes   \n",
       "4                No     Fiber optic             No  ...               No   \n",
       "\n",
       "  TechSupport StreamingTV StreamingMovies        Contract PaperlessBilling  \\\n",
       "0          No          No              No  Month-to-month              Yes   \n",
       "1          No          No              No        One year               No   \n",
       "2          No          No              No  Month-to-month              Yes   \n",
       "3         Yes          No              No        One year               No   \n",
       "4          No          No              No  Month-to-month              Yes   \n",
       "\n",
       "               PaymentMethod MonthlyCharges  TotalCharges  Churn  \n",
       "0           Electronic check          29.85         29.85     No  \n",
       "1               Mailed check          56.95       1889.50     No  \n",
       "2               Mailed check          53.85        108.15    Yes  \n",
       "3  Bank transfer (automatic)          42.30       1840.75     No  \n",
       "4           Electronic check          70.70        151.65    Yes  \n",
       "\n",
       "[5 rows x 21 columns]"
      ]
     },
     "execution_count": 104,
     "metadata": {},
     "output_type": "execute_result"
    }
   ],
   "source": [
    "telco_df.head()"
   ]
  },
  {
   "cell_type": "code",
   "execution_count": 105,
   "id": "17b75cfc",
   "metadata": {},
   "outputs": [],
   "source": [
    "# Does tenure correlate with monthly charges? \n",
    "\n",
    "# Ho: There is no linear correlation between tenure and monthly charges\n",
    "# Ha: There is a linear correlation between tenure and monthly charges\n",
    "\n",
    "# confidence level = 95% \n",
    "\n",
    "alpha = 0.05"
   ]
  },
  {
   "cell_type": "code",
   "execution_count": 106,
   "id": "ebec4276",
   "metadata": {},
   "outputs": [],
   "source": [
    "# assign x and y\n",
    "\n",
    "x = telco_df.tenure\n",
    "y = telco_df.MonthlyCharges"
   ]
  },
  {
   "cell_type": "code",
   "execution_count": 130,
   "id": "cefab1c4",
   "metadata": {},
   "outputs": [
    {
     "data": {
      "text/plain": [
       "Text(0, 0.5, 'MonthlyCharges')"
      ]
     },
     "execution_count": 130,
     "metadata": {},
     "output_type": "execute_result"
    },
    {
     "data": {
      "image/png": "[encoded data removed]",
      "text/plain": [
       "<Figure size 432x288 with 1 Axes>"
      ]
     },
     "metadata": {
      "needs_background": "light"
     },
     "output_type": "display_data"
    }
   ],
   "source": [
    "plt.scatter(x,y, s = 3)\n",
    "plt.xlabel('Tenure')\n",
    "plt.ylabel('MonthlyCharges')"
   ]
  },
  {
   "cell_type": "code",
   "execution_count": 108,
   "id": "f825b030",
   "metadata": {},
   "outputs": [
    {
     "data": {
      "text/plain": [
       "(0.2468617666408957, 3.9898213232510553e-98, 0.05)"
      ]
     },
     "execution_count": 108,
     "metadata": {},
     "output_type": "execute_result"
    }
   ],
   "source": [
    "corr, p = stats.pearsonr(x, y)\n",
    "corr, p, alpha"
   ]
  },
  {
   "cell_type": "code",
   "execution_count": 109,
   "id": "dd24b429",
   "metadata": {},
   "outputs": [
    {
     "data": {
      "text/plain": [
       "True"
      ]
     },
     "execution_count": 109,
     "metadata": {},
     "output_type": "execute_result"
    }
   ],
   "source": [
    "p < alpha"
   ]
  },
  {
   "cell_type": "code",
   "execution_count": 110,
   "id": "7f517c4c",
   "metadata": {},
   "outputs": [
    {
     "name": "stdout",
     "output_type": "stream",
     "text": [
      "We reject the null hypothesis.\n"
     ]
    }
   ],
   "source": [
    "if p < alpha:\n",
    "    print(\"We reject the null hypothesis.\")\n",
    "else:\n",
    "    print(\"We fail to reject the null hypothesis\")"
   ]
  },
  {
   "cell_type": "code",
   "execution_count": null,
   "id": "1b23543c",
   "metadata": {},
   "outputs": [],
   "source": []
  },
  {
   "cell_type": "code",
   "execution_count": 111,
   "id": "dfe0821a",
   "metadata": {},
   "outputs": [],
   "source": [
    "# Does tenure correlate with total charges?\n",
    "\n",
    "# Ho: There is no linear correlation between tenure and total charges\n",
    "# Ha: There is a linear correlation between tenure and total charges"
   ]
  },
  {
   "cell_type": "code",
   "execution_count": 112,
   "id": "5cc78ac6",
   "metadata": {},
   "outputs": [],
   "source": [
    "# assign new y2\n",
    "\n",
    "y2 = telco_df.TotalCharges"
   ]
  },
  {
   "cell_type": "code",
   "execution_count": 113,
   "id": "01d90c12",
   "metadata": {},
   "outputs": [
    {
     "data": {
      "text/plain": [
       "0      29.85\n",
       "1    1889.50\n",
       "2     108.15\n",
       "3    1840.75\n",
       "4     151.65\n",
       "Name: TotalCharges, dtype: float64"
      ]
     },
     "execution_count": 113,
     "metadata": {},
     "output_type": "execute_result"
    }
   ],
   "source": [
    "y2.head()"
   ]
  },
  {
   "cell_type": "code",
   "execution_count": 129,
   "id": "fb93c883",
   "metadata": {},
   "outputs": [
    {
     "data": {
      "text/plain": [
       "Text(0, 0.5, 'TotalCharges')"
      ]
     },
     "execution_count": 129,
     "metadata": {},
     "output_type": "execute_result"
    },
    {
     "data": {
      "image/png": "[encoded data removed]",
      "text/plain": [
       "<Figure size 432x288 with 1 Axes>"
      ]
     },
     "metadata": {
      "needs_background": "light"
     },
     "output_type": "display_data"
    }
   ],
   "source": [
    "plt.scatter(x, y2, s = 3)\n",
    "plt.xlabel('Tenure')\n",
    "plt.ylabel('TotalCharges')"
   ]
  },
  {
   "cell_type": "code",
   "execution_count": 115,
   "id": "acfc2852",
   "metadata": {},
   "outputs": [
    {
     "data": {
      "text/plain": [
       "(0.8258804609332093, 0.0, 0.05)"
      ]
     },
     "execution_count": 115,
     "metadata": {},
     "output_type": "execute_result"
    }
   ],
   "source": [
    "corr, p = stats.pearsonr(x,y2)\n",
    "corr, p, alpha"
   ]
  },
  {
   "cell_type": "code",
   "execution_count": 116,
   "id": "7f1c4748",
   "metadata": {},
   "outputs": [
    {
     "data": {
      "text/plain": [
       "True"
      ]
     },
     "execution_count": 116,
     "metadata": {},
     "output_type": "execute_result"
    }
   ],
   "source": [
    "p < alpha"
   ]
  },
  {
   "cell_type": "code",
   "execution_count": 117,
   "id": "fcd98899",
   "metadata": {},
   "outputs": [
    {
     "name": "stdout",
     "output_type": "stream",
     "text": [
      "We reject the null hypothesis.\n"
     ]
    }
   ],
   "source": [
    "if p < alpha:\n",
    "    print(\"We reject the null hypothesis.\")\n",
    "else:\n",
    "    print(\"We fail to reject the null hypothesis\")"
   ]
  },
  {
   "cell_type": "code",
   "execution_count": null,
   "id": "178c035c",
   "metadata": {},
   "outputs": [],
   "source": []
  },
  {
   "cell_type": "code",
   "execution_count": 137,
   "id": "8d24cae1",
   "metadata": {},
   "outputs": [],
   "source": [
    "# What happens if you control for phone and internet service?\n",
    "\n",
    "# customers with phone service"
   ]
  },
  {
   "cell_type": "code",
   "execution_count": 138,
   "id": "f5d83d22",
   "metadata": {},
   "outputs": [
    {
     "data": {
      "text/plain": [
       "<matplotlib.collections.PathCollection at 0x7fa352d30490>"
      ]
     },
     "execution_count": 138,
     "metadata": {},
     "output_type": "execute_result"
    },
    {
     "data": {
      "image/png": "[encoded data removed]",
      "text/plain": [
       "<Figure size 432x288 with 1 Axes>"
      ]
     },
     "metadata": {
      "needs_background": "light"
     },
     "output_type": "display_data"
    }
   ],
   "source": [
    "x3 = telco_df[telco_df.PhoneService == 'Yes'].tenure\n",
    "y3 = telco_df[telco_df.PhoneService == 'Yes'].MonthlyCharges\n",
    "\n",
    "plt.scatter(x3, y3, s = 3)"
   ]
  },
  {
   "cell_type": "code",
   "execution_count": 139,
   "id": "0a753073",
   "metadata": {},
   "outputs": [
    {
     "data": {
      "text/plain": [
       "(0.24419396575193372, 6.828016037598485e-87, 0.05)"
      ]
     },
     "execution_count": 139,
     "metadata": {},
     "output_type": "execute_result"
    }
   ],
   "source": [
    "corr, p = stats.pearsonr(x3, y3)\n",
    "corr, p, alpha"
   ]
  },
  {
   "cell_type": "code",
   "execution_count": 140,
   "id": "cb09b61c",
   "metadata": {},
   "outputs": [
    {
     "data": {
      "text/plain": [
       "True"
      ]
     },
     "execution_count": 140,
     "metadata": {},
     "output_type": "execute_result"
    }
   ],
   "source": [
    "p < alpha"
   ]
  },
  {
   "cell_type": "code",
   "execution_count": 141,
   "id": "06c55b26",
   "metadata": {},
   "outputs": [
    {
     "name": "stdout",
     "output_type": "stream",
     "text": [
      "We reject the null hypothesis.\n"
     ]
    }
   ],
   "source": [
    "if p < alpha:\n",
    "    print(\"We reject the null hypothesis.\")\n",
    "else:\n",
    "    print(\"We fail to reject the null hypothesis\")"
   ]
  },
  {
   "cell_type": "code",
   "execution_count": null,
   "id": "f739a43e",
   "metadata": {},
   "outputs": [],
   "source": []
  },
  {
   "cell_type": "code",
   "execution_count": null,
   "id": "e341e058",
   "metadata": {},
   "outputs": [],
   "source": [
    "# customers without phone service"
   ]
  },
  {
   "cell_type": "code",
   "execution_count": 146,
   "id": "51238a9d",
   "metadata": {},
   "outputs": [
    {
     "data": {
      "text/plain": [
       "<matplotlib.collections.PathCollection at 0x7fa37236c6d0>"
      ]
     },
     "execution_count": 146,
     "metadata": {},
     "output_type": "execute_result"
    },
    {
     "data": {
      "image/png": "[encoded data removed]",
      "text/plain": [
       "<Figure size 432x288 with 1 Axes>"
      ]
     },
     "metadata": {
      "needs_background": "light"
     },
     "output_type": "display_data"
    }
   ],
   "source": [
    "x4 = telco_df[telco_df.PhoneService == 'No'].tenure\n",
    "y4 = telco_df[telco_df.PhoneService == 'No'].MonthlyCharges\n",
    "\n",
    "plt.scatter(x4, y4, s = 3)"
   ]
  },
  {
   "cell_type": "code",
   "execution_count": 147,
   "id": "661c25bf",
   "metadata": {},
   "outputs": [
    {
     "data": {
      "text/plain": [
       "(0.5924298640568981, 1.1732739032893169e-65, 0.05)"
      ]
     },
     "execution_count": 147,
     "metadata": {},
     "output_type": "execute_result"
    }
   ],
   "source": [
    "corr, p = stats.pearsonr(x4, y4)\n",
    "corr, p, alpha"
   ]
  },
  {
   "cell_type": "code",
   "execution_count": 148,
   "id": "2d5c96ec",
   "metadata": {},
   "outputs": [
    {
     "data": {
      "text/plain": [
       "True"
      ]
     },
     "execution_count": 148,
     "metadata": {},
     "output_type": "execute_result"
    }
   ],
   "source": [
    "p < alpha"
   ]
  },
  {
   "cell_type": "code",
   "execution_count": 149,
   "id": "b188952d",
   "metadata": {},
   "outputs": [
    {
     "name": "stdout",
     "output_type": "stream",
     "text": [
      "We reject the null hypothesis.\n"
     ]
    }
   ],
   "source": [
    "if p < alpha:\n",
    "    print(\"We reject the null hypothesis.\")\n",
    "else:\n",
    "    print(\"We fail to reject the null hypothesis\")"
   ]
  },
  {
   "cell_type": "code",
   "execution_count": null,
   "id": "91eaffe9",
   "metadata": {},
   "outputs": [],
   "source": []
  },
  {
   "cell_type": "code",
   "execution_count": null,
   "id": "fc2f9554",
   "metadata": {},
   "outputs": [],
   "source": [
    "# customers with internet service"
   ]
  },
  {
   "cell_type": "code",
   "execution_count": 155,
   "id": "5c9abf74",
   "metadata": {},
   "outputs": [
    {
     "data": {
      "text/plain": [
       "<matplotlib.collections.PathCollection at 0x7fa352e22640>"
      ]
     },
     "execution_count": 155,
     "metadata": {},
     "output_type": "execute_result"
    },
    {
     "data": {
      "image/png": "[encoded data removed]",
      "text/plain": [
       "<Figure size 432x288 with 1 Axes>"
      ]
     },
     "metadata": {
      "needs_background": "light"
     },
     "output_type": "display_data"
    }
   ],
   "source": [
    "x5 = telco_df[telco_df.InternetService != 'No'].tenure\n",
    "y5 = telco_df[telco_df.InternetService != 'No'].MonthlyCharges\n",
    "\n",
    "plt.scatter(x5, y5, s=3)"
   ]
  },
  {
   "cell_type": "code",
   "execution_count": 156,
   "id": "cf38f275",
   "metadata": {},
   "outputs": [
    {
     "data": {
      "text/plain": [
       "(0.37203919761332516, 1.6186841401674893e-180, 0.05)"
      ]
     },
     "execution_count": 156,
     "metadata": {},
     "output_type": "execute_result"
    }
   ],
   "source": [
    "corr, p = stats.pearsonr(x5, y5)\n",
    "corr, p, alpha"
   ]
  },
  {
   "cell_type": "code",
   "execution_count": 157,
   "id": "49a518b4",
   "metadata": {},
   "outputs": [
    {
     "data": {
      "text/plain": [
       "True"
      ]
     },
     "execution_count": 157,
     "metadata": {},
     "output_type": "execute_result"
    }
   ],
   "source": [
    "p < alpha"
   ]
  },
  {
   "cell_type": "code",
   "execution_count": 158,
   "id": "67826a3d",
   "metadata": {},
   "outputs": [
    {
     "name": "stdout",
     "output_type": "stream",
     "text": [
      "We reject the null hypothesis.\n"
     ]
    }
   ],
   "source": [
    "if p < alpha:\n",
    "    print(\"We reject the null hypothesis.\")\n",
    "else:\n",
    "    print(\"We fail to reject the null hypothesis\")"
   ]
  },
  {
   "cell_type": "code",
   "execution_count": null,
   "id": "df257d7b",
   "metadata": {},
   "outputs": [],
   "source": []
  },
  {
   "cell_type": "code",
   "execution_count": null,
   "id": "9c5f5d94",
   "metadata": {},
   "outputs": [],
   "source": [
    "# customers without internet service"
   ]
  },
  {
   "cell_type": "code",
   "execution_count": 168,
   "id": "0a2ccc86",
   "metadata": {},
   "outputs": [
    {
     "data": {
      "text/plain": [
       "<matplotlib.collections.PathCollection at 0x7fa351eba5b0>"
      ]
     },
     "execution_count": 168,
     "metadata": {},
     "output_type": "execute_result"
    },
    {
     "data": {
      "image/png": "[encoded data removed]",
      "text/plain": [
       "<Figure size 432x288 with 1 Axes>"
      ]
     },
     "metadata": {
      "needs_background": "light"
     },
     "output_type": "display_data"
    }
   ],
   "source": [
    "x6 = telco_df[telco_df.InternetService == 'No'].tenure\n",
    "y6 = telco_df[telco_df.InternetService == 'No'].MonthlyCharges\n",
    "\n",
    "plt.scatter(x6, y6, s = 3)"
   ]
  },
  {
   "cell_type": "code",
   "execution_count": 160,
   "id": "a0b29f94",
   "metadata": {},
   "outputs": [
    {
     "data": {
      "text/plain": [
       "(0.34618773548574805, 4.896604599947503e-44, 0.05)"
      ]
     },
     "execution_count": 160,
     "metadata": {},
     "output_type": "execute_result"
    }
   ],
   "source": [
    "corr, p = stats.pearsonr(x6, y6)\n",
    "corr, p, alpha"
   ]
  },
  {
   "cell_type": "code",
   "execution_count": 161,
   "id": "831f3be0",
   "metadata": {},
   "outputs": [
    {
     "data": {
      "text/plain": [
       "True"
      ]
     },
     "execution_count": 161,
     "metadata": {},
     "output_type": "execute_result"
    }
   ],
   "source": [
    "p < alpha"
   ]
  },
  {
   "cell_type": "code",
   "execution_count": 162,
   "id": "5359f788",
   "metadata": {},
   "outputs": [
    {
     "name": "stdout",
     "output_type": "stream",
     "text": [
      "We reject the null hypothesis.\n"
     ]
    }
   ],
   "source": [
    "if p < alpha:\n",
    "    print(\"We reject the null hypothesis.\")\n",
    "else:\n",
    "    print(\"We fail to reject the null hypothesis\")"
   ]
  },
  {
   "cell_type": "code",
   "execution_count": null,
   "id": "d12ed067",
   "metadata": {},
   "outputs": [],
   "source": []
  },
  {
   "cell_type": "code",
   "execution_count": null,
   "id": "6ee826bd",
   "metadata": {},
   "outputs": [],
   "source": [
    "# 2. Use the employees database.\n",
    "\n",
    "# Is there a relationship between how long an employee has been with the company and their salary?\n",
    "\n",
    "# Is there a relationship between how long an employee has been with the company and the number of titles they have had?\n"
   ]
  },
  {
   "cell_type": "code",
   "execution_count": null,
   "id": "319ad39a",
   "metadata": {},
   "outputs": [],
   "source": [
    "# Getting sql data\n",
    "\n",
    "def get_db_url(host, user, password, database):\n",
    "    url = f'mysql+pymysql://{user}:{password}@{host}/{database}'\n",
    "    return url\n",
    "\n",
    "\n",
    "from env import host, user, password\n",
    "url = get_db_url(host, user, password, 'employees')"
   ]
  },
  {
   "cell_type": "code",
   "execution_count": 170,
   "id": "b7852a6e",
   "metadata": {},
   "outputs": [],
   "source": [
    "# Create a new df and join salaries with employees table\n",
    "\n",
    "employees_df = pd.read_sql( \"\"\"\n",
    "SELECT * , datediff(now(), e.hire_date) AS 'tenure'\n",
    "FROM employees e\n",
    "JOIN salaries s USING (emp_no)\n",
    "JOIN titles t USING (emp_no)\n",
    "WHERE s.to_date > now();\n",
    "\"\"\", url)"
   ]
  },
  {
   "cell_type": "code",
   "execution_count": 171,
   "id": "89bbe0ec",
   "metadata": {},
   "outputs": [
    {
     "data": {
      "text/html": [
       "<div>\n",
       "<style scoped>\n",
       "    .dataframe tbody tr th:only-of-type {\n",
       "        vertical-align: middle;\n",
       "    }\n",
       "\n",
       "    .dataframe tbody tr th {\n",
       "        vertical-align: top;\n",
       "    }\n",
       "\n",
       "    .dataframe thead th {\n",
       "        text-align: right;\n",
       "    }\n",
       "</style>\n",
       "<table border=\"1\" class=\"dataframe\">\n",
       "  <thead>\n",
       "    <tr style=\"text-align: right;\">\n",
       "      <th></th>\n",
       "      <th>emp_no</th>\n",
       "      <th>birth_date</th>\n",
       "      <th>first_name</th>\n",
       "      <th>last_name</th>\n",
       "      <th>gender</th>\n",
       "      <th>hire_date</th>\n",
       "      <th>salary</th>\n",
       "      <th>from_date</th>\n",
       "      <th>to_date</th>\n",
       "      <th>title</th>\n",
       "      <th>from_date</th>\n",
       "      <th>to_date</th>\n",
       "      <th>tenure</th>\n",
       "    </tr>\n",
       "  </thead>\n",
       "  <tbody>\n",
       "    <tr>\n",
       "      <th>0</th>\n",
       "      <td>10001</td>\n",
       "      <td>1953-09-02</td>\n",
       "      <td>Georgi</td>\n",
       "      <td>Facello</td>\n",
       "      <td>M</td>\n",
       "      <td>1986-06-26</td>\n",
       "      <td>88958</td>\n",
       "      <td>2002-06-22</td>\n",
       "      <td>9999-01-01</td>\n",
       "      <td>Senior Engineer</td>\n",
       "      <td>1986-06-26</td>\n",
       "      <td>9999-01-01</td>\n",
       "      <td>12829</td>\n",
       "    </tr>\n",
       "    <tr>\n",
       "      <th>1</th>\n",
       "      <td>10002</td>\n",
       "      <td>1964-06-02</td>\n",
       "      <td>Bezalel</td>\n",
       "      <td>Simmel</td>\n",
       "      <td>F</td>\n",
       "      <td>1985-11-21</td>\n",
       "      <td>72527</td>\n",
       "      <td>2001-08-02</td>\n",
       "      <td>9999-01-01</td>\n",
       "      <td>Staff</td>\n",
       "      <td>1996-08-03</td>\n",
       "      <td>9999-01-01</td>\n",
       "      <td>13046</td>\n",
       "    </tr>\n",
       "    <tr>\n",
       "      <th>2</th>\n",
       "      <td>10003</td>\n",
       "      <td>1959-12-03</td>\n",
       "      <td>Parto</td>\n",
       "      <td>Bamford</td>\n",
       "      <td>M</td>\n",
       "      <td>1986-08-28</td>\n",
       "      <td>43311</td>\n",
       "      <td>2001-12-01</td>\n",
       "      <td>9999-01-01</td>\n",
       "      <td>Senior Engineer</td>\n",
       "      <td>1995-12-03</td>\n",
       "      <td>9999-01-01</td>\n",
       "      <td>12766</td>\n",
       "    </tr>\n",
       "    <tr>\n",
       "      <th>3</th>\n",
       "      <td>10004</td>\n",
       "      <td>1954-05-01</td>\n",
       "      <td>Chirstian</td>\n",
       "      <td>Koblick</td>\n",
       "      <td>M</td>\n",
       "      <td>1986-12-01</td>\n",
       "      <td>74057</td>\n",
       "      <td>2001-11-27</td>\n",
       "      <td>9999-01-01</td>\n",
       "      <td>Engineer</td>\n",
       "      <td>1986-12-01</td>\n",
       "      <td>1995-12-01</td>\n",
       "      <td>12671</td>\n",
       "    </tr>\n",
       "    <tr>\n",
       "      <th>4</th>\n",
       "      <td>10004</td>\n",
       "      <td>1954-05-01</td>\n",
       "      <td>Chirstian</td>\n",
       "      <td>Koblick</td>\n",
       "      <td>M</td>\n",
       "      <td>1986-12-01</td>\n",
       "      <td>74057</td>\n",
       "      <td>2001-11-27</td>\n",
       "      <td>9999-01-01</td>\n",
       "      <td>Senior Engineer</td>\n",
       "      <td>1995-12-01</td>\n",
       "      <td>9999-01-01</td>\n",
       "      <td>12671</td>\n",
       "    </tr>\n",
       "  </tbody>\n",
       "</table>\n",
       "</div>"
      ],
      "text/plain": [
       "   emp_no  birth_date first_name last_name gender   hire_date  salary  \\\n",
       "0   10001  1953-09-02     Georgi   Facello      M  1986-06-26   88958   \n",
       "1   10002  1964-06-02    Bezalel    Simmel      F  1985-11-21   72527   \n",
       "2   10003  1959-12-03      Parto   Bamford      M  1986-08-28   43311   \n",
       "3   10004  1954-05-01  Chirstian   Koblick      M  1986-12-01   74057   \n",
       "4   10004  1954-05-01  Chirstian   Koblick      M  1986-12-01   74057   \n",
       "\n",
       "    from_date     to_date            title   from_date     to_date  tenure  \n",
       "0  2002-06-22  9999-01-01  Senior Engineer  1986-06-26  9999-01-01   12829  \n",
       "1  2001-08-02  9999-01-01            Staff  1996-08-03  9999-01-01   13046  \n",
       "2  2001-12-01  9999-01-01  Senior Engineer  1995-12-03  9999-01-01   12766  \n",
       "3  2001-11-27  9999-01-01         Engineer  1986-12-01  1995-12-01   12671  \n",
       "4  2001-11-27  9999-01-01  Senior Engineer  1995-12-01  9999-01-01   12671  "
      ]
     },
     "execution_count": 171,
     "metadata": {},
     "output_type": "execute_result"
    }
   ],
   "source": [
    "employees_df.head()"
   ]
  },
  {
   "cell_type": "code",
   "execution_count": null,
   "id": "a491f7c1",
   "metadata": {},
   "outputs": [],
   "source": [
    "# Is there a relationship between how long an employee has been with the company and their salary?\n",
    "\n",
    "# Ho: There is no linear correlation between time at job and salary\n",
    "# Ha: There is a linear correlation between time at job and salary"
   ]
  },
  {
   "cell_type": "code",
   "execution_count": 173,
   "id": "6c0d8430",
   "metadata": {},
   "outputs": [],
   "source": [
    "# assign variables\n",
    "\n",
    "x = employees_df.tenure\n",
    "y = employees_df.salary\n",
    "\n",
    "alpha = 0.05"
   ]
  },
  {
   "cell_type": "code",
   "execution_count": 178,
   "id": "5dfaee75",
   "metadata": {},
   "outputs": [
    {
     "data": {
      "text/plain": [
       "Text(0.5, 1.0, 'Relationship between tenure & salary')"
      ]
     },
     "execution_count": 178,
     "metadata": {},
     "output_type": "execute_result"
    },
    {
     "data": {
      "image/png": "[encoded data removed]",
      "text/plain": [
       "<Figure size 432x288 with 1 Axes>"
      ]
     },
     "metadata": {
      "needs_background": "light"
     },
     "output_type": "display_data"
    }
   ],
   "source": [
    "plt.scatter(x, y, s = 3)\n",
    "plt.xlabel('Tenure')\n",
    "plt.ylabel('Salary')\n",
    "plt.title('Relationship between tenure & salary')"
   ]
  },
  {
   "cell_type": "code",
   "execution_count": 174,
   "id": "332aee4b",
   "metadata": {},
   "outputs": [
    {
     "data": {
      "text/plain": [
       "(0.3072819093214674, 0.0, 0.05)"
      ]
     },
     "execution_count": 174,
     "metadata": {},
     "output_type": "execute_result"
    }
   ],
   "source": [
    "corr, p = stats.pearsonr(x, y)\n",
    "corr, p, alpha"
   ]
  },
  {
   "cell_type": "code",
   "execution_count": 175,
   "id": "5e4d283c",
   "metadata": {},
   "outputs": [
    {
     "data": {
      "text/plain": [
       "True"
      ]
     },
     "execution_count": 175,
     "metadata": {},
     "output_type": "execute_result"
    }
   ],
   "source": [
    "p < alpha"
   ]
  },
  {
   "cell_type": "code",
   "execution_count": 176,
   "id": "6ee28415",
   "metadata": {},
   "outputs": [
    {
     "name": "stdout",
     "output_type": "stream",
     "text": [
      "We reject the null hypothesis.\n"
     ]
    }
   ],
   "source": [
    "if p < alpha:\n",
    "    print(\"We reject the null hypothesis.\")\n",
    "else:\n",
    "    print(\"We fail to reject the null hypothesis\")"
   ]
  },
  {
   "cell_type": "code",
   "execution_count": null,
   "id": "be4e1bb2",
   "metadata": {},
   "outputs": [],
   "source": []
  },
  {
   "cell_type": "code",
   "execution_count": null,
   "id": "c0049952",
   "metadata": {},
   "outputs": [],
   "source": [
    "# Is there a relationship between how long an employee has been with the company \n",
    "# and the number of titles they have had?\n",
    "\n",
    "# Ho: There is no linear correlation between tenure and number of titles held\n",
    "# Ha: There is a linear correlation between enure and number of titles held"
   ]
  },
  {
   "cell_type": "code",
   "execution_count": 181,
   "id": "563d9b0e",
   "metadata": {},
   "outputs": [
    {
     "data": {
      "text/html": [
       "<div>\n",
       "<style scoped>\n",
       "    .dataframe tbody tr th:only-of-type {\n",
       "        vertical-align: middle;\n",
       "    }\n",
       "\n",
       "    .dataframe tbody tr th {\n",
       "        vertical-align: top;\n",
       "    }\n",
       "\n",
       "    .dataframe thead th {\n",
       "        text-align: right;\n",
       "    }\n",
       "</style>\n",
       "<table border=\"1\" class=\"dataframe\">\n",
       "  <thead>\n",
       "    <tr style=\"text-align: right;\">\n",
       "      <th></th>\n",
       "      <th>title_count</th>\n",
       "    </tr>\n",
       "    <tr>\n",
       "      <th>emp_no</th>\n",
       "      <th></th>\n",
       "    </tr>\n",
       "  </thead>\n",
       "  <tbody>\n",
       "    <tr>\n",
       "      <th>10001</th>\n",
       "      <td>1</td>\n",
       "    </tr>\n",
       "    <tr>\n",
       "      <th>10002</th>\n",
       "      <td>1</td>\n",
       "    </tr>\n",
       "    <tr>\n",
       "      <th>10003</th>\n",
       "      <td>1</td>\n",
       "    </tr>\n",
       "    <tr>\n",
       "      <th>10004</th>\n",
       "      <td>2</td>\n",
       "    </tr>\n",
       "    <tr>\n",
       "      <th>10005</th>\n",
       "      <td>2</td>\n",
       "    </tr>\n",
       "  </tbody>\n",
       "</table>\n",
       "</div>"
      ],
      "text/plain": [
       "        title_count\n",
       "emp_no             \n",
       "10001             1\n",
       "10002             1\n",
       "10003             1\n",
       "10004             2\n",
       "10005             2"
      ]
     },
     "execution_count": 181,
     "metadata": {},
     "output_type": "execute_result"
    }
   ],
   "source": [
    "titles_df = employees_df.groupby('emp_no').count()[['title']].rename(columns={'title': 'title_count'})\n",
    "titles_df.head()"
   ]
  },
  {
   "cell_type": "code",
   "execution_count": 183,
   "id": "36ef5b98",
   "metadata": {},
   "outputs": [
    {
     "data": {
      "text/html": [
       "<div>\n",
       "<style scoped>\n",
       "    .dataframe tbody tr th:only-of-type {\n",
       "        vertical-align: middle;\n",
       "    }\n",
       "\n",
       "    .dataframe tbody tr th {\n",
       "        vertical-align: top;\n",
       "    }\n",
       "\n",
       "    .dataframe thead th {\n",
       "        text-align: right;\n",
       "    }\n",
       "</style>\n",
       "<table border=\"1\" class=\"dataframe\">\n",
       "  <thead>\n",
       "    <tr style=\"text-align: right;\">\n",
       "      <th></th>\n",
       "      <th>emp_no</th>\n",
       "      <th>birth_date</th>\n",
       "      <th>first_name</th>\n",
       "      <th>last_name</th>\n",
       "      <th>gender</th>\n",
       "      <th>hire_date</th>\n",
       "      <th>salary</th>\n",
       "      <th>from_date</th>\n",
       "      <th>to_date</th>\n",
       "      <th>title</th>\n",
       "      <th>from_date</th>\n",
       "      <th>to_date</th>\n",
       "      <th>tenure</th>\n",
       "    </tr>\n",
       "  </thead>\n",
       "  <tbody>\n",
       "    <tr>\n",
       "      <th>0</th>\n",
       "      <td>10001</td>\n",
       "      <td>1953-09-02</td>\n",
       "      <td>Georgi</td>\n",
       "      <td>Facello</td>\n",
       "      <td>M</td>\n",
       "      <td>1986-06-26</td>\n",
       "      <td>88958</td>\n",
       "      <td>2002-06-22</td>\n",
       "      <td>9999-01-01</td>\n",
       "      <td>Senior Engineer</td>\n",
       "      <td>1986-06-26</td>\n",
       "      <td>9999-01-01</td>\n",
       "      <td>12829</td>\n",
       "    </tr>\n",
       "    <tr>\n",
       "      <th>1</th>\n",
       "      <td>10002</td>\n",
       "      <td>1964-06-02</td>\n",
       "      <td>Bezalel</td>\n",
       "      <td>Simmel</td>\n",
       "      <td>F</td>\n",
       "      <td>1985-11-21</td>\n",
       "      <td>72527</td>\n",
       "      <td>2001-08-02</td>\n",
       "      <td>9999-01-01</td>\n",
       "      <td>Staff</td>\n",
       "      <td>1996-08-03</td>\n",
       "      <td>9999-01-01</td>\n",
       "      <td>13046</td>\n",
       "    </tr>\n",
       "    <tr>\n",
       "      <th>2</th>\n",
       "      <td>10003</td>\n",
       "      <td>1959-12-03</td>\n",
       "      <td>Parto</td>\n",
       "      <td>Bamford</td>\n",
       "      <td>M</td>\n",
       "      <td>1986-08-28</td>\n",
       "      <td>43311</td>\n",
       "      <td>2001-12-01</td>\n",
       "      <td>9999-01-01</td>\n",
       "      <td>Senior Engineer</td>\n",
       "      <td>1995-12-03</td>\n",
       "      <td>9999-01-01</td>\n",
       "      <td>12766</td>\n",
       "    </tr>\n",
       "    <tr>\n",
       "      <th>3</th>\n",
       "      <td>10004</td>\n",
       "      <td>1954-05-01</td>\n",
       "      <td>Chirstian</td>\n",
       "      <td>Koblick</td>\n",
       "      <td>M</td>\n",
       "      <td>1986-12-01</td>\n",
       "      <td>74057</td>\n",
       "      <td>2001-11-27</td>\n",
       "      <td>9999-01-01</td>\n",
       "      <td>Engineer</td>\n",
       "      <td>1986-12-01</td>\n",
       "      <td>1995-12-01</td>\n",
       "      <td>12671</td>\n",
       "    </tr>\n",
       "    <tr>\n",
       "      <th>4</th>\n",
       "      <td>10004</td>\n",
       "      <td>1954-05-01</td>\n",
       "      <td>Chirstian</td>\n",
       "      <td>Koblick</td>\n",
       "      <td>M</td>\n",
       "      <td>1986-12-01</td>\n",
       "      <td>74057</td>\n",
       "      <td>2001-11-27</td>\n",
       "      <td>9999-01-01</td>\n",
       "      <td>Senior Engineer</td>\n",
       "      <td>1995-12-01</td>\n",
       "      <td>9999-01-01</td>\n",
       "      <td>12671</td>\n",
       "    </tr>\n",
       "  </tbody>\n",
       "</table>\n",
       "</div>"
      ],
      "text/plain": [
       "   emp_no  birth_date first_name last_name gender   hire_date  salary  \\\n",
       "0   10001  1953-09-02     Georgi   Facello      M  1986-06-26   88958   \n",
       "1   10002  1964-06-02    Bezalel    Simmel      F  1985-11-21   72527   \n",
       "2   10003  1959-12-03      Parto   Bamford      M  1986-08-28   43311   \n",
       "3   10004  1954-05-01  Chirstian   Koblick      M  1986-12-01   74057   \n",
       "4   10004  1954-05-01  Chirstian   Koblick      M  1986-12-01   74057   \n",
       "\n",
       "    from_date     to_date            title   from_date     to_date  tenure  \n",
       "0  2002-06-22  9999-01-01  Senior Engineer  1986-06-26  9999-01-01   12829  \n",
       "1  2001-08-02  9999-01-01            Staff  1996-08-03  9999-01-01   13046  \n",
       "2  2001-12-01  9999-01-01  Senior Engineer  1995-12-03  9999-01-01   12766  \n",
       "3  2001-11-27  9999-01-01         Engineer  1986-12-01  1995-12-01   12671  \n",
       "4  2001-11-27  9999-01-01  Senior Engineer  1995-12-01  9999-01-01   12671  "
      ]
     },
     "execution_count": 183,
     "metadata": {},
     "output_type": "execute_result"
    }
   ],
   "source": [
    "employees_df.head()"
   ]
  },
  {
   "cell_type": "code",
   "execution_count": 184,
   "id": "19be9294",
   "metadata": {},
   "outputs": [],
   "source": [
    "emp_merg_df = pd.merge(employees_df, titles_df, how = 'left', on = 'emp_no')"
   ]
  },
  {
   "cell_type": "code",
   "execution_count": 185,
   "id": "144671de",
   "metadata": {},
   "outputs": [
    {
     "data": {
      "text/html": [
       "<div>\n",
       "<style scoped>\n",
       "    .dataframe tbody tr th:only-of-type {\n",
       "        vertical-align: middle;\n",
       "    }\n",
       "\n",
       "    .dataframe tbody tr th {\n",
       "        vertical-align: top;\n",
       "    }\n",
       "\n",
       "    .dataframe thead th {\n",
       "        text-align: right;\n",
       "    }\n",
       "</style>\n",
       "<table border=\"1\" class=\"dataframe\">\n",
       "  <thead>\n",
       "    <tr style=\"text-align: right;\">\n",
       "      <th></th>\n",
       "      <th>emp_no</th>\n",
       "      <th>birth_date</th>\n",
       "      <th>first_name</th>\n",
       "      <th>last_name</th>\n",
       "      <th>gender</th>\n",
       "      <th>hire_date</th>\n",
       "      <th>salary</th>\n",
       "      <th>from_date</th>\n",
       "      <th>to_date</th>\n",
       "      <th>title</th>\n",
       "      <th>from_date</th>\n",
       "      <th>to_date</th>\n",
       "      <th>tenure</th>\n",
       "      <th>title_count</th>\n",
       "    </tr>\n",
       "  </thead>\n",
       "  <tbody>\n",
       "    <tr>\n",
       "      <th>0</th>\n",
       "      <td>10001</td>\n",
       "      <td>1953-09-02</td>\n",
       "      <td>Georgi</td>\n",
       "      <td>Facello</td>\n",
       "      <td>M</td>\n",
       "      <td>1986-06-26</td>\n",
       "      <td>88958</td>\n",
       "      <td>2002-06-22</td>\n",
       "      <td>9999-01-01</td>\n",
       "      <td>Senior Engineer</td>\n",
       "      <td>1986-06-26</td>\n",
       "      <td>9999-01-01</td>\n",
       "      <td>12829</td>\n",
       "      <td>1</td>\n",
       "    </tr>\n",
       "    <tr>\n",
       "      <th>1</th>\n",
       "      <td>10002</td>\n",
       "      <td>1964-06-02</td>\n",
       "      <td>Bezalel</td>\n",
       "      <td>Simmel</td>\n",
       "      <td>F</td>\n",
       "      <td>1985-11-21</td>\n",
       "      <td>72527</td>\n",
       "      <td>2001-08-02</td>\n",
       "      <td>9999-01-01</td>\n",
       "      <td>Staff</td>\n",
       "      <td>1996-08-03</td>\n",
       "      <td>9999-01-01</td>\n",
       "      <td>13046</td>\n",
       "      <td>1</td>\n",
       "    </tr>\n",
       "    <tr>\n",
       "      <th>2</th>\n",
       "      <td>10003</td>\n",
       "      <td>1959-12-03</td>\n",
       "      <td>Parto</td>\n",
       "      <td>Bamford</td>\n",
       "      <td>M</td>\n",
       "      <td>1986-08-28</td>\n",
       "      <td>43311</td>\n",
       "      <td>2001-12-01</td>\n",
       "      <td>9999-01-01</td>\n",
       "      <td>Senior Engineer</td>\n",
       "      <td>1995-12-03</td>\n",
       "      <td>9999-01-01</td>\n",
       "      <td>12766</td>\n",
       "      <td>1</td>\n",
       "    </tr>\n",
       "    <tr>\n",
       "      <th>3</th>\n",
       "      <td>10004</td>\n",
       "      <td>1954-05-01</td>\n",
       "      <td>Chirstian</td>\n",
       "      <td>Koblick</td>\n",
       "      <td>M</td>\n",
       "      <td>1986-12-01</td>\n",
       "      <td>74057</td>\n",
       "      <td>2001-11-27</td>\n",
       "      <td>9999-01-01</td>\n",
       "      <td>Engineer</td>\n",
       "      <td>1986-12-01</td>\n",
       "      <td>1995-12-01</td>\n",
       "      <td>12671</td>\n",
       "      <td>2</td>\n",
       "    </tr>\n",
       "    <tr>\n",
       "      <th>4</th>\n",
       "      <td>10004</td>\n",
       "      <td>1954-05-01</td>\n",
       "      <td>Chirstian</td>\n",
       "      <td>Koblick</td>\n",
       "      <td>M</td>\n",
       "      <td>1986-12-01</td>\n",
       "      <td>74057</td>\n",
       "      <td>2001-11-27</td>\n",
       "      <td>9999-01-01</td>\n",
       "      <td>Senior Engineer</td>\n",
       "      <td>1995-12-01</td>\n",
       "      <td>9999-01-01</td>\n",
       "      <td>12671</td>\n",
       "      <td>2</td>\n",
       "    </tr>\n",
       "  </tbody>\n",
       "</table>\n",
       "</div>"
      ],
      "text/plain": [
       "   emp_no  birth_date first_name last_name gender   hire_date  salary  \\\n",
       "0   10001  1953-09-02     Georgi   Facello      M  1986-06-26   88958   \n",
       "1   10002  1964-06-02    Bezalel    Simmel      F  1985-11-21   72527   \n",
       "2   10003  1959-12-03      Parto   Bamford      M  1986-08-28   43311   \n",
       "3   10004  1954-05-01  Chirstian   Koblick      M  1986-12-01   74057   \n",
       "4   10004  1954-05-01  Chirstian   Koblick      M  1986-12-01   74057   \n",
       "\n",
       "    from_date     to_date            title   from_date     to_date  tenure  \\\n",
       "0  2002-06-22  9999-01-01  Senior Engineer  1986-06-26  9999-01-01   12829   \n",
       "1  2001-08-02  9999-01-01            Staff  1996-08-03  9999-01-01   13046   \n",
       "2  2001-12-01  9999-01-01  Senior Engineer  1995-12-03  9999-01-01   12766   \n",
       "3  2001-11-27  9999-01-01         Engineer  1986-12-01  1995-12-01   12671   \n",
       "4  2001-11-27  9999-01-01  Senior Engineer  1995-12-01  9999-01-01   12671   \n",
       "\n",
       "   title_count  \n",
       "0            1  \n",
       "1            1  \n",
       "2            1  \n",
       "3            2  \n",
       "4            2  "
      ]
     },
     "execution_count": 185,
     "metadata": {},
     "output_type": "execute_result"
    }
   ],
   "source": [
    "emp_merg_df.head()"
   ]
  },
  {
   "cell_type": "code",
   "execution_count": 186,
   "id": "56c052fe",
   "metadata": {},
   "outputs": [],
   "source": [
    "# assign variables\n",
    "\n",
    "x = emp_merg_df.tenure\n",
    "y = emp_merg_df.title_count"
   ]
  },
  {
   "cell_type": "code",
   "execution_count": 187,
   "id": "03f2cf31",
   "metadata": {},
   "outputs": [
    {
     "data": {
      "text/plain": [
       "Text(0.5, 1.0, 'Tenure and number of titles held')"
      ]
     },
     "execution_count": 187,
     "metadata": {},
     "output_type": "execute_result"
    },
    {
     "data": {
      "image/png": "[encoded data removed]",
      "text/plain": [
       "<Figure size 432x288 with 1 Axes>"
      ]
     },
     "metadata": {
      "needs_background": "light"
     },
     "output_type": "display_data"
    }
   ],
   "source": [
    "plt.scatter(x, y, s = 3)\n",
    "plt.xlabel('Tenure')\n",
    "plt.ylabel('Number of titles')\n",
    "plt.title('Tenure and number of titles held')"
   ]
  },
  {
   "cell_type": "code",
   "execution_count": 188,
   "id": "aba8f2f9",
   "metadata": {},
   "outputs": [
    {
     "data": {
      "text/plain": [
       "(0.28740043662271, 0.0, 0.05)"
      ]
     },
     "execution_count": 188,
     "metadata": {},
     "output_type": "execute_result"
    }
   ],
   "source": [
    "corr, p = stats.pearsonr(x, y)\n",
    "corr, p, alpha"
   ]
  },
  {
   "cell_type": "code",
   "execution_count": 189,
   "id": "96f38112",
   "metadata": {},
   "outputs": [
    {
     "data": {
      "text/plain": [
       "True"
      ]
     },
     "execution_count": 189,
     "metadata": {},
     "output_type": "execute_result"
    }
   ],
   "source": [
    "p < alpha"
   ]
  },
  {
   "cell_type": "code",
   "execution_count": 190,
   "id": "34d4ddd9",
   "metadata": {},
   "outputs": [
    {
     "name": "stdout",
     "output_type": "stream",
     "text": [
      "We reject the null hypothesis.\n"
     ]
    }
   ],
   "source": [
    "if p < alpha:\n",
    "    print(\"We reject the null hypothesis.\")\n",
    "else:\n",
    "    print(\"We fail to reject the null hypothesis\")"
   ]
  },
  {
   "cell_type": "code",
   "execution_count": null,
   "id": "ce332d46",
   "metadata": {},
   "outputs": [],
   "source": []
  },
  {
   "cell_type": "code",
   "execution_count": null,
   "id": "8b5f7fb9",
   "metadata": {},
   "outputs": [],
   "source": [
    "# 3. Use the sleepstudy data. \n",
    "\n",
    "# Is there a relationship between days and reaction time?\n"
   ]
  },
  {
   "cell_type": "code",
   "execution_count": 191,
   "id": "cfc37ac7",
   "metadata": {},
   "outputs": [],
   "source": [
    "sleepstudy_df = data(\"sleepstudy\")"
   ]
  },
  {
   "cell_type": "code",
   "execution_count": 192,
   "id": "c9996907",
   "metadata": {},
   "outputs": [
    {
     "name": "stdout",
     "output_type": "stream",
     "text": [
      "sleepstudy\n",
      "\n",
      "PyDataset Documentation (adopted from R Documentation. The displayed examples are in R)\n",
      "\n",
      "## Reaction times in a sleep deprivation study\n",
      "\n",
      "### Description\n",
      "\n",
      "The average reaction time per day for subjects in a sleep deprivation study.\n",
      "On day 0 the subjects had their normal amount of sleep. Starting that night\n",
      "they were restricted to 3 hours of sleep per night. The observations represent\n",
      "the average reaction time on a series of tests given each day to each subject.\n",
      "\n",
      "### Format\n",
      "\n",
      "A data frame with 180 observations on the following 3 variables.\n",
      "\n",
      "`Reaction`\n",
      "\n",
      "Average reaction time (ms)\n",
      "\n",
      "`Days`\n",
      "\n",
      "Number of days of sleep deprivation\n",
      "\n",
      "`Subject`\n",
      "\n",
      "Subject number on which the observation was made.\n",
      "\n",
      "### Details\n",
      "\n",
      "These data are from the study described in Belenky et al. (2003), for the\n",
      "sleep-deprived group and for the first 10 days of the study, up to the\n",
      "recovery period.\n",
      "\n",
      "### References\n",
      "\n",
      "Gregory Belenky, Nancy J. Wesensten, David R. Thorne, Maria L. Thomas, Helen\n",
      "C. Sing, Daniel P. Redmond, Michael B. Russo and Thomas J. Balkin (2003)\n",
      "Patterns of performance degradation and restoration during sleep restriction\n",
      "and subsequent recovery: a sleep dose-response study. _Journal of Sleep\n",
      "Research_ **12**, 1–12.\n",
      "\n",
      "### Examples\n",
      "\n",
      "    str(sleepstudy)\n",
      "    require(lattice)\n",
      "    xyplot(Reaction ~ Days | Subject, sleepstudy, type = c(\"g\",\"p\",\"r\"),\n",
      "           index = function(x,y) coef(lm(y ~ x))[1],\n",
      "           xlab = \"Days of sleep deprivation\",\n",
      "           ylab = \"Average reaction time (ms)\", aspect = \"xy\")\n",
      "    (fm1 <- lmer(Reaction ~ Days + (Days|Subject), sleepstudy))\n",
      "    (fm2 <- lmer(Reaction ~ Days + (1|Subject) + (0+Days|Subject), sleepstudy))\n",
      "\n",
      "\n"
     ]
    }
   ],
   "source": [
    "# Documentation on data\n",
    "\n",
    "data('sleepstudy', show_doc='True')"
   ]
  },
  {
   "cell_type": "code",
   "execution_count": 193,
   "id": "e74913e5",
   "metadata": {},
   "outputs": [
    {
     "name": "stdout",
     "output_type": "stream",
     "text": [
      "<class 'pandas.core.frame.DataFrame'>\n",
      "Int64Index: 180 entries, 1 to 180\n",
      "Data columns (total 3 columns):\n",
      " #   Column    Non-Null Count  Dtype  \n",
      "---  ------    --------------  -----  \n",
      " 0   Reaction  180 non-null    float64\n",
      " 1   Days      180 non-null    int64  \n",
      " 2   Subject   180 non-null    int64  \n",
      "dtypes: float64(1), int64(2)\n",
      "memory usage: 5.6 KB\n"
     ]
    }
   ],
   "source": [
    "sleepstudy_df.info()"
   ]
  },
  {
   "cell_type": "code",
   "execution_count": 196,
   "id": "73718abe",
   "metadata": {},
   "outputs": [
    {
     "data": {
      "text/html": [
       "<div>\n",
       "<style scoped>\n",
       "    .dataframe tbody tr th:only-of-type {\n",
       "        vertical-align: middle;\n",
       "    }\n",
       "\n",
       "    .dataframe tbody tr th {\n",
       "        vertical-align: top;\n",
       "    }\n",
       "\n",
       "    .dataframe thead th {\n",
       "        text-align: right;\n",
       "    }\n",
       "</style>\n",
       "<table border=\"1\" class=\"dataframe\">\n",
       "  <thead>\n",
       "    <tr style=\"text-align: right;\">\n",
       "      <th></th>\n",
       "      <th>Reaction</th>\n",
       "      <th>Days</th>\n",
       "      <th>Subject</th>\n",
       "    </tr>\n",
       "  </thead>\n",
       "  <tbody>\n",
       "    <tr>\n",
       "      <th>115</th>\n",
       "      <td>268.9165</td>\n",
       "      <td>4</td>\n",
       "      <td>350</td>\n",
       "    </tr>\n",
       "    <tr>\n",
       "      <th>98</th>\n",
       "      <td>416.6923</td>\n",
       "      <td>7</td>\n",
       "      <td>337</td>\n",
       "    </tr>\n",
       "    <tr>\n",
       "      <th>68</th>\n",
       "      <td>348.8399</td>\n",
       "      <td>7</td>\n",
       "      <td>333</td>\n",
       "    </tr>\n",
       "    <tr>\n",
       "      <th>119</th>\n",
       "      <td>394.4872</td>\n",
       "      <td>8</td>\n",
       "      <td>350</td>\n",
       "    </tr>\n",
       "    <tr>\n",
       "      <th>112</th>\n",
       "      <td>243.4543</td>\n",
       "      <td>1</td>\n",
       "      <td>350</td>\n",
       "    </tr>\n",
       "    <tr>\n",
       "      <th>174</th>\n",
       "      <td>310.6316</td>\n",
       "      <td>3</td>\n",
       "      <td>372</td>\n",
       "    </tr>\n",
       "    <tr>\n",
       "      <th>85</th>\n",
       "      <td>251.4519</td>\n",
       "      <td>4</td>\n",
       "      <td>335</td>\n",
       "    </tr>\n",
       "    <tr>\n",
       "      <th>144</th>\n",
       "      <td>277.6566</td>\n",
       "      <td>3</td>\n",
       "      <td>369</td>\n",
       "    </tr>\n",
       "    <tr>\n",
       "      <th>25</th>\n",
       "      <td>229.3074</td>\n",
       "      <td>4</td>\n",
       "      <td>310</td>\n",
       "    </tr>\n",
       "    <tr>\n",
       "      <th>160</th>\n",
       "      <td>372.2288</td>\n",
       "      <td>9</td>\n",
       "      <td>370</td>\n",
       "    </tr>\n",
       "  </tbody>\n",
       "</table>\n",
       "</div>"
      ],
      "text/plain": [
       "     Reaction  Days  Subject\n",
       "115  268.9165     4      350\n",
       "98   416.6923     7      337\n",
       "68   348.8399     7      333\n",
       "119  394.4872     8      350\n",
       "112  243.4543     1      350\n",
       "174  310.6316     3      372\n",
       "85   251.4519     4      335\n",
       "144  277.6566     3      369\n",
       "25   229.3074     4      310\n",
       "160  372.2288     9      370"
      ]
     },
     "execution_count": 196,
     "metadata": {},
     "output_type": "execute_result"
    }
   ],
   "source": [
    "sleepstudy_df.sample(10)"
   ]
  },
  {
   "cell_type": "code",
   "execution_count": null,
   "id": "ac03d9a9",
   "metadata": {},
   "outputs": [],
   "source": [
    "# Is there a relationship between days and reaction time?\n",
    "\n",
    "# Ho: There is no linear correlation between days of sleep deprivation and reaction time\n",
    "# Ha: There is a linear correlation between days of sleep deprivation and reaction time"
   ]
  },
  {
   "cell_type": "code",
   "execution_count": 199,
   "id": "0f8aac6e",
   "metadata": {},
   "outputs": [],
   "source": [
    "# assign variables\n",
    "\n",
    "x = sleepstudy_df.Days\n",
    "y = sleepstudy_df.Reaction\n",
    "\n",
    "alpha = .05"
   ]
  },
  {
   "cell_type": "code",
   "execution_count": 200,
   "id": "0de82894",
   "metadata": {},
   "outputs": [
    {
     "data": {
      "text/plain": [
       "Text(0.5, 1.0, 'Correlation between days of sleep deprivation and reaction time')"
      ]
     },
     "execution_count": 200,
     "metadata": {},
     "output_type": "execute_result"
    },
    {
     "data": {
      "image/png": "[encoded data removed]",
      "text/plain": [
       "<Figure size 432x288 with 1 Axes>"
      ]
     },
     "metadata": {
      "needs_background": "light"
     },
     "output_type": "display_data"
    }
   ],
   "source": [
    "plt.scatter(x, y, s = 3)\n",
    "plt.xlabel('Days')\n",
    "plt.ylabel('Reaction time')\n",
    "plt.title('Correlation between days of sleep deprivation and reaction time')"
   ]
  },
  {
   "cell_type": "code",
   "execution_count": 201,
   "id": "a79f9e4f",
   "metadata": {},
   "outputs": [
    {
     "data": {
      "text/plain": [
       "(0.5352302262650253, 9.894096322214812e-15, 0.05)"
      ]
     },
     "execution_count": 201,
     "metadata": {},
     "output_type": "execute_result"
    }
   ],
   "source": [
    "corr, p = stats.pearsonr(x, y)\n",
    "corr, p, alpha"
   ]
  },
  {
   "cell_type": "code",
   "execution_count": 202,
   "id": "f3f68859",
   "metadata": {},
   "outputs": [
    {
     "data": {
      "text/plain": [
       "True"
      ]
     },
     "execution_count": 202,
     "metadata": {},
     "output_type": "execute_result"
    }
   ],
   "source": [
    "p < alpha"
   ]
  },
  {
   "cell_type": "code",
   "execution_count": 203,
   "id": "27dd4746",
   "metadata": {},
   "outputs": [
    {
     "name": "stdout",
     "output_type": "stream",
     "text": [
      "We reject the null hypothesis.\n"
     ]
    }
   ],
   "source": [
    "if p < alpha:\n",
    "    print(\"We reject the null hypothesis.\")\n",
    "else:\n",
    "    print(\"We fail to reject the null hypothesis\")"
   ]
  },
  {
   "cell_type": "code",
   "execution_count": null,
   "id": "e9c2a082",
   "metadata": {},
   "outputs": [],
   "source": []
  },
  {
   "cell_type": "code",
   "execution_count": null,
   "id": "f85fc402",
   "metadata": {},
   "outputs": [],
   "source": [
    "# Chi Square Exercises - χ2 Contingency Table Test"
   ]
  },
  {
   "cell_type": "code",
   "execution_count": null,
   "id": "c71be61d",
   "metadata": {},
   "outputs": [],
   "source": []
  },
  {
   "cell_type": "code",
   "execution_count": null,
   "id": "579bd91a",
   "metadata": {},
   "outputs": [],
   "source": [
    "# 1. Use the following contingency table to help answer the question of whether using a macbook and \n",
    "#    being a codeup student are independent of each other.\n",
    "\n",
    "#                        Codeup Student       Not Codeup Student\n",
    "# Uses a Macbook               49                     20\n",
    "# Doesn't Use A Macbook         1                     30\n"
   ]
  },
  {
   "cell_type": "code",
   "execution_count": null,
   "id": "5abde59d",
   "metadata": {},
   "outputs": [],
   "source": [
    "# Ho: There is no association between using a mac and being a codeup student (independence)\n",
    "\n",
    "# Ha: There is a association between using a mac and being a codeup student\n"
   ]
  },
  {
   "cell_type": "code",
   "execution_count": 208,
   "id": "fd695c95",
   "metadata": {},
   "outputs": [
    {
     "data": {
      "text/html": [
       "<div>\n",
       "<style scoped>\n",
       "    .dataframe tbody tr th:only-of-type {\n",
       "        vertical-align: middle;\n",
       "    }\n",
       "\n",
       "    .dataframe tbody tr th {\n",
       "        vertical-align: top;\n",
       "    }\n",
       "\n",
       "    .dataframe thead th {\n",
       "        text-align: right;\n",
       "    }\n",
       "</style>\n",
       "<table border=\"1\" class=\"dataframe\">\n",
       "  <thead>\n",
       "    <tr style=\"text-align: right;\">\n",
       "      <th></th>\n",
       "      <th>Codeup_Student</th>\n",
       "      <th>Not_Codeup_Student</th>\n",
       "    </tr>\n",
       "  </thead>\n",
       "  <tbody>\n",
       "    <tr>\n",
       "      <th>Uses_MacBook</th>\n",
       "      <td>49</td>\n",
       "      <td>20</td>\n",
       "    </tr>\n",
       "    <tr>\n",
       "      <th>Not_using_MacBook</th>\n",
       "      <td>1</td>\n",
       "      <td>30</td>\n",
       "    </tr>\n",
       "  </tbody>\n",
       "</table>\n",
       "</div>"
      ],
      "text/plain": [
       "                   Codeup_Student  Not_Codeup_Student\n",
       "Uses_MacBook                   49                  20\n",
       "Not_using_MacBook               1                  30"
      ]
     },
     "execution_count": 208,
     "metadata": {},
     "output_type": "execute_result"
    }
   ],
   "source": [
    "# create contingency table\n",
    "\n",
    "index = ['Uses_MacBook', 'Not_using_MacBook']\n",
    "columns = ['Codeup_Student', 'Not_Codeup_Student']\n",
    "\n",
    "observed = pd.DataFrame([[49, 20], [1, 30]], index = index, columns = columns)\n",
    "observed"
   ]
  },
  {
   "cell_type": "code",
   "execution_count": 209,
   "id": "d24e49c3",
   "metadata": {},
   "outputs": [],
   "source": [
    "# Set alpha\n",
    "\n",
    "alpha = 0.05"
   ]
  },
  {
   "cell_type": "code",
   "execution_count": 210,
   "id": "c13601f7",
   "metadata": {},
   "outputs": [],
   "source": [
    "# .chi2_contingency returns 4 different values\n",
    "\n",
    "chi2, p, degf, expected = stats.chi2_contingency(observed)"
   ]
  },
  {
   "cell_type": "code",
   "execution_count": 211,
   "id": "0dcdad43",
   "metadata": {},
   "outputs": [
    {
     "name": "stdout",
     "output_type": "stream",
     "text": [
      "Observed\n",
      "\n",
      "[[49 20]\n",
      " [ 1 30]]\n",
      "---\n",
      "Expected\n",
      "\n",
      "[[34 34]\n",
      " [15 15]]\n",
      "---\n",
      "\n",
      "chi^2 = 36.6526\n",
      "p     = 0.0000\n"
     ]
    }
   ],
   "source": [
    "print('Observed\\n')\n",
    "print(observed.values)\n",
    "print('---\\nExpected\\n')\n",
    "print(expected.astype(int))\n",
    "print('---\\n')\n",
    "print(f'chi^2 = {chi2:.4f}')\n",
    "print(f'p     = {p:.4f}')"
   ]
  },
  {
   "cell_type": "code",
   "execution_count": 214,
   "id": "85871665",
   "metadata": {},
   "outputs": [
    {
     "name": "stdout",
     "output_type": "stream",
     "text": [
      "We reject the null hypothesis.\n"
     ]
    }
   ],
   "source": [
    "if p < alpha:\n",
    "    print(\"We reject the null hypothesis.\")\n",
    "else:\n",
    "    print(\"We fail to reject the null hypothesis\")"
   ]
  },
  {
   "cell_type": "code",
   "execution_count": null,
   "id": "f410ff7b",
   "metadata": {},
   "outputs": [],
   "source": []
  },
  {
   "cell_type": "code",
   "execution_count": null,
   "id": "94a47939",
   "metadata": {},
   "outputs": [],
   "source": [
    "# 2. Choose another 2 categorical variables from the mpg dataset and perform a chi^2\n",
    "#    contingency table test with them. Be sure to state your null and alternative hypotheses."
   ]
  },
  {
   "cell_type": "code",
   "execution_count": 216,
   "id": "bbbb891e",
   "metadata": {},
   "outputs": [
    {
     "data": {
      "text/html": [
       "<div>\n",
       "<style scoped>\n",
       "    .dataframe tbody tr th:only-of-type {\n",
       "        vertical-align: middle;\n",
       "    }\n",
       "\n",
       "    .dataframe tbody tr th {\n",
       "        vertical-align: top;\n",
       "    }\n",
       "\n",
       "    .dataframe thead th {\n",
       "        text-align: right;\n",
       "    }\n",
       "</style>\n",
       "<table border=\"1\" class=\"dataframe\">\n",
       "  <thead>\n",
       "    <tr style=\"text-align: right;\">\n",
       "      <th></th>\n",
       "      <th>manufacturer</th>\n",
       "      <th>model</th>\n",
       "      <th>displ</th>\n",
       "      <th>year</th>\n",
       "      <th>cyl</th>\n",
       "      <th>trans</th>\n",
       "      <th>drv</th>\n",
       "      <th>cty</th>\n",
       "      <th>hwy</th>\n",
       "      <th>fl</th>\n",
       "      <th>class</th>\n",
       "    </tr>\n",
       "  </thead>\n",
       "  <tbody>\n",
       "    <tr>\n",
       "      <th>1</th>\n",
       "      <td>audi</td>\n",
       "      <td>a4</td>\n",
       "      <td>1.8</td>\n",
       "      <td>1999</td>\n",
       "      <td>4</td>\n",
       "      <td>auto(l5)</td>\n",
       "      <td>f</td>\n",
       "      <td>18</td>\n",
       "      <td>29</td>\n",
       "      <td>p</td>\n",
       "      <td>compact</td>\n",
       "    </tr>\n",
       "    <tr>\n",
       "      <th>2</th>\n",
       "      <td>audi</td>\n",
       "      <td>a4</td>\n",
       "      <td>1.8</td>\n",
       "      <td>1999</td>\n",
       "      <td>4</td>\n",
       "      <td>manual(m5)</td>\n",
       "      <td>f</td>\n",
       "      <td>21</td>\n",
       "      <td>29</td>\n",
       "      <td>p</td>\n",
       "      <td>compact</td>\n",
       "    </tr>\n",
       "    <tr>\n",
       "      <th>3</th>\n",
       "      <td>audi</td>\n",
       "      <td>a4</td>\n",
       "      <td>2.0</td>\n",
       "      <td>2008</td>\n",
       "      <td>4</td>\n",
       "      <td>manual(m6)</td>\n",
       "      <td>f</td>\n",
       "      <td>20</td>\n",
       "      <td>31</td>\n",
       "      <td>p</td>\n",
       "      <td>compact</td>\n",
       "    </tr>\n",
       "    <tr>\n",
       "      <th>4</th>\n",
       "      <td>audi</td>\n",
       "      <td>a4</td>\n",
       "      <td>2.0</td>\n",
       "      <td>2008</td>\n",
       "      <td>4</td>\n",
       "      <td>auto(av)</td>\n",
       "      <td>f</td>\n",
       "      <td>21</td>\n",
       "      <td>30</td>\n",
       "      <td>p</td>\n",
       "      <td>compact</td>\n",
       "    </tr>\n",
       "    <tr>\n",
       "      <th>5</th>\n",
       "      <td>audi</td>\n",
       "      <td>a4</td>\n",
       "      <td>2.8</td>\n",
       "      <td>1999</td>\n",
       "      <td>6</td>\n",
       "      <td>auto(l5)</td>\n",
       "      <td>f</td>\n",
       "      <td>16</td>\n",
       "      <td>26</td>\n",
       "      <td>p</td>\n",
       "      <td>compact</td>\n",
       "    </tr>\n",
       "  </tbody>\n",
       "</table>\n",
       "</div>"
      ],
      "text/plain": [
       "  manufacturer model  displ  year  cyl       trans drv  cty  hwy fl    class\n",
       "1         audi    a4    1.8  1999    4    auto(l5)   f   18   29  p  compact\n",
       "2         audi    a4    1.8  1999    4  manual(m5)   f   21   29  p  compact\n",
       "3         audi    a4    2.0  2008    4  manual(m6)   f   20   31  p  compact\n",
       "4         audi    a4    2.0  2008    4    auto(av)   f   21   30  p  compact\n",
       "5         audi    a4    2.8  1999    6    auto(l5)   f   16   26  p  compact"
      ]
     },
     "execution_count": 216,
     "metadata": {},
     "output_type": "execute_result"
    }
   ],
   "source": [
    "df = data('mpg')\n",
    "df.head()"
   ]
  },
  {
   "cell_type": "code",
   "execution_count": 217,
   "id": "03189898",
   "metadata": {},
   "outputs": [
    {
     "data": {
      "text/plain": [
       "manufacturer    15\n",
       "model           38\n",
       "displ           35\n",
       "year             2\n",
       "cyl              4\n",
       "trans           10\n",
       "drv              3\n",
       "cty             21\n",
       "hwy             27\n",
       "fl               5\n",
       "class            7\n",
       "dtype: int64"
      ]
     },
     "execution_count": 217,
     "metadata": {},
     "output_type": "execute_result"
    }
   ],
   "source": [
    "df.nunique()"
   ]
  },
  {
   "cell_type": "code",
   "execution_count": 221,
   "id": "f0eb675d",
   "metadata": {},
   "outputs": [],
   "source": [
    "# Ho: There is no association between number of cylinders and drive type (independence)\n",
    "# Ha: There is an association between number of cylinders and drive type# Set alpha\n",
    "\n",
    "alpha = 0.05"
   ]
  },
  {
   "cell_type": "code",
   "execution_count": 224,
   "id": "5bd18ad6",
   "metadata": {},
   "outputs": [
    {
     "data": {
      "text/html": [
       "<div>\n",
       "<style scoped>\n",
       "    .dataframe tbody tr th:only-of-type {\n",
       "        vertical-align: middle;\n",
       "    }\n",
       "\n",
       "    .dataframe tbody tr th {\n",
       "        vertical-align: top;\n",
       "    }\n",
       "\n",
       "    .dataframe thead th {\n",
       "        text-align: right;\n",
       "    }\n",
       "</style>\n",
       "<table border=\"1\" class=\"dataframe\">\n",
       "  <thead>\n",
       "    <tr style=\"text-align: right;\">\n",
       "      <th>drv</th>\n",
       "      <th>4</th>\n",
       "      <th>f</th>\n",
       "      <th>r</th>\n",
       "    </tr>\n",
       "    <tr>\n",
       "      <th>cyl</th>\n",
       "      <th></th>\n",
       "      <th></th>\n",
       "      <th></th>\n",
       "    </tr>\n",
       "  </thead>\n",
       "  <tbody>\n",
       "    <tr>\n",
       "      <th>4</th>\n",
       "      <td>23</td>\n",
       "      <td>58</td>\n",
       "      <td>0</td>\n",
       "    </tr>\n",
       "    <tr>\n",
       "      <th>5</th>\n",
       "      <td>0</td>\n",
       "      <td>4</td>\n",
       "      <td>0</td>\n",
       "    </tr>\n",
       "    <tr>\n",
       "      <th>6</th>\n",
       "      <td>32</td>\n",
       "      <td>43</td>\n",
       "      <td>4</td>\n",
       "    </tr>\n",
       "    <tr>\n",
       "      <th>8</th>\n",
       "      <td>48</td>\n",
       "      <td>1</td>\n",
       "      <td>21</td>\n",
       "    </tr>\n",
       "  </tbody>\n",
       "</table>\n",
       "</div>"
      ],
      "text/plain": [
       "drv   4   f   r\n",
       "cyl            \n",
       "4    23  58   0\n",
       "5     0   4   0\n",
       "6    32  43   4\n",
       "8    48   1  21"
      ]
     },
     "execution_count": 224,
     "metadata": {},
     "output_type": "execute_result"
    }
   ],
   "source": [
    "# Crosstab\n",
    "\n",
    "observed_2 = pd.crosstab(df.cyl, df.drv)\n",
    "observed_2"
   ]
  },
  {
   "cell_type": "code",
   "execution_count": 225,
   "id": "9c75c843",
   "metadata": {},
   "outputs": [],
   "source": [
    "# .chi2_contingency returns 4 different values\n",
    "\n",
    "chi2, p, degf, expected = stats.chi2_contingency(observed_2)"
   ]
  },
  {
   "cell_type": "code",
   "execution_count": 226,
   "id": "611bc2c7",
   "metadata": {},
   "outputs": [
    {
     "name": "stdout",
     "output_type": "stream",
     "text": [
      "Observed\n",
      "\n",
      "[[49 20]\n",
      " [ 1 30]]\n",
      "---\n",
      "Expected\n",
      "\n",
      "[[35 36  8]\n",
      " [ 1  1  0]\n",
      " [34 35  8]\n",
      " [30 31  7]]\n",
      "---\n",
      "\n",
      "chi^2 = 98.1355\n",
      "p     = 0.0000\n"
     ]
    }
   ],
   "source": [
    "print('Observed\\n')\n",
    "print(observed.values)\n",
    "print('---\\nExpected\\n')\n",
    "print(expected.astype(int))\n",
    "print('---\\n')\n",
    "print(f'chi^2 = {chi2:.4f}')\n",
    "print(f'p     = {p:.4f}')"
   ]
  },
  {
   "cell_type": "code",
   "execution_count": 227,
   "id": "fe457e03",
   "metadata": {},
   "outputs": [
    {
     "name": "stdout",
     "output_type": "stream",
     "text": [
      "We reject the null hypothesis.\n"
     ]
    }
   ],
   "source": [
    "if p < alpha:\n",
    "    print(\"We reject the null hypothesis.\")\n",
    "else:\n",
    "    print(\"We fail to reject the null hypothesis\")"
   ]
  },
  {
   "cell_type": "code",
   "execution_count": null,
   "id": "40e1e2b9",
   "metadata": {},
   "outputs": [],
   "source": []
  },
  {
   "cell_type": "code",
   "execution_count": null,
   "id": "56c17a8e",
   "metadata": {},
   "outputs": [],
   "source": [
    "# 3. Use the data from the employees database to answer these questions:\n",
    "\n",
    "# 3a. Is an employee's gender independent of whether an employee works in sales or marketing? (only look at current employees)\n",
    "\n",
    "# Ho: There is no association between gender and department (independence)\n",
    "# Ha: There is an association between gender and department"
   ]
  },
  {
   "cell_type": "code",
   "execution_count": 229,
   "id": "11e45402",
   "metadata": {},
   "outputs": [],
   "source": [
    "emp_df = pd.read_sql( '''\n",
    "SELECT emp_no, gender, dept_no, dept_name\n",
    "FROM employees e\n",
    "JOIN dept_emp USING (emp_no)\n",
    "JOIN departments d USING (dept_no)\n",
    "WHERE d.dept_name IN ('Sales', 'Marketing')\n",
    "and to_date > now()\n",
    "''', url)"
   ]
  },
  {
   "cell_type": "code",
   "execution_count": 230,
   "id": "f6e6f53b",
   "metadata": {},
   "outputs": [
    {
     "data": {
      "text/html": [
       "<div>\n",
       "<style scoped>\n",
       "    .dataframe tbody tr th:only-of-type {\n",
       "        vertical-align: middle;\n",
       "    }\n",
       "\n",
       "    .dataframe tbody tr th {\n",
       "        vertical-align: top;\n",
       "    }\n",
       "\n",
       "    .dataframe thead th {\n",
       "        text-align: right;\n",
       "    }\n",
       "</style>\n",
       "<table border=\"1\" class=\"dataframe\">\n",
       "  <thead>\n",
       "    <tr style=\"text-align: right;\">\n",
       "      <th></th>\n",
       "      <th>emp_no</th>\n",
       "      <th>gender</th>\n",
       "      <th>dept_no</th>\n",
       "      <th>dept_name</th>\n",
       "    </tr>\n",
       "  </thead>\n",
       "  <tbody>\n",
       "    <tr>\n",
       "      <th>0</th>\n",
       "      <td>10017</td>\n",
       "      <td>F</td>\n",
       "      <td>d001</td>\n",
       "      <td>Marketing</td>\n",
       "    </tr>\n",
       "    <tr>\n",
       "      <th>1</th>\n",
       "      <td>10058</td>\n",
       "      <td>M</td>\n",
       "      <td>d001</td>\n",
       "      <td>Marketing</td>\n",
       "    </tr>\n",
       "    <tr>\n",
       "      <th>2</th>\n",
       "      <td>10140</td>\n",
       "      <td>F</td>\n",
       "      <td>d001</td>\n",
       "      <td>Marketing</td>\n",
       "    </tr>\n",
       "    <tr>\n",
       "      <th>3</th>\n",
       "      <td>10228</td>\n",
       "      <td>F</td>\n",
       "      <td>d001</td>\n",
       "      <td>Marketing</td>\n",
       "    </tr>\n",
       "    <tr>\n",
       "      <th>4</th>\n",
       "      <td>10239</td>\n",
       "      <td>F</td>\n",
       "      <td>d001</td>\n",
       "      <td>Marketing</td>\n",
       "    </tr>\n",
       "  </tbody>\n",
       "</table>\n",
       "</div>"
      ],
      "text/plain": [
       "   emp_no gender dept_no  dept_name\n",
       "0   10017      F    d001  Marketing\n",
       "1   10058      M    d001  Marketing\n",
       "2   10140      F    d001  Marketing\n",
       "3   10228      F    d001  Marketing\n",
       "4   10239      F    d001  Marketing"
      ]
     },
     "execution_count": 230,
     "metadata": {},
     "output_type": "execute_result"
    }
   ],
   "source": [
    "emp_df.head()"
   ]
  },
  {
   "cell_type": "code",
   "execution_count": 231,
   "id": "054958f6",
   "metadata": {},
   "outputs": [
    {
     "data": {
      "text/html": [
       "<div>\n",
       "<style scoped>\n",
       "    .dataframe tbody tr th:only-of-type {\n",
       "        vertical-align: middle;\n",
       "    }\n",
       "\n",
       "    .dataframe tbody tr th {\n",
       "        vertical-align: top;\n",
       "    }\n",
       "\n",
       "    .dataframe thead th {\n",
       "        text-align: right;\n",
       "    }\n",
       "</style>\n",
       "<table border=\"1\" class=\"dataframe\">\n",
       "  <thead>\n",
       "    <tr style=\"text-align: right;\">\n",
       "      <th>dept_name</th>\n",
       "      <th>Marketing</th>\n",
       "      <th>Sales</th>\n",
       "    </tr>\n",
       "    <tr>\n",
       "      <th>gender</th>\n",
       "      <th></th>\n",
       "      <th></th>\n",
       "    </tr>\n",
       "  </thead>\n",
       "  <tbody>\n",
       "    <tr>\n",
       "      <th>F</th>\n",
       "      <td>5864</td>\n",
       "      <td>14999</td>\n",
       "    </tr>\n",
       "    <tr>\n",
       "      <th>M</th>\n",
       "      <td>8978</td>\n",
       "      <td>22702</td>\n",
       "    </tr>\n",
       "  </tbody>\n",
       "</table>\n",
       "</div>"
      ],
      "text/plain": [
       "dept_name  Marketing  Sales\n",
       "gender                     \n",
       "F               5864  14999\n",
       "M               8978  22702"
      ]
     },
     "execution_count": 231,
     "metadata": {},
     "output_type": "execute_result"
    }
   ],
   "source": [
    "# Crosstab\n",
    "\n",
    "observed_3 = pd.crosstab(emp_df.gender,emp_df.dept_name)\n",
    "observed_3"
   ]
  },
  {
   "cell_type": "code",
   "execution_count": 232,
   "id": "8c655918",
   "metadata": {},
   "outputs": [],
   "source": [
    "# Set our alpha\n",
    "\n",
    "alpha = 0.01"
   ]
  },
  {
   "cell_type": "code",
   "execution_count": 233,
   "id": "f5e584e0",
   "metadata": {},
   "outputs": [],
   "source": [
    "# .chi2_contingency returns 4 different values\n",
    "\n",
    "chi2, p, degf, expected = stats.chi2_contingency(observed_3)"
   ]
  },
  {
   "cell_type": "code",
   "execution_count": 234,
   "id": "86e77bcb",
   "metadata": {},
   "outputs": [
    {
     "name": "stdout",
     "output_type": "stream",
     "text": [
      "Observed\n",
      "\n",
      "[[49 20]\n",
      " [ 1 30]]\n",
      "---\n",
      "Expected\n",
      "\n",
      "[[ 5893 14969]\n",
      " [ 8948 22731]]\n",
      "---\n",
      "\n",
      "chi^2 = 0.3240\n",
      "p     = 0.5692\n"
     ]
    }
   ],
   "source": [
    "print('Observed\\n')\n",
    "print(observed.values)\n",
    "print('---\\nExpected\\n')\n",
    "print(expected.astype(int))\n",
    "print('---\\n')\n",
    "print(f'chi^2 = {chi2:.4f}')\n",
    "print(f'p     = {p:.4f}')"
   ]
  },
  {
   "cell_type": "code",
   "execution_count": 235,
   "id": "f076bbbf",
   "metadata": {},
   "outputs": [
    {
     "name": "stdout",
     "output_type": "stream",
     "text": [
      "We fail to reject the null hypothesis\n"
     ]
    }
   ],
   "source": [
    "if p < alpha:\n",
    "    print(\"We reject the null hypothesis.\")\n",
    "else:\n",
    "    print(\"We fail to reject the null hypothesis\")"
   ]
  },
  {
   "cell_type": "code",
   "execution_count": null,
   "id": "11da0544",
   "metadata": {},
   "outputs": [],
   "source": []
  },
  {
   "cell_type": "code",
   "execution_count": null,
   "id": "16c970bb",
   "metadata": {},
   "outputs": [],
   "source": [
    "# 3b. Is an employee's gender independent of whether or not they are or have been a manager?"
   ]
  },
  {
   "cell_type": "code",
   "execution_count": 236,
   "id": "81cf74f6",
   "metadata": {},
   "outputs": [],
   "source": [
    "manager_df = pd.read_sql('''\n",
    "SELECT e.emp_no, dm.dept_no, gender\n",
    "FROM employees e\n",
    "LEFT JOIN dept_manager dm USING (emp_no);\n",
    "''', url)"
   ]
  },
  {
   "cell_type": "code",
   "execution_count": 237,
   "id": "2da93342",
   "metadata": {},
   "outputs": [
    {
     "data": {
      "text/html": [
       "<div>\n",
       "<style scoped>\n",
       "    .dataframe tbody tr th:only-of-type {\n",
       "        vertical-align: middle;\n",
       "    }\n",
       "\n",
       "    .dataframe tbody tr th {\n",
       "        vertical-align: top;\n",
       "    }\n",
       "\n",
       "    .dataframe thead th {\n",
       "        text-align: right;\n",
       "    }\n",
       "</style>\n",
       "<table border=\"1\" class=\"dataframe\">\n",
       "  <thead>\n",
       "    <tr style=\"text-align: right;\">\n",
       "      <th></th>\n",
       "      <th>emp_no</th>\n",
       "      <th>dept_no</th>\n",
       "      <th>gender</th>\n",
       "    </tr>\n",
       "  </thead>\n",
       "  <tbody>\n",
       "    <tr>\n",
       "      <th>0</th>\n",
       "      <td>10001</td>\n",
       "      <td>None</td>\n",
       "      <td>M</td>\n",
       "    </tr>\n",
       "    <tr>\n",
       "      <th>1</th>\n",
       "      <td>10002</td>\n",
       "      <td>None</td>\n",
       "      <td>F</td>\n",
       "    </tr>\n",
       "    <tr>\n",
       "      <th>2</th>\n",
       "      <td>10003</td>\n",
       "      <td>None</td>\n",
       "      <td>M</td>\n",
       "    </tr>\n",
       "    <tr>\n",
       "      <th>3</th>\n",
       "      <td>10004</td>\n",
       "      <td>None</td>\n",
       "      <td>M</td>\n",
       "    </tr>\n",
       "    <tr>\n",
       "      <th>4</th>\n",
       "      <td>10005</td>\n",
       "      <td>None</td>\n",
       "      <td>M</td>\n",
       "    </tr>\n",
       "  </tbody>\n",
       "</table>\n",
       "</div>"
      ],
      "text/plain": [
       "   emp_no dept_no gender\n",
       "0   10001    None      M\n",
       "1   10002    None      F\n",
       "2   10003    None      M\n",
       "3   10004    None      M\n",
       "4   10005    None      M"
      ]
     },
     "execution_count": 237,
     "metadata": {},
     "output_type": "execute_result"
    }
   ],
   "source": [
    "manager_df.head()"
   ]
  },
  {
   "cell_type": "code",
   "execution_count": 238,
   "id": "b937f26a",
   "metadata": {},
   "outputs": [
    {
     "data": {
      "text/html": [
       "<div>\n",
       "<style scoped>\n",
       "    .dataframe tbody tr th:only-of-type {\n",
       "        vertical-align: middle;\n",
       "    }\n",
       "\n",
       "    .dataframe tbody tr th {\n",
       "        vertical-align: top;\n",
       "    }\n",
       "\n",
       "    .dataframe thead th {\n",
       "        text-align: right;\n",
       "    }\n",
       "</style>\n",
       "<table border=\"1\" class=\"dataframe\">\n",
       "  <thead>\n",
       "    <tr style=\"text-align: right;\">\n",
       "      <th></th>\n",
       "      <th>emp_no</th>\n",
       "      <th>is_manager</th>\n",
       "      <th>gender</th>\n",
       "    </tr>\n",
       "  </thead>\n",
       "  <tbody>\n",
       "    <tr>\n",
       "      <th>0</th>\n",
       "      <td>10001</td>\n",
       "      <td>0</td>\n",
       "      <td>M</td>\n",
       "    </tr>\n",
       "    <tr>\n",
       "      <th>1</th>\n",
       "      <td>10002</td>\n",
       "      <td>0</td>\n",
       "      <td>F</td>\n",
       "    </tr>\n",
       "    <tr>\n",
       "      <th>2</th>\n",
       "      <td>10003</td>\n",
       "      <td>0</td>\n",
       "      <td>M</td>\n",
       "    </tr>\n",
       "    <tr>\n",
       "      <th>3</th>\n",
       "      <td>10004</td>\n",
       "      <td>0</td>\n",
       "      <td>M</td>\n",
       "    </tr>\n",
       "    <tr>\n",
       "      <th>4</th>\n",
       "      <td>10005</td>\n",
       "      <td>0</td>\n",
       "      <td>M</td>\n",
       "    </tr>\n",
       "  </tbody>\n",
       "</table>\n",
       "</div>"
      ],
      "text/plain": [
       "   emp_no  is_manager gender\n",
       "0   10001           0      M\n",
       "1   10002           0      F\n",
       "2   10003           0      M\n",
       "3   10004           0      M\n",
       "4   10005           0      M"
      ]
     },
     "execution_count": 238,
     "metadata": {},
     "output_type": "execute_result"
    }
   ],
   "source": [
    "# Change nulls to 0  \n",
    "# Rename dept_no column to is_manager where yes = 1 and no = 0\n",
    "\n",
    "manager_df = manager_df.rename(columns={'dept_no': 'is_manager'}).fillna(0)\n",
    "manager_df['is_manager'] = manager_df['is_manager'].apply(lambda x: x if x == 0 else 1)\n",
    "manager_df.head()"
   ]
  },
  {
   "cell_type": "code",
   "execution_count": 240,
   "id": "a9a4f9cd",
   "metadata": {},
   "outputs": [
    {
     "data": {
      "text/html": [
       "<div>\n",
       "<style scoped>\n",
       "    .dataframe tbody tr th:only-of-type {\n",
       "        vertical-align: middle;\n",
       "    }\n",
       "\n",
       "    .dataframe tbody tr th {\n",
       "        vertical-align: top;\n",
       "    }\n",
       "\n",
       "    .dataframe thead th {\n",
       "        text-align: right;\n",
       "    }\n",
       "</style>\n",
       "<table border=\"1\" class=\"dataframe\">\n",
       "  <thead>\n",
       "    <tr style=\"text-align: right;\">\n",
       "      <th>is_manager</th>\n",
       "      <th>0</th>\n",
       "      <th>1</th>\n",
       "    </tr>\n",
       "    <tr>\n",
       "      <th>gender</th>\n",
       "      <th></th>\n",
       "      <th></th>\n",
       "    </tr>\n",
       "  </thead>\n",
       "  <tbody>\n",
       "    <tr>\n",
       "      <th>F</th>\n",
       "      <td>120038</td>\n",
       "      <td>13</td>\n",
       "    </tr>\n",
       "    <tr>\n",
       "      <th>M</th>\n",
       "      <td>179962</td>\n",
       "      <td>11</td>\n",
       "    </tr>\n",
       "  </tbody>\n",
       "</table>\n",
       "</div>"
      ],
      "text/plain": [
       "is_manager       0   1\n",
       "gender                \n",
       "F           120038  13\n",
       "M           179962  11"
      ]
     },
     "execution_count": 240,
     "metadata": {},
     "output_type": "execute_result"
    }
   ],
   "source": [
    "# Crosstab\n",
    "\n",
    "observed_4 = pd.crosstab(manager_df.gender,manager_df.is_manager)\n",
    "observed_4"
   ]
  },
  {
   "cell_type": "code",
   "execution_count": 241,
   "id": "f0c87cf1",
   "metadata": {},
   "outputs": [],
   "source": [
    "# Set our alpha\n",
    "\n",
    "alpha = 0.01"
   ]
  },
  {
   "cell_type": "code",
   "execution_count": 242,
   "id": "d30b7445",
   "metadata": {},
   "outputs": [],
   "source": [
    "# .chi2_contingency returns 4 different values\n",
    "\n",
    "chi2, p, degf, expected = stats.chi2_contingency(observed_4)"
   ]
  },
  {
   "cell_type": "code",
   "execution_count": 243,
   "id": "6c20a237",
   "metadata": {},
   "outputs": [
    {
     "name": "stdout",
     "output_type": "stream",
     "text": [
      "Observed\n",
      "\n",
      "[[49 20]\n",
      " [ 1 30]]\n",
      "---\n",
      "Expected\n",
      "\n",
      "[[120041      9]\n",
      " [179958     14]]\n",
      "---\n",
      "\n",
      "chi^2 = 1.4567\n",
      "p     = 0.2275\n"
     ]
    }
   ],
   "source": [
    "print('Observed\\n')\n",
    "print(observed.values)\n",
    "print('---\\nExpected\\n')\n",
    "print(expected.astype(int))\n",
    "print('---\\n')\n",
    "print(f'chi^2 = {chi2:.4f}')\n",
    "print(f'p     = {p:.4f}')"
   ]
  },
  {
   "cell_type": "code",
   "execution_count": 244,
   "id": "8442d458",
   "metadata": {},
   "outputs": [
    {
     "name": "stdout",
     "output_type": "stream",
     "text": [
      "We fail to reject the null hypothesis\n"
     ]
    }
   ],
   "source": [
    "if p < alpha:\n",
    "    print(\"We reject the null hypothesis.\")\n",
    "else:\n",
    "    print(\"We fail to reject the null hypothesis\")"
   ]
  },
  {
   "cell_type": "code",
   "execution_count": null,
   "id": "ea238dcc",
   "metadata": {},
   "outputs": [],
   "source": []
  }
 ],
 "metadata": {
  "kernelspec": {
   "display_name": "Python 3",
   "language": "python",
   "name": "python3"
  },
  "language_info": {
   "codemirror_mode": {
    "name": "ipython",
    "version": 3
   },
   "file_extension": ".py",
   "mimetype": "text/x-python",
   "name": "python",
   "nbconvert_exporter": "python",
   "pygments_lexer": "ipython3",
   "version": "3.8.8"
  }
 },
 "nbformat": 4,
 "nbformat_minor": 5
}
