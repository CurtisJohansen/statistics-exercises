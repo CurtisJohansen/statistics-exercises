{
 "cells": [
  {
   "cell_type": "code",
   "execution_count": null,
   "id": "0d971669",
   "metadata": {},
   "outputs": [],
   "source": [
    "from math import sqrt\n",
    "from scipy import stats\n",
    "\n",
    "%matplotlib inline\n",
    "import matplotlib.pyplot as plt\n",
    "import numpy as np\n",
    "import pandas as pd\n",
    "#import viz # curriculum visualization examples\n",
    "import seaborn as sns\n",
    "#df = pd.read_csv('data/exam_scores.csv')\n",
    "#df.study_strategy.fillna('None', inplace=True)"
   ]
  },
  {
   "cell_type": "markdown",
   "id": "abfc13de",
   "metadata": {},
   "source": [
    " For each of the following questions, formulate a null and alternative hypothesis (be as specific as you can be), \n",
    " then give an example of what a true positive, true negative, type I and type II errors would look like. \n",
    " Note that some of the questions are intentionally phrased in a vague way. \n",
    " It is your job to reword these as more precise questions that could be tested.\n",
    "\n",
    " 1. Has the network latency gone up since we switched internet service providers?\n",
    " 2. Is the website redesign any good?\n",
    " 3. Is our television ad driving more sales?\n",
    "\n",
    " Null hypothesis = $H_{0}$\n",
    "\n",
    " Alternative hypothesis = $H_{a}$"
   ]
  },
  {
   "cell_type": "code",
   "execution_count": null,
   "id": "097b7116",
   "metadata": {},
   "outputs": [],
   "source": [
    "# 1. Has the network latency gone up since we switched internet service providers?\n",
    "\n",
    "# Reworded: Is the network latancy higher with the new internet service provider?\n",
    "\n",
    "\n",
    "# Null hypothesis: Network latency has not changed since switching service providers\n",
    "    \n",
    "# Alternative hypothesis: Network latency has increased since switching service providers\n",
    "    \n",
    "# True Positive: Reject the null hypothesis, and the network latency has chanced since switching providers\n",
    "    \n",
    "# True Negative: Fail to reject the the null hypothesis, and the network latency has not chanced since switching providers\n",
    "    \n",
    "# Type I error (False Positive): Reject the null hypothesis, but switching provides does not change network latency\n",
    "    \n",
    "# Type II error (False Negative): Fail to reject the null hypothesis, but switching provides does change network latency\n",
    "    \n",
    "# Internet Service Provider (discrete)\n",
    "# Internet network latency (continuous)\n"
   ]
  },
  {
   "cell_type": "code",
   "execution_count": null,
   "id": "3971c248",
   "metadata": {},
   "outputs": [],
   "source": []
  },
  {
   "cell_type": "code",
   "execution_count": null,
   "id": "71aec876",
   "metadata": {},
   "outputs": [],
   "source": [
    "# 2. Is the website redesign any good?\n",
    "\n",
    "# Reworded: Has the click though rate improved since the website redesign?\n",
    "\n",
    "\n",
    "# Null hypothesis: the click though rate has not changed since the website redesign\n",
    "    \n",
    "# Alternative hypothesis: the click though ratet has increased since the website redesign\n",
    "    \n",
    "# True Positive: Reject the null hypothesis, data shows there is a difference in the click though rate since the website redesign \n",
    "    \n",
    "# True Negative: Fail to reject the the null hypothesis,data shows there is not a difference in the click though rate since the website redesign\n",
    "    \n",
    "# Type I error (False Positive): Reject the null hypothesis, data shows there is a difference in the click though rate since the website redesign \n",
    "    \n",
    "# Type II error (False Negative): Fail to reject the null hypothesis, data shows there is not a difference in the click though rate since the website redesign\n",
    "\n",
    "# Click though rate (continuous/numeric)\n",
    "# Website old vs. new (discrete)"
   ]
  },
  {
   "cell_type": "code",
   "execution_count": null,
   "id": "2bfd2689",
   "metadata": {},
   "outputs": [],
   "source": []
  },
  {
   "cell_type": "code",
   "execution_count": null,
   "id": "f398497e",
   "metadata": {},
   "outputs": [],
   "source": [
    "# 3. Is our television ad driving more sales?\n",
    "\n",
    "# Reworded: Has sales revenue increased with the television ad campaign?\n",
    "\n",
    "\n",
    "# Null hypothesis: the television ad is not increasing sales\n",
    "\n",
    "# Alternative hypothesis: the television ad is increasing sales\n",
    "\n",
    "# True Positive: Reject the null hypothesis, data suggests that the ad campaign has increased sales \n",
    "\n",
    "# True Negative: Fail to reject the the null hypothesis, data suggests that the ad campaign has not increased sales\n",
    "\n",
    "# Type I error (False Positive): Reject the null hypothesis, data suggests that the ad campaign has increased sales\n",
    "\n",
    "# Type II error (False Negative): Fail to reject the null hypothesis, data suggests that the ad campaign has not increased sales\n",
    "    \n",
    "    \n",
    "# ad campaign \"time\" (continuous)\n",
    "# sales numbers (continous)   "
   ]
  }
 ],
 "metadata": {
  "kernelspec": {
   "display_name": "Python 3",
   "language": "python",
   "name": "python3"
  },
  "language_info": {
   "codemirror_mode": {
    "name": "ipython",
    "version": 3
   },
   "file_extension": ".py",
   "mimetype": "text/x-python",
   "name": "python",
   "nbconvert_exporter": "python",
   "pygments_lexer": "ipython3",
   "version": "3.8.8"
  }
 },
 "nbformat": 4,
 "nbformat_minor": 5
}
