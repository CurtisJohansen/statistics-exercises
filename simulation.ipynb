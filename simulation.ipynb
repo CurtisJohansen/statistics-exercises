{
 "cells": [
  {
   "cell_type": "code",
   "execution_count": 4,
   "id": "478d9715",
   "metadata": {},
   "outputs": [],
   "source": [
    "%matplotlib inline\n",
    "import numpy as np\n",
    "import pandas as pd\n",
    "\n",
    "#import viz # curriculum example visualizations\n",
    "\n",
    "np.random.seed(29)"
   ]
  },
  {
   "cell_type": "code",
   "execution_count": 69,
   "id": "88a86ec5",
   "metadata": {},
   "outputs": [
    {
     "data": {
      "text/plain": [
       "0.166621"
      ]
     },
     "execution_count": 69,
     "metadata": {},
     "output_type": "execute_result"
    }
   ],
   "source": [
    "# 1. How likely is it that you roll doubles when rolling two dice?\n",
    "\n",
    "outcomes = [1,2,3,4,5,6]\n",
    "\n",
    "n_trials = nrows = 1_000_000\n",
    "\n",
    "n_dice = ncols = 2\n",
    "\n",
    "dice_one = np.random.choice(outcomes, n_trials * n_dice).reshape(nrows,ncols)\n",
    "dice_two = np.random.choice(outcomes, n_trials * n_dice).reshape(nrows,ncols)\n",
    "doubles = (dice_one == dice_two).mean()\n",
    "doubles"
   ]
  },
  {
   "cell_type": "code",
   "execution_count": 12,
   "id": "19246810",
   "metadata": {},
   "outputs": [
    {
     "data": {
      "text/plain": [
       "0.218702"
      ]
     },
     "execution_count": 12,
     "metadata": {},
     "output_type": "execute_result"
    }
   ],
   "source": [
    "# 2. If you flip 8 coins, what is the probability of getting exactly 3 heads? \n",
    "#    What is the probability of getting more than 3 heads?\n",
    "\n",
    "outcomes = [1, 0]   # heads = 1 and tails = 0\n",
    "\n",
    "n_trials = nrows = 1_000_000\n",
    "n_coin = ncols = 8\n",
    "\n",
    "flips = np.random.choice(outcomes, n_trials * n_coin).reshape(nrows, ncols)\n",
    "heads = (flips == 1).sum(axis = 1)\n",
    "\n",
    "three_heads = (heads == 3).mean()\n",
    "three_heads"
   ]
  },
  {
   "cell_type": "code",
   "execution_count": 13,
   "id": "2667f12e",
   "metadata": {},
   "outputs": [
    {
     "data": {
      "text/plain": [
       "0.63689"
      ]
     },
     "execution_count": 13,
     "metadata": {},
     "output_type": "execute_result"
    }
   ],
   "source": [
    "more_than_three_heads = (heads > 3).mean()\n",
    "more_than_three_heads"
   ]
  },
  {
   "cell_type": "code",
   "execution_count": 35,
   "id": "84018517",
   "metadata": {},
   "outputs": [
    {
     "data": {
      "text/plain": [
       "0.250653"
      ]
     },
     "execution_count": 35,
     "metadata": {},
     "output_type": "execute_result"
    }
   ],
   "source": [
    "# 3. There are approximitely 3 web development cohorts for every 1 data science cohort at Codeup. \n",
    "#    Assuming that Codeup randomly selects an alumni to put on a billboard, what are the odds that \n",
    "#    the two billboards I drive past both have data science students on them?\n",
    "\n",
    "n_trials = nrows = 1_000_000\n",
    "n_billboards = ncols = 2\n",
    "\n",
    "result = np.random.choice(['web_dev', 'data_sci'], n_trials * n_billboards).reshape(nrows,ncols)\n",
    "codeup_billboard = (result == 'data_sci').sum(axis = 1)\n",
    "both_billboard = (codeup_billboard == 2).mean()\n",
    "both_billboard"
   ]
  },
  {
   "cell_type": "code",
   "execution_count": 43,
   "id": "c654887f",
   "metadata": {},
   "outputs": [
    {
     "data": {
      "text/plain": [
       "0.617208"
      ]
     },
     "execution_count": 43,
     "metadata": {},
     "output_type": "execute_result"
    }
   ],
   "source": [
    "# 4. Codeup students buy, on average, 3 poptart packages (+- 1.5) a day from the snack vending machine. \n",
    "#    If on monday the machine is restocked with 17 poptart packages, how likely is it that \n",
    "#    I will be able to buy some poptarts on Friday afternoon?\n",
    "\n",
    "poptart_avg = 3\n",
    "poptart_std_dev = 1.5\n",
    "\n",
    "n_days = 5\n",
    "n_simulations = 1_000_000\n",
    "\n",
    "poptart_bought = np.random.normal(poptart_avg, poptart_std_dev, size = (n_simulations, n_days))\n",
    "poptart_bought\n",
    "poptart_on_friday = 17 - poptart_bought.sum(axis = 1)\n",
    "poptart_on_friday\n",
    "\n",
    "(poptart_on_friday >= 1).mean()"
   ]
  },
  {
   "cell_type": "code",
   "execution_count": 68,
   "id": "4cba008f",
   "metadata": {},
   "outputs": [
    {
     "data": {
      "text/plain": [
       "0.2115791"
      ]
     },
     "execution_count": 68,
     "metadata": {},
     "output_type": "execute_result"
    }
   ],
   "source": [
    "# 5. Compare Heights\n",
    "\n",
    "#  Men have an average height of 178 cm and standard deviation of 8cm.\n",
    "#  Women have a mean of 170, sd = 6cm.\n",
    "#  Since you have means and standard deviations, you can use np.random.normal to generate observations.\n",
    "#  If a man and woman are chosen at random, P(woman taller than man)?\n",
    "\n",
    "# finding mens height\n",
    "\n",
    "men_avg = 178\n",
    "men_std_dev = 8\n",
    "\n",
    "n_person = 10\n",
    "n_simulations = 1_000_000\n",
    "\n",
    "men_height = np.random.normal(men_avg, men_std_dev, size = (n_simulations,n_person))\n",
    "men_height\n",
    "\n",
    "# finding women height\n",
    "\n",
    "women_avg = 170\n",
    "women_std_dev = 6\n",
    "\n",
    "n_person = 10\n",
    "n_simulations = 1_000_000\n",
    "\n",
    "women_height = np.random.normal(women_avg, women_std_dev, size = (n_simulations,n_person))\n",
    "women_height\n",
    "\n",
    "# P(woman taller than man)?\n",
    "\n",
    "(women_height > men_height).mean()"
   ]
  },
  {
   "cell_type": "code",
   "execution_count": null,
   "id": "37526939",
   "metadata": {},
   "outputs": [],
   "source": [
    "# 6. When installing anaconda on a student's computer, there's a 1 in 250 chance that the download is corrupted \n",
    "#    and the installation fails. What are the odds that after having 50 students download anaconda, \n",
    "#    no one has an installation issue? 100 students?\n",
    "\n",
    "# What is the probability that we observe an installation issue within the first 150 students\n",
    "# that download anaconda?\n",
    "\n",
    "# How likely is it that 450 students all download anaconda without an issue?"
   ]
  },
  {
   "cell_type": "code",
   "execution_count": 39,
   "id": "e75709eb",
   "metadata": {},
   "outputs": [
    {
     "data": {
      "text/plain": [
       "0.004"
      ]
     },
     "execution_count": 39,
     "metadata": {},
     "output_type": "execute_result"
    }
   ],
   "source": [
    "# install fail\n",
    "1/250  "
   ]
  },
  {
   "cell_type": "code",
   "execution_count": 40,
   "id": "689d0ef6",
   "metadata": {},
   "outputs": [
    {
     "data": {
      "text/plain": [
       "0.996"
      ]
     },
     "execution_count": 40,
     "metadata": {},
     "output_type": "execute_result"
    }
   ],
   "source": [
    "# install success \n",
    "1 - (1/250)"
   ]
  },
  {
   "cell_type": "code",
   "execution_count": 65,
   "id": "7e6fc60b",
   "metadata": {},
   "outputs": [
    {
     "data": {
      "text/plain": [
       "0.81797"
      ]
     },
     "execution_count": 65,
     "metadata": {},
     "output_type": "execute_result"
    }
   ],
   "source": [
    "# What are the odds that after having 50 students\n",
    "\n",
    "install_fail = 0.004\n",
    "install_success = 0.996\n",
    "\n",
    "n_student = 50      # number of students installing anaconda\n",
    "n_simulations = 1_000_000\n",
    "\n",
    "trials = np.random.random((n_simulations, n_student))\n",
    "successful_install = trials < install_success\n",
    "(successful_install.sum(axis = 1) == 50).mean()"
   ]
  },
  {
   "cell_type": "code",
   "execution_count": 66,
   "id": "c9e6b49e",
   "metadata": {},
   "outputs": [
    {
     "data": {
      "text/plain": [
       "0.670115"
      ]
     },
     "execution_count": 66,
     "metadata": {},
     "output_type": "execute_result"
    }
   ],
   "source": [
    "# What are the odds that after having 100 students\n",
    "\n",
    "install_fail = 0.004\n",
    "install_success = 0.996\n",
    "\n",
    "n_student = 100      # number of students installing anaconda\n",
    "n_simulations = 1_000_000\n",
    "\n",
    "trials = np.random.random((n_simulations, n_student))\n",
    "successful_install = trials < install_success\n",
    "(successful_install.sum(axis = 1) == 100).mean()"
   ]
  },
  {
   "cell_type": "code",
   "execution_count": 67,
   "id": "eabf8260",
   "metadata": {},
   "outputs": [
    {
     "data": {
      "text/plain": [
       "0.452058"
      ]
     },
     "execution_count": 67,
     "metadata": {},
     "output_type": "execute_result"
    }
   ],
   "source": [
    "# What is the probability that we observe an installation issue within the first 150 students that download anaconda?\n",
    "\n",
    "install_fail = 0.004\n",
    "install_success = 0.996\n",
    "\n",
    "n_student = 150      # number of students installing anaconda\n",
    "n_simulations = 1_000_000\n",
    "\n",
    "trials = np.random.random((n_simulations, n_student))\n",
    "failed_install = trials < install_fail\n",
    "(failed_install.sum(axis = 1) > 0).mean()"
   ]
  },
  {
   "cell_type": "code",
   "execution_count": 50,
   "id": "b000a259",
   "metadata": {},
   "outputs": [
    {
     "data": {
      "text/plain": [
       "0.164858"
      ]
     },
     "execution_count": 50,
     "metadata": {},
     "output_type": "execute_result"
    }
   ],
   "source": [
    "# How likely is it that 450 students all download anaconda without an issue?\n",
    "\n",
    "install_fail = 0.004\n",
    "install_success = 0.996\n",
    "\n",
    "n_student = 450      # number of students installing anaconda\n",
    "n_simulations = 1_000_000\n",
    "\n",
    "trials = np.random.random((n_simulations, n_student))\n",
    "successful_install = trials < install_success\n",
    "(successful_install.sum(axis = 1) == 450).mean()"
   ]
  },
  {
   "cell_type": "code",
   "execution_count": 53,
   "id": "0cd7761e",
   "metadata": {},
   "outputs": [
    {
     "data": {
      "text/plain": [
       "0.027052"
      ]
     },
     "execution_count": 53,
     "metadata": {},
     "output_type": "execute_result"
    }
   ],
   "source": [
    "# 7.There's a 70% chance on any given day that there will be at least one food truck at Travis Park. \n",
    "#   However, you haven't seen a food truck there in 3 days. How unlikely is this?\n",
    "\n",
    "result=[1,0]\n",
    "\n",
    "food = np.random.choice(result, size = (1_000_000, 3), p = (.70, .30))\n",
    "prob_no_food = food.sum(axis = 1)\n",
    "(prob_no_food == 0).mean()"
   ]
  },
  {
   "cell_type": "code",
   "execution_count": 54,
   "id": "502201dc",
   "metadata": {},
   "outputs": [
    {
     "data": {
      "text/plain": [
       "0.972948"
      ]
     },
     "execution_count": 54,
     "metadata": {},
     "output_type": "execute_result"
    }
   ],
   "source": [
    "#   How likely is it that a food truck will show up sometime this week?\n",
    "\n",
    "food_this_week = np.random.choice(result, size = (1_000_000, 7), p = (.70, .30))\n",
    "prob_food = food.sum(axis = 1)\n",
    "(prob_food >= 1).mean()"
   ]
  },
  {
   "cell_type": "code",
   "execution_count": 62,
   "id": "6b3b302f",
   "metadata": {},
   "outputs": [
    {
     "data": {
      "text/plain": [
       "0.507516"
      ]
     },
     "execution_count": 62,
     "metadata": {},
     "output_type": "execute_result"
    }
   ],
   "source": [
    "# 8. If 23 people are in the same room, what are the odds that two of them share a birthday? \n",
    "#    What if it's 20 people? 40?\n",
    "\n",
    "# 365 days in a year\n",
    "# 23 people in the room\n",
    "# 2 people share b-day\n",
    "\n",
    "outcomes = range(0,365)\n",
    "n_people = 23\n",
    "n_simulations = 1_000_000\n",
    "\n",
    "room = np.random.choice(outcomes, size = (n_simulations, n_people))\n",
    "same_bday =  [len(np.unique(room[n])) for n in range(0, n_simulations - 1) if len(np.unique(room[n])) < 23]\n",
    "shared = len(same_bday) / n_simulations\n",
    "shared"
   ]
  },
  {
   "cell_type": "code",
   "execution_count": 63,
   "id": "4fa61223",
   "metadata": {},
   "outputs": [
    {
     "data": {
      "text/plain": [
       "0.412262"
      ]
     },
     "execution_count": 63,
     "metadata": {},
     "output_type": "execute_result"
    }
   ],
   "source": [
    "# What if it's 20 people?\n",
    "\n",
    "outcomes = range(0,365)\n",
    "n_people = 20\n",
    "n_simulations = 1_000_000\n",
    "\n",
    "room = np.random.choice(outcomes, size = (n_simulations, n_people))\n",
    "same_bday =  [len(np.unique(room[n])) for n in range(0, n_simulations - 1) if len(np.unique(room[n])) < 20]\n",
    "shared = len(same_bday) / n_simulations\n",
    "shared"
   ]
  },
  {
   "cell_type": "code",
   "execution_count": 64,
   "id": "90311bc3",
   "metadata": {},
   "outputs": [
    {
     "data": {
      "text/plain": [
       "0.891505"
      ]
     },
     "execution_count": 64,
     "metadata": {},
     "output_type": "execute_result"
    }
   ],
   "source": [
    "# What if it's 40 people?\n",
    "\n",
    "outcomes = range(0,365)\n",
    "n_people = 40\n",
    "n_simulations = 1_000_000\n",
    "\n",
    "room = np.random.choice(outcomes, size = (n_simulations, n_people))\n",
    "same_bday =  [len(np.unique(room[n])) for n in range(0, n_simulations - 1) if len(np.unique(room[n])) < 40]\n",
    "shared = len(same_bday) / n_simulations\n",
    "shared"
   ]
  },
  {
   "cell_type": "code",
   "execution_count": null,
   "id": "924675d5",
   "metadata": {},
   "outputs": [],
   "source": []
  }
 ],
 "metadata": {
  "kernelspec": {
   "display_name": "Python 3",
   "language": "python",
   "name": "python3"
  },
  "language_info": {
   "codemirror_mode": {
    "name": "ipython",
    "version": 3
   },
   "file_extension": ".py",
   "mimetype": "text/x-python",
   "name": "python",
   "nbconvert_exporter": "python",
   "pygments_lexer": "ipython3",
   "version": "3.8.8"
  }
 },
 "nbformat": 4,
 "nbformat_minor": 5
}
