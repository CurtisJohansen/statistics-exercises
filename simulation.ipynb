{
 "cells": [
  {
   "cell_type": "code",
   "execution_count": 4,
   "id": "db6dbaa6",
   "metadata": {},
   "outputs": [],
   "source": [
    "%matplotlib inline\n",
    "import numpy as np\n",
    "import pandas as pd\n",
    "\n",
    "#import viz # curriculum example visualizations\n",
    "\n",
    "np.random.seed(29)"
   ]
  },
  {
   "cell_type": "code",
   "execution_count": 69,
   "id": "5f1d85cc",
   "metadata": {},
   "outputs": [
    {
     "data": {
      "text/plain": [
       "0.166621"
      ]
     },
     "execution_count": 69,
     "metadata": {},
     "output_type": "execute_result"
    }
   ],
   "source": [
    "# 1. How likely is it that you roll doubles when rolling two dice?\n",
    "\n",
    "outcomes = [1,2,3,4,5,6]\n",
    "\n",
    "n_trials = nrows = 1_000_000\n",
    "\n",
    "n_dice = ncols = 2\n",
    "\n",
    "dice_one = np.random.choice(outcomes, n_trials * n_dice).reshape(nrows,ncols)\n",
    "dice_two = np.random.choice(outcomes, n_trials * n_dice).reshape(nrows,ncols)\n",
    "doubles = (dice_one == dice_two).mean()\n",
    "doubles"
   ]
  },
  {
   "cell_type": "code",
   "execution_count": 12,
   "id": "f3322c38",
   "metadata": {},
   "outputs": [
    {
     "data": {
      "text/plain": [
       "0.218702"
      ]
     },
     "execution_count": 12,
     "metadata": {},
     "output_type": "execute_result"
    }
   ],
   "source": [
    "# 2. If you flip 8 coins, what is the probability of getting exactly 3 heads? \n",
    "#    What is the probability of getting more than 3 heads?\n",
    "\n",
    "outcomes = [1, 0]   # heads = 1 and tails = 0\n",
    "\n",
    "n_trials = nrows = 1_000_000\n",
    "n_coin = ncols = 8\n",
    "\n",
    "flips = np.random.choice(outcomes, n_trials * n_coin).reshape(nrows, ncols)\n",
    "heads = (flips == 1).sum(axis = 1)\n",
    "\n",
    "three_heads = (heads == 3).mean()\n",
    "three_heads"
   ]
  },
  {
   "cell_type": "code",
   "execution_count": 13,
   "id": "edda2f70",
   "metadata": {},
   "outputs": [
    {
     "data": {
      "text/plain": [
       "0.63689"
      ]
     },
     "execution_count": 13,
     "metadata": {},
     "output_type": "execute_result"
    }
   ],
   "source": [
    "more_than_three_heads = (heads > 3).mean()\n",
    "more_than_three_heads"
   ]
  },
  {
   "cell_type": "code",
   "execution_count": 5,
   "id": "ecb5ec67",
   "metadata": {},
   "outputs": [
    {
     "data": {
      "text/plain": [
       "0.062746"
      ]
     },
     "execution_count": 5,
     "metadata": {},
     "output_type": "execute_result"
    }
   ],
   "source": [
    "# 3. There are approximitely 3 web development cohorts for every 1 data science cohort at Codeup. \n",
    "#    Assuming that Codeup randomly selects an alumni to put on a billboard, what are the odds that \n",
    "#    the two billboards I drive past both have data science students on them?\n",
    "\n",
    "n_trials = nrows = 1_000_000\n",
    "n_billboards = ncols = 2\n",
    "\n",
    "result = np.random.choice(['web_dev', 'web_dev', 'web_dev', 'data_sci'], n_trials * n_billboards).reshape(nrows,ncols)\n",
    "codeup_billboard = (result == 'data_sci').sum(axis = 1)\n",
    "both_billboard = (codeup_billboard == 2).mean()\n",
    "both_billboard"
   ]
  },
  {
   "cell_type": "code",
   "execution_count": 6,
   "id": "6ddcd2cf",
   "metadata": {},
   "outputs": [
    {
     "data": {
      "text/plain": [
       "0.616472"
      ]
     },
     "execution_count": 6,
     "metadata": {},
     "output_type": "execute_result"
    }
   ],
   "source": [
    "# 4. Codeup students buy, on average, 3 poptart packages (+- 1.5) a day from the snack vending machine. \n",
    "#    If on monday the machine is restocked with 17 poptart packages, how likely is it that \n",
    "#    I will be able to buy some poptarts on Friday afternoon?\n",
    "\n",
    "poptart_avg = 3\n",
    "poptart_std_dev = 1.5\n",
    "\n",
    "n_days = 5\n",
    "n_simulations = 1_000_000\n",
    "\n",
    "poptart_bought = np.random.normal(poptart_avg, poptart_std_dev, size = (n_simulations, n_days))\n",
    "poptart_bought\n",
    "poptart_on_friday = 17 - poptart_bought.sum(axis = 1)\n",
    "poptart_on_friday\n",
    "\n",
    "(poptart_on_friday >= 1).mean()"
   ]
  },
  {
   "cell_type": "code",
   "execution_count": 68,
   "id": "a274bf0b",
   "metadata": {},
   "outputs": [
    {
     "data": {
      "text/plain": [
       "0.2115791"
      ]
     },
     "execution_count": 68,
     "metadata": {},
     "output_type": "execute_result"
    }
   ],
   "source": [
    "# 5. Compare Heights\n",
    "\n",
    "#  Men have an average height of 178 cm and standard deviation of 8cm.\n",
    "#  Women have a mean of 170, sd = 6cm.\n",
    "#  Since you have means and standard deviations, you can use np.random.normal to generate observations.\n",
    "#  If a man and woman are chosen at random, P(woman taller than man)?\n",
    "\n",
    "# finding mens height\n",
    "\n",
    "men_avg = 178\n",
    "men_std_dev = 8\n",
    "\n",
    "n_person = 10\n",
    "n_simulations = 1_000_000\n",
    "\n",
    "men_height = np.random.normal(men_avg, men_std_dev, size = (n_simulations,n_person))\n",
    "men_height\n",
    "\n",
    "# finding women height\n",
    "\n",
    "women_avg = 170\n",
    "women_std_dev = 6\n",
    "\n",
    "n_person = 10\n",
    "n_simulations = 1_000_000\n",
    "\n",
    "women_height = np.random.normal(women_avg, women_std_dev, size = (n_simulations,n_person))\n",
    "women_height\n",
    "\n",
    "# P(woman taller than man)?\n",
    "\n",
    "(women_height > men_height).mean()"
   ]
  },
  {
   "cell_type": "code",
   "execution_count": null,
   "id": "44b02812",
   "metadata": {},
   "outputs": [],
   "source": [
    "# 6. When installing anaconda on a student's computer, there's a 1 in 250 chance that the download is corrupted \n",
    "#    and the installation fails. What are the odds that after having 50 students download anaconda, \n",
    "#    no one has an installation issue? 100 students?\n",
    "\n",
    "# What is the probability that we observe an installation issue within the first 150 students\n",
    "# that download anaconda?\n",
    "\n",
    "# How likely is it that 450 students all download anaconda without an issue?"
   ]
  },
  {
   "cell_type": "code",
   "execution_count": 39,
   "id": "518f36f0",
   "metadata": {},
   "outputs": [
    {
     "data": {
      "text/plain": [
       "0.004"
      ]
     },
     "execution_count": 39,
     "metadata": {},
     "output_type": "execute_result"
    }
   ],
   "source": [
    "# install fail\n",
    "1/250  "
   ]
  },
  {
   "cell_type": "code",
   "execution_count": 40,
   "id": "5c90908e",
   "metadata": {},
   "outputs": [
    {
     "data": {
      "text/plain": [
       "0.996"
      ]
     },
     "execution_count": 40,
     "metadata": {},
     "output_type": "execute_result"
    }
   ],
   "source": [
    "# install success \n",
    "1 - (1/250)"
   ]
  },
  {
   "cell_type": "code",
   "execution_count": 65,
   "id": "d6ff44b7",
   "metadata": {},
   "outputs": [
    {
     "data": {
      "text/plain": [
       "0.81797"
      ]
     },
     "execution_count": 65,
     "metadata": {},
     "output_type": "execute_result"
    }
   ],
   "source": [
    "# What are the odds that after having 50 students\n",
    "\n",
    "install_fail = 0.004\n",
    "install_success = 0.996\n",
    "\n",
    "n_student = 50      # number of students installing anaconda\n",
    "n_simulations = 1_000_000\n",
    "\n",
    "trials = np.random.random((n_simulations, n_student))\n",
    "successful_install = trials < install_success\n",
    "(successful_install.sum(axis = 1) == 50).mean()"
   ]
  },
  {
   "cell_type": "code",
   "execution_count": 66,
   "id": "9b77534b",
   "metadata": {},
   "outputs": [
    {
     "data": {
      "text/plain": [
       "0.670115"
      ]
     },
     "execution_count": 66,
     "metadata": {},
     "output_type": "execute_result"
    }
   ],
   "source": [
    "# What are the odds that after having 100 students\n",
    "\n",
    "install_fail = 0.004\n",
    "install_success = 0.996\n",
    "\n",
    "n_student = 100      # number of students installing anaconda\n",
    "n_simulations = 1_000_000\n",
    "\n",
    "trials = np.random.random((n_simulations, n_student))\n",
    "successful_install = trials < install_success\n",
    "(successful_install.sum(axis = 1) == 100).mean()"
   ]
  },
  {
   "cell_type": "code",
   "execution_count": 67,
   "id": "b196db2e",
   "metadata": {},
   "outputs": [
    {
     "data": {
      "text/plain": [
       "0.452058"
      ]
     },
     "execution_count": 67,
     "metadata": {},
     "output_type": "execute_result"
    }
   ],
   "source": [
    "# What is the probability that we observe an installation issue within the first 150 students that download anaconda?\n",
    "\n",
    "install_fail = 0.004\n",
    "install_success = 0.996\n",
    "\n",
    "n_student = 150      # number of students installing anaconda\n",
    "n_simulations = 1_000_000\n",
    "\n",
    "trials = np.random.random((n_simulations, n_student))\n",
    "failed_install = trials < install_fail\n",
    "(failed_install.sum(axis = 1) > 0).mean()"
   ]
  },
  {
   "cell_type": "code",
   "execution_count": 50,
   "id": "40b5cfd0",
   "metadata": {},
   "outputs": [
    {
     "data": {
      "text/plain": [
       "0.164858"
      ]
     },
     "execution_count": 50,
     "metadata": {},
     "output_type": "execute_result"
    }
   ],
   "source": [
    "# How likely is it that 450 students all download anaconda without an issue?\n",
    "\n",
    "install_fail = 0.004\n",
    "install_success = 0.996\n",
    "\n",
    "n_student = 450      # number of students installing anaconda\n",
    "n_simulations = 1_000_000\n",
    "\n",
    "trials = np.random.random((n_simulations, n_student))\n",
    "successful_install = trials < install_success\n",
    "(successful_install.sum(axis = 1) == 450).mean()"
   ]
  },
  {
   "cell_type": "code",
   "execution_count": 53,
   "id": "e8b9f62c",
   "metadata": {},
   "outputs": [
    {
     "data": {
      "text/plain": [
       "0.027052"
      ]
     },
     "execution_count": 53,
     "metadata": {},
     "output_type": "execute_result"
    }
   ],
   "source": [
    "# 7.There's a 70% chance on any given day that there will be at least one food truck at Travis Park. \n",
    "#   However, you haven't seen a food truck there in 3 days. How unlikely is this?\n",
    "\n",
    "result=[1,0]\n",
    "\n",
    "food = np.random.choice(result, size = (1_000_000, 3), p = (.70, .30))\n",
    "prob_no_food = food.sum(axis = 1)\n",
    "(prob_no_food == 0).mean()"
   ]
  },
  {
   "cell_type": "code",
   "execution_count": 54,
   "id": "4249d84b",
   "metadata": {},
   "outputs": [
    {
     "data": {
      "text/plain": [
       "0.972948"
      ]
     },
     "execution_count": 54,
     "metadata": {},
     "output_type": "execute_result"
    }
   ],
   "source": [
    "#   How likely is it that a food truck will show up sometime this week?\n",
    "\n",
    "food_this_week = np.random.choice(result, size = (1_000_000, 7), p = (.70, .30))\n",
    "prob_food = food.sum(axis = 1)\n",
    "(prob_food >= 1).mean()"
   ]
  },
  {
   "cell_type": "code",
   "execution_count": 62,
   "id": "f682d2b0",
   "metadata": {},
   "outputs": [
    {
     "data": {
      "text/plain": [
       "0.507516"
      ]
     },
     "execution_count": 62,
     "metadata": {},
     "output_type": "execute_result"
    }
   ],
   "source": [
    "# 8. If 23 people are in the same room, what are the odds that two of them share a birthday? \n",
    "#    What if it's 20 people? 40?\n",
    "\n",
    "# 365 days in a year\n",
    "# 23 people in the room\n",
    "# 2 people share b-day\n",
    "\n",
    "outcomes = range(0,365)\n",
    "n_people = 23\n",
    "n_simulations = 1_000_000\n",
    "\n",
    "room = np.random.choice(outcomes, size = (n_simulations, n_people))\n",
    "same_bday =  [len(np.unique(room[n])) for n in range(0, n_simulations - 1) if len(np.unique(room[n])) < 23]\n",
    "shared = len(same_bday) / n_simulations\n",
    "shared"
   ]
  },
  {
   "cell_type": "code",
   "execution_count": 63,
   "id": "34680290",
   "metadata": {},
   "outputs": [
    {
     "data": {
      "text/plain": [
       "0.412262"
      ]
     },
     "execution_count": 63,
     "metadata": {},
     "output_type": "execute_result"
    }
   ],
   "source": [
    "# What if it's 20 people?\n",
    "\n",
    "outcomes = range(0,365)\n",
    "n_people = 20\n",
    "n_simulations = 1_000_000\n",
    "\n",
    "room = np.random.choice(outcomes, size = (n_simulations, n_people))\n",
    "same_bday =  [len(np.unique(room[n])) for n in range(0, n_simulations - 1) if len(np.unique(room[n])) < 20]\n",
    "shared = len(same_bday) / n_simulations\n",
    "shared"
   ]
  },
  {
   "cell_type": "code",
   "execution_count": 64,
   "id": "14c71861",
   "metadata": {},
   "outputs": [
    {
     "data": {
      "text/plain": [
       "0.891505"
      ]
     },
     "execution_count": 64,
     "metadata": {},
     "output_type": "execute_result"
    }
   ],
   "source": [
    "# What if it's 40 people?\n",
    "\n",
    "outcomes = range(0,365)\n",
    "n_people = 40\n",
    "n_simulations = 1_000_000\n",
    "\n",
    "room = np.random.choice(outcomes, size = (n_simulations, n_people))\n",
    "same_bday =  [len(np.unique(room[n])) for n in range(0, n_simulations - 1) if len(np.unique(room[n])) < 40]\n",
    "shared = len(same_bday) / n_simulations\n",
    "shared"
   ]
  },
  {
   "cell_type": "code",
   "execution_count": null,
   "id": "4920f1fd",
   "metadata": {},
   "outputs": [],
   "source": [
    "\n",
    "# Bonus Exercises\n"
   ]
  },
  {
   "cell_type": "code",
   "execution_count": null,
   "id": "3199fa9f",
   "metadata": {},
   "outputs": [],
   "source": [
    "# Mage Duel!\n",
    "\n",
    "# Let's use what we've learned to play a mage duel!\n",
    "\n",
    "# Imagine your wizard has 6d4 health points and you have spells that do 6d4 damage. \"6d4\" means rolling six 4-sided dice and summing the result.\n",
    "\n",
    "# Your opposing mage has 4d6 health points and spells that do 4d6. \"4d6\" means rolling four six-sided dice and summing the result.\n",
    "\n",
    "# Exercises\n",
    "\n",
    "# Simulate mage duels to answer who is the more powerful mage?\n",
    "\n",
    "# Before running simulations, do you have a hypothesis of which mage will win? Do you have a hunch? Write it down. This is your first exercise.\n",
    "# Simulate 10 mage duels. Is there a clear winner? Run that 10 duel simulation again. Was the answer similar?\n",
    "# Do the results change much at 100 duels?\n",
    "# Now, simulate 10,000 mage duels. Is there a clear winner?"
   ]
  },
  {
   "cell_type": "code",
   "execution_count": null,
   "id": "05746cf7",
   "metadata": {},
   "outputs": [],
   "source": []
  },
  {
   "cell_type": "code",
   "execution_count": null,
   "id": "547fc23a",
   "metadata": {},
   "outputs": [],
   "source": [
    "# Simulating Chuck a Luck\n",
    "\n",
    "# \"Pay a Buck and Chuck-a-Luck\"\n",
    "\n",
    "# Chuck-a-Luck is a game of chance often associated with charity fundraisers or street gambling rather than casinos.\n",
    "\n",
    "# To play, the House says, \"Pay $1, pick a number and roll 3 dice. If any of those dice come up, you'll win $1, $2, or $3\".\n",
    "\n",
    "# \"It's even odds\", they say, \"because the probability of rolling your number is 1/6 and you get to roll 3 dice! 1/6 + 1/6 + 1/6 is 3/6 which is 1/2\".\n",
    "# You know better than this, so it's time to make an experiment to approximate the actual risk and payoff...\n",
    "\n",
    "# Rules:\n",
    "\n",
    "# The player pays $1 to play and picks a number.\n",
    "\n",
    "# The House rolls 3 dice at once.\n",
    "\n",
    "# Payouts:\n",
    "\n",
    "# $3 if all three dice match the chosen number\n",
    "\n",
    "# $2 if exactly two dice match the chosen number\n",
    "\n",
    "# $1 is exactly one of the dice matches the chosen number\n",
    "\n",
    "# If none of the dice match the player's chosen number, then the House keeps the $1.\n",
    "\n",
    "# Exercises:\n",
    "\n",
    "# What are your chances of getting an outcome payout of $2? (where we earned $3 on the $1 ante)\n",
    "\n",
    "# What are your chances of getting an payout of $1?\n",
    "\n",
    "# What are your chances of getting a payout of $0 where you ante $1 and win $1?\n",
    "\n",
    "# What are your chances of getting a payout of -$1 where you ante up, but don't win anything?\n",
    "\n",
    "# What is the average cost/gain per game? (think of averaging the total payout calculation across all simulations)\n",
    "\n",
    "# Chart out a histogram of all the outcomes of those 1,000,000 games\n",
    "\n",
    "# Is this really a fair game of 1/6 + 1/6 + 1/6 odds?\n",
    "\n",
    "# If you play 1,000,000 games in a row, what are your winnings/losses?"
   ]
  },
  {
   "cell_type": "code",
   "execution_count": null,
   "id": "1a374292",
   "metadata": {},
   "outputs": [],
   "source": []
  }
 ],
 "metadata": {
  "kernelspec": {
   "display_name": "Python 3",
   "language": "python",
   "name": "python3"
  }
 },
 "nbformat": 4,
 "nbformat_minor": 5
}
